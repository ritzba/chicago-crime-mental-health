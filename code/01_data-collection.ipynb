{
 "cells": [
  {
   "cell_type": "code",
   "execution_count": 1,
   "id": "ae026218",
   "metadata": {},
   "outputs": [],
   "source": [
    "# import libraries\n",
    "\n",
    "import pandas as pd\n",
    "import numpy as np\n",
    "\n",
    "import json\n",
    "import requests\n",
    "import time"
   ]
  },
  {
   "cell_type": "markdown",
   "id": "91be2383",
   "metadata": {},
   "source": [
    "## Court Data"
   ]
  },
  {
   "cell_type": "code",
   "execution_count": null,
   "id": "a380786e",
   "metadata": {},
   "outputs": [],
   "source": [
    "# arrests\n",
    "\n",
    "intake = []\n",
    "intake_url = 'https://datacatalog.cookcountyil.gov/resource/3k7z-hchi.json'\n",
    "\n",
    "for _ in range(12):\n",
    "    offset = 0\n",
    "    res = requests.get(f'{disp_url}?$limit=50000&$offset={offset}&')\n",
    "    print(res.status_code) \n",
    "    try:\n",
    "        cases = pd.DataFrame(res.json())\n",
    "        intake.append(cases)\n",
    "        offset += 50_000\n",
    "        time.sleep(1)\n",
    "    except:\n",
    "        pass\n",
    "intake = pd.concat(intake,axis = 0)\n",
    "intake.to_csv('../data/intake.csv',index=False)"
   ]
  },
  {
   "cell_type": "code",
   "execution_count": null,
   "id": "80fef696",
   "metadata": {},
   "outputs": [],
   "source": [
    "# charges\n",
    "\n",
    "init = []\n",
    "init_url = 'https://datacatalog.cookcountyil.gov/resource/7mck-ehwz.json'\n",
    "\n",
    "for _ in range(24):\n",
    "    offset = 0\n",
    "    res = requests.get(f'{disp_url}?$limit=50000&$offset={offset}&')\n",
    "    print(res.status_code) \n",
    "    try:\n",
    "        cases = pd.DataFrame(res.json())\n",
    "        init.append(cases)\n",
    "        offset += 50_000\n",
    "        time.sleep(1)\n",
    "    except:\n",
    "        pass\n",
    "init = pd.concat(init,axis = 0)\n",
    "init.to_csv('../data/init.csv',index=False)"
   ]
  },
  {
   "cell_type": "code",
   "execution_count": null,
   "id": "92eae2bb",
   "metadata": {},
   "outputs": [],
   "source": [
    "# all criminal dispositions\n",
    "\n",
    "disp = []\n",
    "disp_url = 'https://datacatalog.cookcountyil.gov/resource/apwk-dzx8.json'\n",
    "\n",
    "for _ in range(20):\n",
    "    offset = 0\n",
    "    res = requests.get(f'{disp_url}?$limit=50000&$offset={offset}&')\n",
    "    print(res.status_code) \n",
    "    try:\n",
    "        cases = pd.DataFrame(res.json())\n",
    "        disp.append(cases)\n",
    "        offset += 50_000\n",
    "        time.sleep(1)\n",
    "    except:\n",
    "        pass\n",
    "disp = pd.concat(disp,axis = 0)\n",
    "disp.to_csv('../data/disp.csv',index=False)"
   ]
  },
  {
   "cell_type": "code",
   "execution_count": null,
   "id": "225d74a2",
   "metadata": {},
   "outputs": [],
   "source": [
    "# diversion cases\n",
    "\n",
    "div = pd.read_json('https://datacatalog.cookcountyil.gov/resource/gpu3-5dfh.json?$limit=30000&$offset=0&')\n",
    "div.to_pickle('../data/div.pkl',compression='zip')cd"
   ]
  },
  {
   "cell_type": "code",
   "execution_count": null,
   "id": "14e41aa2",
   "metadata": {},
   "outputs": [],
   "source": [
    "# criminal sentencing\n",
    "\n",
    "sent = []\n",
    "sent_url = 'https://datacatalog.cookcountyil.gov/resource/tg8v-tm6u.json'\n",
    "\n",
    "for _ in range(7):\n",
    "    offset = 0\n",
    "    res = requests.get(f'{disp_url}?$limit=50000&$offset={offset}&')\n",
    "    print(res.status_code) \n",
    "    try:\n",
    "        cases = pd.DataFrame(res.json())\n",
    "        sent.append(cases)\n",
    "        offset += 50_000\n",
    "        time.sleep(1)\n",
    "    except:\n",
    "        pass\n",
    "sent = pd.concat(sent,axis = 0)\n",
    "sent.to_csv('../data/sent.csv',index=False)"
   ]
  },
  {
   "cell_type": "markdown",
   "id": "625beb8a",
   "metadata": {},
   "source": [
    "## Overall Crime"
   ]
  },
  {
   "cell_type": "code",
   "execution_count": null,
   "id": "a09bf904",
   "metadata": {},
   "outputs": [],
   "source": [
    "# all criminal incidents\n",
    "\n",
    "output = []\n",
    "crime_url = 'https://data.cityofchicago.org/resource/crimes.json'\n",
    "\n",
    "for _ in range(20):\n",
    "    offset = 0\n",
    "    res = requests.get(f'{crime_url}?$limit=50000&$offset={offset}&')\n",
    "    print(res.status_code) \n",
    "    try:\n",
    "        output.append(pd.DataFrame(res.json()))\n",
    "        offset += 50_000\n",
    "        time.sleep(1)\n",
    "    except:\n",
    "        pass\n",
    "crime.to_csv('../data/crime.csv',index=False)"
   ]
  },
  {
   "cell_type": "markdown",
   "id": "1d925903",
   "metadata": {},
   "source": [
    "## Health Data"
   ]
  },
  {
   "cell_type": "code",
   "execution_count": null,
   "id": "52fc494f",
   "metadata": {},
   "outputs": [],
   "source": [
    "# MH clinic locations\n",
    "\n",
    "res = requests.get('https://data.cityofchicago.org/resource/vcv6-95ym.json')\n",
    "clinics = pd.DataFrame(res.json())\n",
    "clinics.to_csv('../data/clinics.csv',index=False)"
   ]
  },
  {
   "cell_type": "code",
   "execution_count": null,
   "id": "0073ecb5",
   "metadata": {},
   "outputs": [],
   "source": [
    "# health data\n",
    "\n",
    "# set of topics\n",
    "topics = ['HDBHR','HDSZR','HCSBHP','HDDRR','YRDEP','YRSUP'\n",
    "         'HDMDR','MEODR','HCSSPDP']\n",
    "\n",
    "# iterate over topics\n",
    "for topic in topics:\n",
    "\n",
    "    # set up list for outputs \n",
    "    output = []\n",
    "\n",
    "    # find what data is available\n",
    "    res = requests.get(f'https://chicagohealthatlas.org/api/v1/coverage/{topic}')\n",
    "\n",
    "    # iterate over available data for topic\n",
    "    for i in range(len(res.json()['coverages']['place'])):\n",
    "        \n",
    "        try:\n",
    "            # available population groups\n",
    "            pop = res.json()['coverages']['place'][i]['population']\n",
    "\n",
    "            # available time periods\n",
    "            period = res.json()['coverages']['place'][i]['period']\n",
    "\n",
    "            # api request for topic, pop, and period \n",
    "            url = f'https://chicagohealthatlas.org/api/v1/data/?topic={topic}&population={pop}&period={period}'\n",
    "    \n",
    "            # append results\n",
    "            output.append(pd.DataFrame.from_dict(requests.get(url).json()['results']))\n",
    "            \n",
    "            print((topic,pop,period))\n",
    "        \n",
    "            time.sleep(1)\n",
    "        except:\n",
    "            pass\n",
    "        \n",
    "    # concatenate into single df for topic and save as csv\n",
    "    pd.concat(output,axis=0).to_csv(f'../data/{topic}.csv',index=False)"
   ]
  }
 ],
 "metadata": {
  "kernelspec": {
   "display_name": "Python 3 (ipykernel)",
   "language": "python",
   "name": "python3"
  },
  "language_info": {
   "codemirror_mode": {
    "name": "ipython",
    "version": 3
   },
   "file_extension": ".py",
   "mimetype": "text/x-python",
   "name": "python",
   "nbconvert_exporter": "python",
   "pygments_lexer": "ipython3",
   "version": "3.9.16"
  }
 },
 "nbformat": 4,
 "nbformat_minor": 5
}
