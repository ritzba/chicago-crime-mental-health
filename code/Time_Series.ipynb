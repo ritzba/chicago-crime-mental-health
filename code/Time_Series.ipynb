{
 "cells": [
  {
   "cell_type": "code",
   "execution_count": 77,
   "id": "805c39c6-a974-403e-8d87-275c354eaa48",
   "metadata": {},
   "outputs": [],
   "source": [
    "import pandas as pd\n",
    "import numpy as np\n",
    "import matplotlib.pyplot as plt\n",
    "from sklearn.model_selection import train_test_split\n",
    "from statsmodels.tsa.api import VAR\n",
    "from statsmodels.tsa.seasonal import seasonal_decompose\n",
    "from statsmodels.graphics.tsaplots import plot_acf\n",
    "\n",
    "%matplotlib inline\n",
    "\n",
    "# This will allow us to avoid a FutureWarning when plotting.\n",
    "from pandas.plotting import register_matplotlib_converters\n",
    "register_matplotlib_converters()"
   ]
  },
  {
   "cell_type": "code",
   "execution_count": 78,
   "id": "f152678d-a030-4800-84fe-d5f40c112604",
   "metadata": {},
   "outputs": [],
   "source": [
    "#Import Health Crime Data\n",
    "df_CZA = pd.read_csv('../data/CZA.csv')\n",
    "df_CZB = pd.read_csv('../data/CZB.csv') \n",
    "df_CZD = pd.read_csv('../data/CZD.csv') \n",
    "df_CZH = pd.read_csv('../data/CZH.csv')\n",
    "df_CZL = pd.read_csv('../data/CZL.csv') \n",
    "df_CZM = pd.read_csv('../data/CZM.csv') \n",
    "df_CZO = pd.read_csv('../data/CZO.csv')\n",
    "df_CZP = pd.read_csv('../data/CZP.csv')\n",
    "df_CZR = pd.read_csv('../data/CZR.csv')\n",
    "df_CZS = pd.read_csv('../data/CZS.csv')\n",
    "df_CZT = pd.read_csv('../data/CZT.csv')\n",
    "df_CZU = pd.read_csv('../data/CZU.csv')\n",
    "df_CZV = pd.read_csv('../data/CZV.csv') "
   ]
  },
  {
   "cell_type": "markdown",
   "id": "14222cf7-2af7-457d-8513-c3c48f02ac98",
   "metadata": {},
   "source": [
    "### CZA"
   ]
  },
  {
   "cell_type": "code",
   "execution_count": 79,
   "id": "c69fa472-8458-444f-bdca-0d8d02d19614",
   "metadata": {},
   "outputs": [],
   "source": [
    "#Getting Rid of P and SE Columns, not needed for TS\n",
    "df_CZA = df_CZA.drop(columns=['p', 'se', 'a'])"
   ]
  },
  {
   "cell_type": "code",
   "execution_count": 80,
   "id": "09e03c67-6389-41d2-8123-6d44c4fb1454",
   "metadata": {},
   "outputs": [],
   "source": [
    "#Making a new dataframe, removing dates with ranges\n",
    "for i in range(0, len(df_CZA)):\n",
    "    if len(df_CZA['d'][i]) > 4:\n",
    "        df_CZA.drop(i, inplace=True)"
   ]
  },
  {
   "cell_type": "code",
   "execution_count": 81,
   "id": "a5bd193e-d3a2-49e1-a228-cdb0b71ffdcb",
   "metadata": {
    "tags": []
   },
   "outputs": [],
   "source": [
    "df_CZA.reset_index(inplace=True)"
   ]
  },
  {
   "cell_type": "code",
   "execution_count": 82,
   "id": "cf4fb6cb-f145-4d04-9633-fd3941b7c295",
   "metadata": {},
   "outputs": [],
   "source": [
    "#Looping to take the sum of each year\n",
    "t_2022 = 0\n",
    "t_2021 = 0\n",
    "t_2020 = 0\n",
    "t_2019 = 0\n",
    "t_2018 = 0\n",
    "t_2017 = 0\n",
    "t_2016 = 0\n",
    "for i in range(0, len(df_CZA)):\n",
    "    if df_CZA['d'][i] == '2022':\n",
    "        t_2022 += df_CZA['v'][i]\n",
    "    elif df_CZA['d'][i] == '2021':\n",
    "        t_2021 += df_CZA['v'][i]\n",
    "    elif df_CZA['d'][i] == '2020':\n",
    "        t_2020 += df_CZA['v'][i]\n",
    "    elif df_CZA['d'][i] == '2019':\n",
    "        t_2019 += df_CZA['v'][i]\n",
    "    elif df_CZA['d'][i] == '2018':\n",
    "        t_2018 += df_CZA['v'][i]\n",
    "    elif df_CZA['d'][i] == '2017':\n",
    "        t_2017 += df_CZA['v'][i]\n",
    "    elif df_CZA['d'][i] == '2016':\n",
    "        t_2016 += df_CZA['v'][i]"
   ]
  },
  {
   "cell_type": "code",
   "execution_count": 83,
   "id": "26843f61-d7ec-41c9-b8e8-4c2bd35d8924",
   "metadata": {},
   "outputs": [],
   "source": [
    "cza_ts = pd.DataFrame()\n",
    "cza_ts = df_CZA"
   ]
  },
  {
   "cell_type": "code",
   "execution_count": 84,
   "id": "bf478fa6-2fa1-4dae-b65c-9b0fa73f90a9",
   "metadata": {},
   "outputs": [],
   "source": [
    "#Gets rid of dates that were multiples, to later be replaced by a sum\n",
    "for i in range(0, len(cza_ts)):\n",
    "    if cza_ts['d'][i] == '2022':\n",
    "        cza_ts.drop(i, inplace=True)\n",
    "    elif cza_ts['d'][i] == '2021':\n",
    "        cza_ts.drop(i, inplace=True)\n",
    "    elif cza_ts['d'][i] == '2020':\n",
    "        cza_ts.drop(i, inplace=True)\n",
    "    elif cza_ts['d'][i] == '2019':\n",
    "        cza_ts.drop(i, inplace=True)\n",
    "    elif cza_ts['d'][i] == '2018':\n",
    "        cza_ts.drop(i, inplace=True)\n",
    "    elif cza_ts['d'][i] == '2017':\n",
    "        cza_ts.drop(i, inplace=True)\n",
    "    elif cza_ts['d'][i] == '2016':\n",
    "        cza_ts.drop(i, inplace=True)"
   ]
  },
  {
   "cell_type": "code",
   "execution_count": 85,
   "id": "f506c3fb-040b-44f6-bb78-bf2b22298f0c",
   "metadata": {},
   "outputs": [
    {
     "data": {
      "text/html": [
       "<div>\n",
       "<style scoped>\n",
       "    .dataframe tbody tr th:only-of-type {\n",
       "        vertical-align: middle;\n",
       "    }\n",
       "\n",
       "    .dataframe tbody tr th {\n",
       "        vertical-align: top;\n",
       "    }\n",
       "\n",
       "    .dataframe thead th {\n",
       "        text-align: right;\n",
       "    }\n",
       "</style>\n",
       "<table border=\"1\" class=\"dataframe\">\n",
       "  <thead>\n",
       "    <tr style=\"text-align: right;\">\n",
       "      <th></th>\n",
       "      <th>index</th>\n",
       "      <th>Unnamed: 0</th>\n",
       "      <th>g</th>\n",
       "      <th>l</th>\n",
       "      <th>d</th>\n",
       "      <th>v</th>\n",
       "    </tr>\n",
       "  </thead>\n",
       "  <tbody>\n",
       "    <tr>\n",
       "      <th>5731</th>\n",
       "      <td>9613</td>\n",
       "      <td>0</td>\n",
       "      <td>1714000</td>\n",
       "      <td>place</td>\n",
       "      <td>2015</td>\n",
       "      <td>13094.0</td>\n",
       "    </tr>\n",
       "    <tr>\n",
       "      <th>5732</th>\n",
       "      <td>10550</td>\n",
       "      <td>0</td>\n",
       "      <td>1714000</td>\n",
       "      <td>place</td>\n",
       "      <td>2014</td>\n",
       "      <td>12532.0</td>\n",
       "    </tr>\n",
       "    <tr>\n",
       "      <th>5733</th>\n",
       "      <td>11487</td>\n",
       "      <td>0</td>\n",
       "      <td>1714000</td>\n",
       "      <td>place</td>\n",
       "      <td>2013</td>\n",
       "      <td>12117.0</td>\n",
       "    </tr>\n",
       "    <tr>\n",
       "      <th>5734</th>\n",
       "      <td>12424</td>\n",
       "      <td>0</td>\n",
       "      <td>1714000</td>\n",
       "      <td>place</td>\n",
       "      <td>2012</td>\n",
       "      <td>12277.0</td>\n",
       "    </tr>\n",
       "    <tr>\n",
       "      <th>5735</th>\n",
       "      <td>13361</td>\n",
       "      <td>0</td>\n",
       "      <td>1714000</td>\n",
       "      <td>place</td>\n",
       "      <td>2011</td>\n",
       "      <td>12409.0</td>\n",
       "    </tr>\n",
       "  </tbody>\n",
       "</table>\n",
       "</div>"
      ],
      "text/plain": [
       "      index  Unnamed: 0        g      l     d        v\n",
       "5731   9613           0  1714000  place  2015  13094.0\n",
       "5732  10550           0  1714000  place  2014  12532.0\n",
       "5733  11487           0  1714000  place  2013  12117.0\n",
       "5734  12424           0  1714000  place  2012  12277.0\n",
       "5735  13361           0  1714000  place  2011  12409.0"
      ]
     },
     "execution_count": 85,
     "metadata": {},
     "output_type": "execute_result"
    }
   ],
   "source": [
    "cza_ts.head()"
   ]
  },
  {
   "cell_type": "code",
   "execution_count": 86,
   "id": "f3cc184f-f648-4e29-b407-765100644ce0",
   "metadata": {
    "tags": []
   },
   "outputs": [
    {
     "data": {
      "text/plain": [
       "2015    1\n",
       "1999    1\n",
       "1986    1\n",
       "1987    1\n",
       "1988    1\n",
       "1989    1\n",
       "1990    1\n",
       "1991    1\n",
       "1992    1\n",
       "1993    1\n",
       "1994    1\n",
       "1995    1\n",
       "1996    1\n",
       "1997    1\n",
       "1998    1\n",
       "2000    1\n",
       "2014    1\n",
       "2001    1\n",
       "2002    1\n",
       "2003    1\n",
       "2004    1\n",
       "2005    1\n",
       "2006    1\n",
       "2007    1\n",
       "2008    1\n",
       "2009    1\n",
       "2010    1\n",
       "2011    1\n",
       "2012    1\n",
       "2013    1\n",
       "1985    1\n",
       "Name: d, dtype: int64"
      ]
     },
     "execution_count": 86,
     "metadata": {},
     "output_type": "execute_result"
    }
   ],
   "source": [
    "df_CZA['d'].value_counts()"
   ]
  },
  {
   "cell_type": "code",
   "execution_count": 87,
   "id": "8e480969-dfd6-4863-ab07-911828a1f682",
   "metadata": {},
   "outputs": [],
   "source": [
    "cza_ts.drop(columns=['index', 'g', 'l'], inplace=True)"
   ]
  },
  {
   "cell_type": "code",
   "execution_count": 88,
   "id": "b06573f3-1e98-4f55-a1d6-bfd40fda6039",
   "metadata": {},
   "outputs": [
    {
     "data": {
      "text/html": [
       "<div>\n",
       "<style scoped>\n",
       "    .dataframe tbody tr th:only-of-type {\n",
       "        vertical-align: middle;\n",
       "    }\n",
       "\n",
       "    .dataframe tbody tr th {\n",
       "        vertical-align: top;\n",
       "    }\n",
       "\n",
       "    .dataframe thead th {\n",
       "        text-align: right;\n",
       "    }\n",
       "</style>\n",
       "<table border=\"1\" class=\"dataframe\">\n",
       "  <thead>\n",
       "    <tr style=\"text-align: right;\">\n",
       "      <th></th>\n",
       "      <th>Unnamed: 0</th>\n",
       "      <th>d</th>\n",
       "      <th>v</th>\n",
       "    </tr>\n",
       "  </thead>\n",
       "  <tbody>\n",
       "    <tr>\n",
       "      <th>5731</th>\n",
       "      <td>0</td>\n",
       "      <td>2015</td>\n",
       "      <td>13094.0</td>\n",
       "    </tr>\n",
       "    <tr>\n",
       "      <th>5732</th>\n",
       "      <td>0</td>\n",
       "      <td>2014</td>\n",
       "      <td>12532.0</td>\n",
       "    </tr>\n",
       "    <tr>\n",
       "      <th>5733</th>\n",
       "      <td>0</td>\n",
       "      <td>2013</td>\n",
       "      <td>12117.0</td>\n",
       "    </tr>\n",
       "    <tr>\n",
       "      <th>5734</th>\n",
       "      <td>0</td>\n",
       "      <td>2012</td>\n",
       "      <td>12277.0</td>\n",
       "    </tr>\n",
       "    <tr>\n",
       "      <th>5735</th>\n",
       "      <td>0</td>\n",
       "      <td>2011</td>\n",
       "      <td>12409.0</td>\n",
       "    </tr>\n",
       "  </tbody>\n",
       "</table>\n",
       "</div>"
      ],
      "text/plain": [
       "      Unnamed: 0     d        v\n",
       "5731           0  2015  13094.0\n",
       "5732           0  2014  12532.0\n",
       "5733           0  2013  12117.0\n",
       "5734           0  2012  12277.0\n",
       "5735           0  2011  12409.0"
      ]
     },
     "execution_count": 88,
     "metadata": {},
     "output_type": "execute_result"
    }
   ],
   "source": [
    "cza_ts.head()"
   ]
  },
  {
   "cell_type": "code",
   "execution_count": 89,
   "id": "32b211bb-5964-416c-b79f-14ae59bf35f4",
   "metadata": {},
   "outputs": [],
   "source": [
    "row_2016 = {'d': '2016', 'v': t_2016}\n",
    "row_2017 = {'d': '2017', 'v': t_2017}\n",
    "row_2018 = {'d': '2018', 'v': t_2018}\n",
    "row_2019 = {'d': '2019', 'v': t_2019}\n",
    "row_2020 = {'d': '2020', 'v': t_2020}\n",
    "row_2021 = {'d': '2021', 'v': t_2021}\n",
    "row_2022 = {'d': '2022', 'v': t_2022}"
   ]
  },
  {
   "cell_type": "code",
   "execution_count": 90,
   "id": "f7d8a1a6-0d09-4850-aa23-cd34f8131a42",
   "metadata": {},
   "outputs": [
    {
     "name": "stderr",
     "output_type": "stream",
     "text": [
      "C:\\Users\\Finley & Stein\\AppData\\Local\\Temp\\ipykernel_6096\\1562274710.py:1: FutureWarning: The frame.append method is deprecated and will be removed from pandas in a future version. Use pandas.concat instead.\n",
      "  cza_ts = cza_ts.append(row_2016, ignore_index=True)\n",
      "C:\\Users\\Finley & Stein\\AppData\\Local\\Temp\\ipykernel_6096\\1562274710.py:2: FutureWarning: The frame.append method is deprecated and will be removed from pandas in a future version. Use pandas.concat instead.\n",
      "  cza_ts = cza_ts.append(row_2017, ignore_index=True)\n",
      "C:\\Users\\Finley & Stein\\AppData\\Local\\Temp\\ipykernel_6096\\1562274710.py:3: FutureWarning: The frame.append method is deprecated and will be removed from pandas in a future version. Use pandas.concat instead.\n",
      "  cza_ts = cza_ts.append(row_2018, ignore_index=True)\n",
      "C:\\Users\\Finley & Stein\\AppData\\Local\\Temp\\ipykernel_6096\\1562274710.py:4: FutureWarning: The frame.append method is deprecated and will be removed from pandas in a future version. Use pandas.concat instead.\n",
      "  cza_ts = cza_ts.append(row_2019, ignore_index=True)\n",
      "C:\\Users\\Finley & Stein\\AppData\\Local\\Temp\\ipykernel_6096\\1562274710.py:5: FutureWarning: The frame.append method is deprecated and will be removed from pandas in a future version. Use pandas.concat instead.\n",
      "  cza_ts = cza_ts.append(row_2020, ignore_index=True)\n",
      "C:\\Users\\Finley & Stein\\AppData\\Local\\Temp\\ipykernel_6096\\1562274710.py:6: FutureWarning: The frame.append method is deprecated and will be removed from pandas in a future version. Use pandas.concat instead.\n",
      "  cza_ts = cza_ts.append(row_2021, ignore_index=True)\n",
      "C:\\Users\\Finley & Stein\\AppData\\Local\\Temp\\ipykernel_6096\\1562274710.py:7: FutureWarning: The frame.append method is deprecated and will be removed from pandas in a future version. Use pandas.concat instead.\n",
      "  cza_ts = cza_ts.append(row_2022, ignore_index=True)\n"
     ]
    }
   ],
   "source": [
    "cza_ts = cza_ts.append(row_2016, ignore_index=True)\n",
    "cza_ts = cza_ts.append(row_2017, ignore_index=True)\n",
    "cza_ts = cza_ts.append(row_2018, ignore_index=True)\n",
    "cza_ts = cza_ts.append(row_2019, ignore_index=True)\n",
    "cza_ts = cza_ts.append(row_2020, ignore_index=True)\n",
    "cza_ts = cza_ts.append(row_2021, ignore_index=True)\n",
    "cza_ts = cza_ts.append(row_2022, ignore_index=True)"
   ]
  },
  {
   "cell_type": "code",
   "execution_count": 91,
   "id": "d77b76b7-33fd-494b-af5e-6ce6f0c7d0ce",
   "metadata": {},
   "outputs": [],
   "source": [
    "#Convert date to datetime\n",
    "cza_ts['d'] = pd.to_datetime(cza_ts['d'])"
   ]
  },
  {
   "cell_type": "code",
   "execution_count": 92,
   "id": "e3a37d12-6c09-4e27-94d3-3d567acd93c6",
   "metadata": {},
   "outputs": [],
   "source": [
    "cza_ts.set_index('d', inplace = True)"
   ]
  },
  {
   "cell_type": "code",
   "execution_count": 93,
   "id": "b2172f4c-2b3b-4d05-b8df-42e72da8bebf",
   "metadata": {},
   "outputs": [
    {
     "data": {
      "text/html": [
       "<div>\n",
       "<style scoped>\n",
       "    .dataframe tbody tr th:only-of-type {\n",
       "        vertical-align: middle;\n",
       "    }\n",
       "\n",
       "    .dataframe tbody tr th {\n",
       "        vertical-align: top;\n",
       "    }\n",
       "\n",
       "    .dataframe thead th {\n",
       "        text-align: right;\n",
       "    }\n",
       "</style>\n",
       "<table border=\"1\" class=\"dataframe\">\n",
       "  <thead>\n",
       "    <tr style=\"text-align: right;\">\n",
       "      <th></th>\n",
       "      <th>Unnamed: 0</th>\n",
       "      <th>v</th>\n",
       "    </tr>\n",
       "    <tr>\n",
       "      <th>d</th>\n",
       "      <th></th>\n",
       "      <th></th>\n",
       "    </tr>\n",
       "  </thead>\n",
       "  <tbody>\n",
       "    <tr>\n",
       "      <th>1985-01-01</th>\n",
       "      <td>0.0</td>\n",
       "      <td>29104.0</td>\n",
       "    </tr>\n",
       "    <tr>\n",
       "      <th>1986-01-01</th>\n",
       "      <td>0.0</td>\n",
       "      <td>33537.0</td>\n",
       "    </tr>\n",
       "    <tr>\n",
       "      <th>1987-01-01</th>\n",
       "      <td>0.0</td>\n",
       "      <td>34180.0</td>\n",
       "    </tr>\n",
       "    <tr>\n",
       "      <th>1988-01-01</th>\n",
       "      <td>0.0</td>\n",
       "      <td>35994.0</td>\n",
       "    </tr>\n",
       "    <tr>\n",
       "      <th>1989-01-01</th>\n",
       "      <td>0.0</td>\n",
       "      <td>37621.0</td>\n",
       "    </tr>\n",
       "  </tbody>\n",
       "</table>\n",
       "</div>"
      ],
      "text/plain": [
       "            Unnamed: 0        v\n",
       "d                              \n",
       "1985-01-01         0.0  29104.0\n",
       "1986-01-01         0.0  33537.0\n",
       "1987-01-01         0.0  34180.0\n",
       "1988-01-01         0.0  35994.0\n",
       "1989-01-01         0.0  37621.0"
      ]
     },
     "execution_count": 93,
     "metadata": {},
     "output_type": "execute_result"
    }
   ],
   "source": [
    "cza_ts.sort_index(inplace=True)\n",
    "cza_ts.head()"
   ]
  },
  {
   "cell_type": "code",
   "execution_count": 94,
   "id": "800e733c-d4c1-478d-abdd-babbc73a8fcc",
   "metadata": {},
   "outputs": [],
   "source": [
    "cza_ts['v_a'] = cza_ts['v']\n",
    "cza_ts.drop(columns='v', inplace=True)"
   ]
  },
  {
   "cell_type": "code",
   "execution_count": 95,
   "id": "5155c1b4-8248-4786-a1fa-38945dee27ba",
   "metadata": {},
   "outputs": [],
   "source": [
    "# Function called plot_series that takes in \n",
    "# a dataframe, a list of column names to plot, the \n",
    "# plot title and the axis labels as arguments,\n",
    "# then displays the line plot with a figure size\n",
    "# of 18 horizontal inches by 9 vertical inches.\n",
    "\n",
    "# Matthew Garton - BOS\n",
    "\n",
    "def plot_series(df, cols=None, title='Title', xlab=None, ylab=None):\n",
    "    \n",
    "    # Set figure size to be (18, 9).\n",
    "    plt.figure(figsize=(18,9))\n",
    "    \n",
    "    # Iterate through each column name.\n",
    "    for col in cols:\n",
    "        \n",
    "        # Generate a line plot of the column name.\n",
    "        # You only have to specify Y, since our\n",
    "        # index will be a datetime index.\n",
    "        plt.plot(df[col])\n",
    "        \n",
    "    # Generate title and labels.\n",
    "    plt.title(title, fontsize=26)\n",
    "    plt.xlabel(xlab, fontsize=20)\n",
    "    plt.ylabel(ylab, fontsize=20)\n",
    "    \n",
    "    # Enlarge tick marks.\n",
    "    plt.xticks(fontsize=18)\n",
    "    plt.yticks(fontsize=18);"
   ]
  },
  {
   "cell_type": "code",
   "execution_count": 96,
   "id": "c34a5ab8-d474-410c-81bf-cce066065a0a",
   "metadata": {},
   "outputs": [
    {
     "data": {
      "image/png": "[encoded data removed]",
      "text/plain": [
       "<Figure size 1800x900 with 1 Axes>"
      ]
     },
     "metadata": {},
     "output_type": "display_data"
    }
   ],
   "source": [
    "plot_series(cza_ts, cols=['v_a'], title = 'Change in people in CZA') "
   ]
  },
  {
   "cell_type": "code",
   "execution_count": 97,
   "id": "02a5470d-df81-471b-85e4-5f6a855e1b40",
   "metadata": {},
   "outputs": [
    {
     "data": {
      "image/png": "[encoded data removed]",
      "text/plain": [
       "<Figure size 640x480 with 4 Axes>"
      ]
     },
     "metadata": {},
     "output_type": "display_data"
    }
   ],
   "source": [
    "# Decompose time series into trend, seasonal, and residual components.\n",
    "decomp = seasonal_decompose(cza_ts['v_a'])\n",
    "\n",
    "# Plot the decomposed time series.\n",
    "decomp.plot();\n"
   ]
  },
  {
   "cell_type": "code",
   "execution_count": 98,
   "id": "4f9275fd-e1b1-42cc-83f8-05129ee7cf2f",
   "metadata": {},
   "outputs": [],
   "source": [
    "# Generate a dataframe with our CO2 data that\n",
    "# looks like the above dataframe.\n",
    "\n",
    "#cza_ts['CZA_lag_1'] = cza_ts['v_a'].shift(1)\n",
    "#cza_ts['CZA_lag_2'] = cza_ts['v_a'].shift(2)\n",
    "#cza_ts['CZA_lag_3'] = cza_ts['v_a'].shift(3)"
   ]
  },
  {
   "cell_type": "code",
   "execution_count": 99,
   "id": "892d8cc5-e16c-442c-95cd-2c2dc5a9a733",
   "metadata": {},
   "outputs": [],
   "source": [
    "#cza_ts.corr()"
   ]
  },
  {
   "cell_type": "code",
   "execution_count": 100,
   "id": "fcfcb998-d3a4-4fef-b6ef-d67c6d9d7ad7",
   "metadata": {},
   "outputs": [],
   "source": [
    "#ACF Plot\n",
    "#plot_acf(cza_ts['v_a'], lags=20);"
   ]
  },
  {
   "cell_type": "code",
   "execution_count": 101,
   "id": "41c0bdd1-056a-46bb-b2b3-f7f84e58423e",
   "metadata": {},
   "outputs": [],
   "source": [
    "# Import the partial autocorrelation function (PACF) plot.\n",
    "#from statsmodels.graphics.tsaplots import plot_pacf"
   ]
  },
  {
   "cell_type": "code",
   "execution_count": 102,
   "id": "2f418ae7-d08a-4105-970f-d32ad8d20bff",
   "metadata": {},
   "outputs": [],
   "source": [
    "#PCAF Plot\n",
    "\n",
    "#plot_pacf(cza_ts['v_a'], lags=15);"
   ]
  },
  {
   "cell_type": "markdown",
   "id": "3d484f6a-512c-43ba-bd41-2e73e53f8e12",
   "metadata": {},
   "source": [
    "### CZB"
   ]
  },
  {
   "cell_type": "code",
   "execution_count": 103,
   "id": "1b1fdfd4-f8e1-4db1-9320-72d421e05867",
   "metadata": {},
   "outputs": [
    {
     "data": {
      "text/html": [
       "<div>\n",
       "<style scoped>\n",
       "    .dataframe tbody tr th:only-of-type {\n",
       "        vertical-align: middle;\n",
       "    }\n",
       "\n",
       "    .dataframe tbody tr th {\n",
       "        vertical-align: top;\n",
       "    }\n",
       "\n",
       "    .dataframe thead th {\n",
       "        text-align: right;\n",
       "    }\n",
       "</style>\n",
       "<table border=\"1\" class=\"dataframe\">\n",
       "  <thead>\n",
       "    <tr style=\"text-align: right;\">\n",
       "      <th></th>\n",
       "      <th>Unnamed: 0</th>\n",
       "      <th>se</th>\n",
       "      <th>g</th>\n",
       "      <th>l</th>\n",
       "      <th>a</th>\n",
       "      <th>p</th>\n",
       "      <th>d</th>\n",
       "      <th>v</th>\n",
       "    </tr>\n",
       "  </thead>\n",
       "  <tbody>\n",
       "    <tr>\n",
       "      <th>0</th>\n",
       "      <td>0</td>\n",
       "      <td>NaN</td>\n",
       "      <td>60601</td>\n",
       "      <td>zip</td>\n",
       "      <td>CZB</td>\n",
       "      <td>NaN</td>\n",
       "      <td>2018-2022</td>\n",
       "      <td>34.320927</td>\n",
       "    </tr>\n",
       "    <tr>\n",
       "      <th>1</th>\n",
       "      <td>1</td>\n",
       "      <td>NaN</td>\n",
       "      <td>60602</td>\n",
       "      <td>zip</td>\n",
       "      <td>CZB</td>\n",
       "      <td>NaN</td>\n",
       "      <td>2018-2022</td>\n",
       "      <td>5.314324</td>\n",
       "    </tr>\n",
       "    <tr>\n",
       "      <th>2</th>\n",
       "      <td>2</td>\n",
       "      <td>NaN</td>\n",
       "      <td>60603</td>\n",
       "      <td>zip</td>\n",
       "      <td>CZB</td>\n",
       "      <td>NaN</td>\n",
       "      <td>2018-2022</td>\n",
       "      <td>6.323168</td>\n",
       "    </tr>\n",
       "    <tr>\n",
       "      <th>3</th>\n",
       "      <td>3</td>\n",
       "      <td>NaN</td>\n",
       "      <td>60604</td>\n",
       "      <td>zip</td>\n",
       "      <td>CZB</td>\n",
       "      <td>NaN</td>\n",
       "      <td>2018-2022</td>\n",
       "      <td>4.485415</td>\n",
       "    </tr>\n",
       "    <tr>\n",
       "      <th>4</th>\n",
       "      <td>4</td>\n",
       "      <td>NaN</td>\n",
       "      <td>60606</td>\n",
       "      <td>zip</td>\n",
       "      <td>CZB</td>\n",
       "      <td>NaN</td>\n",
       "      <td>2018-2022</td>\n",
       "      <td>16.307285</td>\n",
       "    </tr>\n",
       "  </tbody>\n",
       "</table>\n",
       "</div>"
      ],
      "text/plain": [
       "   Unnamed: 0  se      g    l    a   p          d          v\n",
       "0           0 NaN  60601  zip  CZB NaN  2018-2022  34.320927\n",
       "1           1 NaN  60602  zip  CZB NaN  2018-2022   5.314324\n",
       "2           2 NaN  60603  zip  CZB NaN  2018-2022   6.323168\n",
       "3           3 NaN  60604  zip  CZB NaN  2018-2022   4.485415\n",
       "4           4 NaN  60606  zip  CZB NaN  2018-2022  16.307285"
      ]
     },
     "execution_count": 103,
     "metadata": {},
     "output_type": "execute_result"
    }
   ],
   "source": [
    "df_CZB.head()"
   ]
  },
  {
   "cell_type": "code",
   "execution_count": 104,
   "id": "61ddce13-1dde-4579-96b9-15aea76c62e1",
   "metadata": {},
   "outputs": [],
   "source": [
    "df_CZB = df_CZB.drop(columns=['p', 'se', 'g', 'l', 'a'])"
   ]
  },
  {
   "cell_type": "code",
   "execution_count": 105,
   "id": "04cf4db1-78a1-467a-a12a-cfa3e60f8d1d",
   "metadata": {},
   "outputs": [
    {
     "data": {
      "text/html": [
       "<div>\n",
       "<style scoped>\n",
       "    .dataframe tbody tr th:only-of-type {\n",
       "        vertical-align: middle;\n",
       "    }\n",
       "\n",
       "    .dataframe tbody tr th {\n",
       "        vertical-align: top;\n",
       "    }\n",
       "\n",
       "    .dataframe thead th {\n",
       "        text-align: right;\n",
       "    }\n",
       "</style>\n",
       "<table border=\"1\" class=\"dataframe\">\n",
       "  <thead>\n",
       "    <tr style=\"text-align: right;\">\n",
       "      <th></th>\n",
       "      <th>Unnamed: 0</th>\n",
       "      <th>d</th>\n",
       "      <th>v</th>\n",
       "    </tr>\n",
       "  </thead>\n",
       "  <tbody>\n",
       "    <tr>\n",
       "      <th>0</th>\n",
       "      <td>0</td>\n",
       "      <td>2018-2022</td>\n",
       "      <td>34.320927</td>\n",
       "    </tr>\n",
       "    <tr>\n",
       "      <th>1</th>\n",
       "      <td>1</td>\n",
       "      <td>2018-2022</td>\n",
       "      <td>5.314324</td>\n",
       "    </tr>\n",
       "    <tr>\n",
       "      <th>2</th>\n",
       "      <td>2</td>\n",
       "      <td>2018-2022</td>\n",
       "      <td>6.323168</td>\n",
       "    </tr>\n",
       "    <tr>\n",
       "      <th>3</th>\n",
       "      <td>3</td>\n",
       "      <td>2018-2022</td>\n",
       "      <td>4.485415</td>\n",
       "    </tr>\n",
       "    <tr>\n",
       "      <th>4</th>\n",
       "      <td>4</td>\n",
       "      <td>2018-2022</td>\n",
       "      <td>16.307285</td>\n",
       "    </tr>\n",
       "  </tbody>\n",
       "</table>\n",
       "</div>"
      ],
      "text/plain": [
       "   Unnamed: 0          d          v\n",
       "0           0  2018-2022  34.320927\n",
       "1           1  2018-2022   5.314324\n",
       "2           2  2018-2022   6.323168\n",
       "3           3  2018-2022   4.485415\n",
       "4           4  2018-2022  16.307285"
      ]
     },
     "execution_count": 105,
     "metadata": {},
     "output_type": "execute_result"
    }
   ],
   "source": [
    "df_CZB.head()"
   ]
  },
  {
   "cell_type": "code",
   "execution_count": 106,
   "id": "31128a7b-e85b-48ae-a833-33362b2f26c7",
   "metadata": {},
   "outputs": [],
   "source": [
    "#Making a new dataframe, removing dates with ranges\n",
    "for i in range(0, len(df_CZB)):\n",
    "    if len(df_CZB['d'][i]) > 4:\n",
    "        df_CZB.drop(i, inplace=True)"
   ]
  },
  {
   "cell_type": "code",
   "execution_count": 107,
   "id": "8e362b7a-978e-44e8-ba73-71a79a621cf1",
   "metadata": {},
   "outputs": [],
   "source": [
    "df_CZB.reset_index(inplace=True)"
   ]
  },
  {
   "cell_type": "code",
   "execution_count": 108,
   "id": "1f663159-a5d9-429a-a157-e217cb19e007",
   "metadata": {
    "tags": []
   },
   "outputs": [
    {
     "data": {
      "text/plain": [
       "2020    935\n",
       "2019    935\n",
       "2018    935\n",
       "2017    935\n",
       "2016    935\n",
       "2021    915\n",
       "2022    136\n",
       "1993      1\n",
       "1998      1\n",
       "1997      1\n",
       "1996      1\n",
       "1995      1\n",
       "1994      1\n",
       "1990      1\n",
       "1992      1\n",
       "1991      1\n",
       "2000      1\n",
       "1989      1\n",
       "1988      1\n",
       "1987      1\n",
       "1986      1\n",
       "1999      1\n",
       "2003      1\n",
       "2001      1\n",
       "2002      1\n",
       "2004      1\n",
       "2005      1\n",
       "2006      1\n",
       "2007      1\n",
       "2008      1\n",
       "2009      1\n",
       "2010      1\n",
       "2011      1\n",
       "2012      1\n",
       "2013      1\n",
       "2014      1\n",
       "2015      1\n",
       "1985      1\n",
       "Name: d, dtype: int64"
      ]
     },
     "execution_count": 108,
     "metadata": {},
     "output_type": "execute_result"
    }
   ],
   "source": [
    "df_CZB['d'].value_counts()"
   ]
  },
  {
   "cell_type": "code",
   "execution_count": 109,
   "id": "ee73c9e9-6b71-4937-a7ab-94ba5a469f1d",
   "metadata": {},
   "outputs": [],
   "source": [
    "#Looping to take the sum of each year\n",
    "t_2022 = 0\n",
    "t_2021 = 0\n",
    "t_2020 = 0\n",
    "t_2019 = 0\n",
    "t_2018 = 0\n",
    "t_2017 = 0\n",
    "t_2016 = 0\n",
    "for i in range(0, len(df_CZB)):\n",
    "    if df_CZB['d'][i] == '2022':\n",
    "        t_2022 += df_CZB['v'][i]\n",
    "    elif df_CZB['d'][i] == '2021':\n",
    "        t_2021 += df_CZB['v'][i]\n",
    "    elif df_CZB['d'][i] == '2020':\n",
    "        t_2020 += df_CZB['v'][i]\n",
    "    elif df_CZB['d'][i] == '2019':\n",
    "        t_2019 += df_CZB['v'][i]\n",
    "    elif df_CZB['d'][i] == '2018':\n",
    "        t_2018 += df_CZB['v'][i]\n",
    "    elif df_CZB['d'][i] == '2017':\n",
    "        t_2017 += df_CZB['v'][i]\n",
    "    elif df_CZB['d'][i] == '2016':\n",
    "        t_2016 += df_CZB['v'][i]"
   ]
  },
  {
   "cell_type": "code",
   "execution_count": 110,
   "id": "9bfc7981-fc3a-4c77-bb2a-decf087d6fa2",
   "metadata": {},
   "outputs": [],
   "source": [
    "czb_ts = pd.DataFrame()\n",
    "czb_ts = df_CZB"
   ]
  },
  {
   "cell_type": "code",
   "execution_count": 111,
   "id": "db6762a6-ae3b-4ae5-a4d8-5767b5636e25",
   "metadata": {},
   "outputs": [],
   "source": [
    "#Gets rid of dates that were multiples, to later be replaced by a sum\n",
    "for i in range(0, len(czb_ts)):\n",
    "    if czb_ts['d'][i] == '2022':\n",
    "        czb_ts.drop(i, inplace=True)\n",
    "    elif czb_ts['d'][i] == '2021':\n",
    "        czb_ts.drop(i, inplace=True)\n",
    "    elif czb_ts['d'][i] == '2020':\n",
    "        czb_ts.drop(i, inplace=True)\n",
    "    elif czb_ts['d'][i] == '2019':\n",
    "        czb_ts.drop(i, inplace=True)\n",
    "    elif czb_ts['d'][i] == '2018':\n",
    "        czb_ts.drop(i, inplace=True)\n",
    "    elif czb_ts['d'][i] == '2017':\n",
    "        czb_ts.drop(i, inplace=True)\n",
    "    elif czb_ts['d'][i] == '2016':\n",
    "        czb_ts.drop(i, inplace=True)"
   ]
  },
  {
   "cell_type": "code",
   "execution_count": 112,
   "id": "93fd9c33-d6cd-4f97-a6bb-b6b4c1a5b757",
   "metadata": {},
   "outputs": [],
   "source": [
    "row_2016 = {'d': '2016', 'v': t_2016}\n",
    "row_2017 = {'d': '2017', 'v': t_2017}\n",
    "row_2018 = {'d': '2018', 'v': t_2018}\n",
    "row_2019 = {'d': '2019', 'v': t_2019}\n",
    "row_2020 = {'d': '2020', 'v': t_2020}\n",
    "row_2021 = {'d': '2021', 'v': t_2021}\n",
    "row_2022 = {'d': '2022', 'v': t_2022}"
   ]
  },
  {
   "cell_type": "code",
   "execution_count": 113,
   "id": "12320fec-aad3-4f39-a1c2-4e1ea21a1abb",
   "metadata": {},
   "outputs": [
    {
     "name": "stderr",
     "output_type": "stream",
     "text": [
      "C:\\Users\\Finley & Stein\\AppData\\Local\\Temp\\ipykernel_6096\\965943007.py:1: FutureWarning: The frame.append method is deprecated and will be removed from pandas in a future version. Use pandas.concat instead.\n",
      "  czb_ts = czb_ts.append(row_2016, ignore_index=True)\n",
      "C:\\Users\\Finley & Stein\\AppData\\Local\\Temp\\ipykernel_6096\\965943007.py:2: FutureWarning: The frame.append method is deprecated and will be removed from pandas in a future version. Use pandas.concat instead.\n",
      "  czb_ts = czb_ts.append(row_2017, ignore_index=True)\n",
      "C:\\Users\\Finley & Stein\\AppData\\Local\\Temp\\ipykernel_6096\\965943007.py:3: FutureWarning: The frame.append method is deprecated and will be removed from pandas in a future version. Use pandas.concat instead.\n",
      "  czb_ts = czb_ts.append(row_2018, ignore_index=True)\n",
      "C:\\Users\\Finley & Stein\\AppData\\Local\\Temp\\ipykernel_6096\\965943007.py:4: FutureWarning: The frame.append method is deprecated and will be removed from pandas in a future version. Use pandas.concat instead.\n",
      "  czb_ts = czb_ts.append(row_2019, ignore_index=True)\n",
      "C:\\Users\\Finley & Stein\\AppData\\Local\\Temp\\ipykernel_6096\\965943007.py:5: FutureWarning: The frame.append method is deprecated and will be removed from pandas in a future version. Use pandas.concat instead.\n",
      "  czb_ts = czb_ts.append(row_2020, ignore_index=True)\n",
      "C:\\Users\\Finley & Stein\\AppData\\Local\\Temp\\ipykernel_6096\\965943007.py:6: FutureWarning: The frame.append method is deprecated and will be removed from pandas in a future version. Use pandas.concat instead.\n",
      "  czb_ts = czb_ts.append(row_2021, ignore_index=True)\n",
      "C:\\Users\\Finley & Stein\\AppData\\Local\\Temp\\ipykernel_6096\\965943007.py:7: FutureWarning: The frame.append method is deprecated and will be removed from pandas in a future version. Use pandas.concat instead.\n",
      "  czb_ts = czb_ts.append(row_2022, ignore_index=True)\n"
     ]
    }
   ],
   "source": [
    "czb_ts = czb_ts.append(row_2016, ignore_index=True)\n",
    "czb_ts = czb_ts.append(row_2017, ignore_index=True)\n",
    "czb_ts = czb_ts.append(row_2018, ignore_index=True)\n",
    "czb_ts = czb_ts.append(row_2019, ignore_index=True)\n",
    "czb_ts = czb_ts.append(row_2020, ignore_index=True)\n",
    "czb_ts = czb_ts.append(row_2021, ignore_index=True)\n",
    "czb_ts = czb_ts.append(row_2022, ignore_index=True)"
   ]
  },
  {
   "cell_type": "code",
   "execution_count": 114,
   "id": "65152bab-1498-492a-85d4-57ef647586cc",
   "metadata": {},
   "outputs": [],
   "source": [
    "#Convert date to datetime\n",
    "czb_ts['d'] = pd.to_datetime(czb_ts['d'])"
   ]
  },
  {
   "cell_type": "code",
   "execution_count": 115,
   "id": "cae4e77e-f223-400d-9dad-0ff4bd2d8fa9",
   "metadata": {},
   "outputs": [],
   "source": [
    "czb_ts.set_index('d', inplace = True)"
   ]
  },
  {
   "cell_type": "code",
   "execution_count": 116,
   "id": "2f15ad12-a572-46fb-ab00-33b1a032f63f",
   "metadata": {},
   "outputs": [],
   "source": [
    "czb_ts.sort_index(inplace=True)"
   ]
  },
  {
   "cell_type": "code",
   "execution_count": 117,
   "id": "eabba612-84a6-49c1-ab11-3d86274b82cf",
   "metadata": {},
   "outputs": [],
   "source": [
    "czb_ts.drop(columns=['index'], inplace=True)"
   ]
  },
  {
   "cell_type": "code",
   "execution_count": 118,
   "id": "99941505-5d34-4d1e-9394-877eafab09ae",
   "metadata": {},
   "outputs": [],
   "source": [
    "czb_ts['v_b'] = czb_ts['v']\n",
    "czb_ts.drop(columns='v', inplace=True)"
   ]
  },
  {
   "cell_type": "code",
   "execution_count": 119,
   "id": "6a891c43-b75e-44b2-9b24-3a6ae18aa102",
   "metadata": {},
   "outputs": [
    {
     "data": {
      "text/html": [
       "<div>\n",
       "<style scoped>\n",
       "    .dataframe tbody tr th:only-of-type {\n",
       "        vertical-align: middle;\n",
       "    }\n",
       "\n",
       "    .dataframe tbody tr th {\n",
       "        vertical-align: top;\n",
       "    }\n",
       "\n",
       "    .dataframe thead th {\n",
       "        text-align: right;\n",
       "    }\n",
       "</style>\n",
       "<table border=\"1\" class=\"dataframe\">\n",
       "  <thead>\n",
       "    <tr style=\"text-align: right;\">\n",
       "      <th></th>\n",
       "      <th>Unnamed: 0</th>\n",
       "      <th>v_b</th>\n",
       "    </tr>\n",
       "    <tr>\n",
       "      <th>d</th>\n",
       "      <th></th>\n",
       "      <th></th>\n",
       "    </tr>\n",
       "  </thead>\n",
       "  <tbody>\n",
       "    <tr>\n",
       "      <th>1985-01-01</th>\n",
       "      <td>0.0</td>\n",
       "      <td>52677.0</td>\n",
       "    </tr>\n",
       "    <tr>\n",
       "      <th>1986-01-01</th>\n",
       "      <td>0.0</td>\n",
       "      <td>56299.0</td>\n",
       "    </tr>\n",
       "    <tr>\n",
       "      <th>1987-01-01</th>\n",
       "      <td>0.0</td>\n",
       "      <td>50950.0</td>\n",
       "    </tr>\n",
       "    <tr>\n",
       "      <th>1988-01-01</th>\n",
       "      <td>0.0</td>\n",
       "      <td>52097.0</td>\n",
       "    </tr>\n",
       "    <tr>\n",
       "      <th>1989-01-01</th>\n",
       "      <td>0.0</td>\n",
       "      <td>51625.0</td>\n",
       "    </tr>\n",
       "  </tbody>\n",
       "</table>\n",
       "</div>"
      ],
      "text/plain": [
       "            Unnamed: 0      v_b\n",
       "d                              \n",
       "1985-01-01         0.0  52677.0\n",
       "1986-01-01         0.0  56299.0\n",
       "1987-01-01         0.0  50950.0\n",
       "1988-01-01         0.0  52097.0\n",
       "1989-01-01         0.0  51625.0"
      ]
     },
     "execution_count": 119,
     "metadata": {},
     "output_type": "execute_result"
    }
   ],
   "source": [
    "czb_ts.head()"
   ]
  },
  {
   "cell_type": "code",
   "execution_count": 120,
   "id": "a40db97d-8b6a-4629-af10-84ec64be3d76",
   "metadata": {},
   "outputs": [
    {
     "data": {
      "image/png": "[encoded data removed]",
      "text/plain": [
       "<Figure size 1800x900 with 1 Axes>"
      ]
     },
     "metadata": {},
     "output_type": "display_data"
    }
   ],
   "source": [
    "plot_series(czb_ts, cols=['v_b'], title = 'Change in people in CZB') "
   ]
  },
  {
   "cell_type": "markdown",
   "id": "27d4ed3e-cc67-4843-b2ce-549b56cdcc17",
   "metadata": {
    "tags": []
   },
   "source": [
    "### CZD"
   ]
  },
  {
   "cell_type": "code",
   "execution_count": 121,
   "id": "35ac9d2a-e6e7-49f1-92a4-4c86c6a5c799",
   "metadata": {},
   "outputs": [
    {
     "data": {
      "text/html": [
       "<div>\n",
       "<style scoped>\n",
       "    .dataframe tbody tr th:only-of-type {\n",
       "        vertical-align: middle;\n",
       "    }\n",
       "\n",
       "    .dataframe tbody tr th {\n",
       "        vertical-align: top;\n",
       "    }\n",
       "\n",
       "    .dataframe thead th {\n",
       "        text-align: right;\n",
       "    }\n",
       "</style>\n",
       "<table border=\"1\" class=\"dataframe\">\n",
       "  <thead>\n",
       "    <tr style=\"text-align: right;\">\n",
       "      <th></th>\n",
       "      <th>Unnamed: 0</th>\n",
       "      <th>se</th>\n",
       "      <th>g</th>\n",
       "      <th>l</th>\n",
       "      <th>a</th>\n",
       "      <th>p</th>\n",
       "      <th>d</th>\n",
       "      <th>v</th>\n",
       "    </tr>\n",
       "  </thead>\n",
       "  <tbody>\n",
       "    <tr>\n",
       "      <th>0</th>\n",
       "      <td>0</td>\n",
       "      <td>NaN</td>\n",
       "      <td>60601</td>\n",
       "      <td>zip</td>\n",
       "      <td>CZD</td>\n",
       "      <td>NaN</td>\n",
       "      <td>2018-2022</td>\n",
       "      <td>24.634871</td>\n",
       "    </tr>\n",
       "    <tr>\n",
       "      <th>1</th>\n",
       "      <td>1</td>\n",
       "      <td>NaN</td>\n",
       "      <td>60602</td>\n",
       "      <td>zip</td>\n",
       "      <td>CZD</td>\n",
       "      <td>NaN</td>\n",
       "      <td>2018-2022</td>\n",
       "      <td>4.378444</td>\n",
       "    </tr>\n",
       "    <tr>\n",
       "      <th>2</th>\n",
       "      <td>2</td>\n",
       "      <td>NaN</td>\n",
       "      <td>60603</td>\n",
       "      <td>zip</td>\n",
       "      <td>CZD</td>\n",
       "      <td>NaN</td>\n",
       "      <td>2018-2022</td>\n",
       "      <td>3.745708</td>\n",
       "    </tr>\n",
       "    <tr>\n",
       "      <th>3</th>\n",
       "      <td>3</td>\n",
       "      <td>NaN</td>\n",
       "      <td>60604</td>\n",
       "      <td>zip</td>\n",
       "      <td>CZD</td>\n",
       "      <td>NaN</td>\n",
       "      <td>2018-2022</td>\n",
       "      <td>2.683766</td>\n",
       "    </tr>\n",
       "    <tr>\n",
       "      <th>4</th>\n",
       "      <td>4</td>\n",
       "      <td>NaN</td>\n",
       "      <td>60606</td>\n",
       "      <td>zip</td>\n",
       "      <td>CZD</td>\n",
       "      <td>NaN</td>\n",
       "      <td>2018-2022</td>\n",
       "      <td>9.396802</td>\n",
       "    </tr>\n",
       "  </tbody>\n",
       "</table>\n",
       "</div>"
      ],
      "text/plain": [
       "   Unnamed: 0  se      g    l    a   p          d          v\n",
       "0           0 NaN  60601  zip  CZD NaN  2018-2022  24.634871\n",
       "1           1 NaN  60602  zip  CZD NaN  2018-2022   4.378444\n",
       "2           2 NaN  60603  zip  CZD NaN  2018-2022   3.745708\n",
       "3           3 NaN  60604  zip  CZD NaN  2018-2022   2.683766\n",
       "4           4 NaN  60606  zip  CZD NaN  2018-2022   9.396802"
      ]
     },
     "execution_count": 121,
     "metadata": {},
     "output_type": "execute_result"
    }
   ],
   "source": [
    "df_CZD.head()"
   ]
  },
  {
   "cell_type": "code",
   "execution_count": 122,
   "id": "7334560c-cee4-4bd4-8190-61246bcb7993",
   "metadata": {},
   "outputs": [],
   "source": [
    "#Getting Rid of P and SE Columns, not needed for TS\n",
    "df_CZD = df_CZD.drop(columns=['p', 'se', 'a'])"
   ]
  },
  {
   "cell_type": "code",
   "execution_count": 123,
   "id": "61aab72f-4520-4b8d-a1ff-36eb11e1b596",
   "metadata": {},
   "outputs": [],
   "source": [
    "#Making a new dataframe, removing dates with ranges\n",
    "for i in range(0, len(df_CZD)):\n",
    "    if len(df_CZD['d'][i]) > 4:\n",
    "        df_CZD.drop(i, inplace=True)"
   ]
  },
  {
   "cell_type": "code",
   "execution_count": 124,
   "id": "0b6539cd-5c88-4904-b126-286b91d137cd",
   "metadata": {},
   "outputs": [],
   "source": [
    "df_CZD.reset_index(inplace=True)"
   ]
  },
  {
   "cell_type": "code",
   "execution_count": 125,
   "id": "720c5cae-bb54-4515-945c-b057aaa091c0",
   "metadata": {},
   "outputs": [
    {
     "data": {
      "text/plain": [
       "2020    935\n",
       "2019    935\n",
       "2018    935\n",
       "2017    935\n",
       "2016    935\n",
       "2021    738\n",
       "2022    136\n",
       "Name: d, dtype: int64"
      ]
     },
     "execution_count": 125,
     "metadata": {},
     "output_type": "execute_result"
    }
   ],
   "source": [
    "df_CZD['d'].value_counts()"
   ]
  },
  {
   "cell_type": "code",
   "execution_count": 126,
   "id": "67a20550-d4ec-4116-9145-6c00f2444178",
   "metadata": {},
   "outputs": [],
   "source": [
    "#Looping to take the sum of each year\n",
    "t_2022 = 0\n",
    "t_2021 = 0\n",
    "t_2020 = 0\n",
    "t_2019 = 0\n",
    "t_2018 = 0\n",
    "t_2017 = 0\n",
    "t_2016 = 0\n",
    "for i in range(0, len(df_CZD)):\n",
    "    if df_CZD['d'][i] == '2022':\n",
    "        t_2022 += df_CZD['v'][i]\n",
    "    elif df_CZD['d'][i] == '2021':\n",
    "        t_2021 += df_CZD['v'][i]\n",
    "    elif df_CZD['d'][i] == '2020':\n",
    "        t_2020 += df_CZD['v'][i]\n",
    "    elif df_CZD['d'][i] == '2019':\n",
    "        t_2019 += df_CZD['v'][i]\n",
    "    elif df_CZD['d'][i] == '2018':\n",
    "        t_2018 += df_CZD['v'][i]\n",
    "    elif df_CZD['d'][i] == '2017':\n",
    "        t_2017 += df_CZD['v'][i]\n",
    "    elif df_CZD['d'][i] == '2016':\n",
    "        t_2016 += df_CZD['v'][i]"
   ]
  },
  {
   "cell_type": "code",
   "execution_count": 127,
   "id": "735c1c65-688e-4a90-a8dc-5841e71ef19c",
   "metadata": {},
   "outputs": [],
   "source": [
    "czd_ts = pd.DataFrame()\n",
    "czd_ts = df_CZD"
   ]
  },
  {
   "cell_type": "code",
   "execution_count": 128,
   "id": "2e4147c9-ae0a-42c6-bd32-2cbbfe8d6d07",
   "metadata": {},
   "outputs": [],
   "source": [
    "#Gets rid of dates that were multiples, to later be replaced by a sum\n",
    "for i in range(0, len(czd_ts)):\n",
    "    if czd_ts['d'][i] == '2022':\n",
    "        czd_ts.drop(i, inplace=True)\n",
    "    elif czd_ts['d'][i] == '2021':\n",
    "        czd_ts.drop(i, inplace=True)\n",
    "    elif czd_ts['d'][i] == '2020':\n",
    "        czd_ts.drop(i, inplace=True)\n",
    "    elif czd_ts['d'][i] == '2019':\n",
    "        czd_ts.drop(i, inplace=True)\n",
    "    elif czd_ts['d'][i] == '2018':\n",
    "        czd_ts.drop(i, inplace=True)\n",
    "    elif czd_ts['d'][i] == '2017':\n",
    "        czd_ts.drop(i, inplace=True)\n",
    "    elif czd_ts['d'][i] == '2016':\n",
    "        czd_ts.drop(i, inplace=True)"
   ]
  },
  {
   "cell_type": "code",
   "execution_count": 129,
   "id": "4df476de-0fca-4165-be1f-50cce16d6894",
   "metadata": {},
   "outputs": [],
   "source": [
    "row_2016 = {'d': '2016', 'v': t_2016}\n",
    "row_2017 = {'d': '2017', 'v': t_2017}\n",
    "row_2018 = {'d': '2018', 'v': t_2018}\n",
    "row_2019 = {'d': '2019', 'v': t_2019}\n",
    "row_2020 = {'d': '2020', 'v': t_2020}\n",
    "row_2021 = {'d': '2021', 'v': t_2021}\n",
    "row_2022 = {'d': '2022', 'v': t_2022}"
   ]
  },
  {
   "cell_type": "code",
   "execution_count": 130,
   "id": "591f9ecd-7d57-4270-a853-a478c2622fcb",
   "metadata": {},
   "outputs": [
    {
     "name": "stderr",
     "output_type": "stream",
     "text": [
      "C:\\Users\\Finley & Stein\\AppData\\Local\\Temp\\ipykernel_6096\\486695826.py:1: FutureWarning: The frame.append method is deprecated and will be removed from pandas in a future version. Use pandas.concat instead.\n",
      "  czd_ts = czd_ts.append(row_2016, ignore_index=True)\n",
      "C:\\Users\\Finley & Stein\\AppData\\Local\\Temp\\ipykernel_6096\\486695826.py:2: FutureWarning: The frame.append method is deprecated and will be removed from pandas in a future version. Use pandas.concat instead.\n",
      "  czd_ts = czd_ts.append(row_2017, ignore_index=True)\n",
      "C:\\Users\\Finley & Stein\\AppData\\Local\\Temp\\ipykernel_6096\\486695826.py:3: FutureWarning: The frame.append method is deprecated and will be removed from pandas in a future version. Use pandas.concat instead.\n",
      "  czd_ts = czd_ts.append(row_2018, ignore_index=True)\n",
      "C:\\Users\\Finley & Stein\\AppData\\Local\\Temp\\ipykernel_6096\\486695826.py:4: FutureWarning: The frame.append method is deprecated and will be removed from pandas in a future version. Use pandas.concat instead.\n",
      "  czd_ts = czd_ts.append(row_2019, ignore_index=True)\n",
      "C:\\Users\\Finley & Stein\\AppData\\Local\\Temp\\ipykernel_6096\\486695826.py:5: FutureWarning: The frame.append method is deprecated and will be removed from pandas in a future version. Use pandas.concat instead.\n",
      "  czd_ts = czd_ts.append(row_2020, ignore_index=True)\n",
      "C:\\Users\\Finley & Stein\\AppData\\Local\\Temp\\ipykernel_6096\\486695826.py:6: FutureWarning: The frame.append method is deprecated and will be removed from pandas in a future version. Use pandas.concat instead.\n",
      "  czd_ts = czd_ts.append(row_2021, ignore_index=True)\n",
      "C:\\Users\\Finley & Stein\\AppData\\Local\\Temp\\ipykernel_6096\\486695826.py:7: FutureWarning: The frame.append method is deprecated and will be removed from pandas in a future version. Use pandas.concat instead.\n",
      "  czd_ts = czd_ts.append(row_2022, ignore_index=True)\n"
     ]
    }
   ],
   "source": [
    "czd_ts = czd_ts.append(row_2016, ignore_index=True)\n",
    "czd_ts = czd_ts.append(row_2017, ignore_index=True)\n",
    "czd_ts = czd_ts.append(row_2018, ignore_index=True)\n",
    "czd_ts = czd_ts.append(row_2019, ignore_index=True)\n",
    "czd_ts = czd_ts.append(row_2020, ignore_index=True)\n",
    "czd_ts = czd_ts.append(row_2021, ignore_index=True)\n",
    "czd_ts = czd_ts.append(row_2022, ignore_index=True)"
   ]
  },
  {
   "cell_type": "code",
   "execution_count": 131,
   "id": "4137f56f-aada-4829-9f05-dc0838857230",
   "metadata": {},
   "outputs": [],
   "source": [
    "#Convert date to datetime\n",
    "czd_ts['d'] = pd.to_datetime(czd_ts['d'])"
   ]
  },
  {
   "cell_type": "code",
   "execution_count": 132,
   "id": "0121d40e-ce41-4d2b-9094-990b103e4279",
   "metadata": {},
   "outputs": [],
   "source": [
    "czd_ts.set_index('d', inplace = True)"
   ]
  },
  {
   "cell_type": "code",
   "execution_count": 133,
   "id": "3f65be6f-90d8-4a86-a04a-330441f2aa84",
   "metadata": {},
   "outputs": [],
   "source": [
    "czd_ts.sort_index(inplace=True)"
   ]
  },
  {
   "cell_type": "code",
   "execution_count": 134,
   "id": "5fcc5650-46b7-41d1-ab08-bc00acbc6aab",
   "metadata": {},
   "outputs": [],
   "source": [
    "czd_ts.drop(columns=['index'], inplace=True)"
   ]
  },
  {
   "cell_type": "code",
   "execution_count": 135,
   "id": "9feeedea-48f7-4bb2-9318-6582178c879a",
   "metadata": {},
   "outputs": [],
   "source": [
    "czd_ts.drop(columns=['g', 'l'], inplace=True)"
   ]
  },
  {
   "cell_type": "code",
   "execution_count": 136,
   "id": "f8ef646f-57b4-472b-9cbc-348ed7c29927",
   "metadata": {},
   "outputs": [],
   "source": [
    "czd_ts['v_d'] = czd_ts['v']\n",
    "czd_ts.drop(columns='v', inplace=True)"
   ]
  },
  {
   "cell_type": "code",
   "execution_count": 137,
   "id": "84a2b67b-3498-4fed-a1f9-5d956088d63b",
   "metadata": {},
   "outputs": [
    {
     "data": {
      "text/html": [
       "<div>\n",
       "<style scoped>\n",
       "    .dataframe tbody tr th:only-of-type {\n",
       "        vertical-align: middle;\n",
       "    }\n",
       "\n",
       "    .dataframe tbody tr th {\n",
       "        vertical-align: top;\n",
       "    }\n",
       "\n",
       "    .dataframe thead th {\n",
       "        text-align: right;\n",
       "    }\n",
       "</style>\n",
       "<table border=\"1\" class=\"dataframe\">\n",
       "  <thead>\n",
       "    <tr style=\"text-align: right;\">\n",
       "      <th></th>\n",
       "      <th>Unnamed: 0</th>\n",
       "      <th>v_d</th>\n",
       "    </tr>\n",
       "    <tr>\n",
       "      <th>d</th>\n",
       "      <th></th>\n",
       "      <th></th>\n",
       "    </tr>\n",
       "  </thead>\n",
       "  <tbody>\n",
       "    <tr>\n",
       "      <th>2016-01-01</th>\n",
       "      <td>NaN</td>\n",
       "      <td>52545.573634</td>\n",
       "    </tr>\n",
       "    <tr>\n",
       "      <th>2017-01-01</th>\n",
       "      <td>NaN</td>\n",
       "      <td>45632.077699</td>\n",
       "    </tr>\n",
       "    <tr>\n",
       "      <th>2018-01-01</th>\n",
       "      <td>NaN</td>\n",
       "      <td>50942.174659</td>\n",
       "    </tr>\n",
       "    <tr>\n",
       "      <th>2019-01-01</th>\n",
       "      <td>NaN</td>\n",
       "      <td>59623.732156</td>\n",
       "    </tr>\n",
       "    <tr>\n",
       "      <th>2020-01-01</th>\n",
       "      <td>NaN</td>\n",
       "      <td>28844.104876</td>\n",
       "    </tr>\n",
       "  </tbody>\n",
       "</table>\n",
       "</div>"
      ],
      "text/plain": [
       "            Unnamed: 0           v_d\n",
       "d                                   \n",
       "2016-01-01         NaN  52545.573634\n",
       "2017-01-01         NaN  45632.077699\n",
       "2018-01-01         NaN  50942.174659\n",
       "2019-01-01         NaN  59623.732156\n",
       "2020-01-01         NaN  28844.104876"
      ]
     },
     "execution_count": 137,
     "metadata": {},
     "output_type": "execute_result"
    }
   ],
   "source": [
    "czd_ts.head()"
   ]
  },
  {
   "cell_type": "code",
   "execution_count": 138,
   "id": "a2d952a3-1724-4a74-b4f2-f3e0f0b11e03",
   "metadata": {},
   "outputs": [
    {
     "data": {
      "image/png": "[encoded data removed]",
      "text/plain": [
       "<Figure size 1800x900 with 1 Axes>"
      ]
     },
     "metadata": {},
     "output_type": "display_data"
    }
   ],
   "source": [
    "plot_series(czd_ts, cols=['v_d'], title = 'Change in people in CZD') "
   ]
  },
  {
   "cell_type": "markdown",
   "id": "fdc9c7ab-525b-473b-8821-aaa9f99358c2",
   "metadata": {},
   "source": [
    "### CZH"
   ]
  },
  {
   "cell_type": "code",
   "execution_count": 139,
   "id": "53fe75bc-1397-47be-bea3-d62fef7223a5",
   "metadata": {},
   "outputs": [
    {
     "data": {
      "text/html": [
       "<div>\n",
       "<style scoped>\n",
       "    .dataframe tbody tr th:only-of-type {\n",
       "        vertical-align: middle;\n",
       "    }\n",
       "\n",
       "    .dataframe tbody tr th {\n",
       "        vertical-align: top;\n",
       "    }\n",
       "\n",
       "    .dataframe thead th {\n",
       "        text-align: right;\n",
       "    }\n",
       "</style>\n",
       "<table border=\"1\" class=\"dataframe\">\n",
       "  <thead>\n",
       "    <tr style=\"text-align: right;\">\n",
       "      <th></th>\n",
       "      <th>Unnamed: 0</th>\n",
       "      <th>d</th>\n",
       "      <th>v</th>\n",
       "    </tr>\n",
       "  </thead>\n",
       "  <tbody>\n",
       "    <tr>\n",
       "      <th>0</th>\n",
       "      <td>0</td>\n",
       "      <td>2018-2022</td>\n",
       "      <td>2.668703</td>\n",
       "    </tr>\n",
       "    <tr>\n",
       "      <th>1</th>\n",
       "      <td>1</td>\n",
       "      <td>2018-2022</td>\n",
       "      <td>0.329276</td>\n",
       "    </tr>\n",
       "    <tr>\n",
       "      <th>2</th>\n",
       "      <td>2</td>\n",
       "      <td>2018-2022</td>\n",
       "      <td>0.676879</td>\n",
       "    </tr>\n",
       "    <tr>\n",
       "      <th>3</th>\n",
       "      <td>3</td>\n",
       "      <td>2018-2022</td>\n",
       "      <td>0.461857</td>\n",
       "    </tr>\n",
       "    <tr>\n",
       "      <th>4</th>\n",
       "      <td>4</td>\n",
       "      <td>2018-2022</td>\n",
       "      <td>0.900524</td>\n",
       "    </tr>\n",
       "  </tbody>\n",
       "</table>\n",
       "</div>"
      ],
      "text/plain": [
       "   Unnamed: 0          d         v\n",
       "0           0  2018-2022  2.668703\n",
       "1           1  2018-2022  0.329276\n",
       "2           2  2018-2022  0.676879\n",
       "3           3  2018-2022  0.461857\n",
       "4           4  2018-2022  0.900524"
      ]
     },
     "execution_count": 139,
     "metadata": {},
     "output_type": "execute_result"
    }
   ],
   "source": [
    "df_CZH = df_CZH.drop(columns=['p', 'se', 'g', 'l', 'a'])\n",
    "df_CZH.head()"
   ]
  },
  {
   "cell_type": "code",
   "execution_count": 140,
   "id": "6d3cf41e-e39e-440c-a2a3-d73f36c9033e",
   "metadata": {},
   "outputs": [],
   "source": [
    "#Making a new dataframe, removing dates with ranges\n",
    "for i in range(0, len(df_CZH)):\n",
    "    if len(df_CZH['d'][i]) > 4:\n",
    "        df_CZH.drop(i, inplace=True)"
   ]
  },
  {
   "cell_type": "code",
   "execution_count": 141,
   "id": "3d594375-a260-43c2-8bfb-13e633fadde8",
   "metadata": {},
   "outputs": [],
   "source": [
    "df_CZH.reset_index(inplace=True)"
   ]
  },
  {
   "cell_type": "code",
   "execution_count": 142,
   "id": "ee6db633-437d-42d3-b9cc-23594600e794",
   "metadata": {},
   "outputs": [
    {
     "data": {
      "text/plain": [
       "2020    935\n",
       "2019    935\n",
       "2018    935\n",
       "2017    935\n",
       "2016    935\n",
       "2021    498\n",
       "2022    127\n",
       "1993      1\n",
       "1998      1\n",
       "1997      1\n",
       "1996      1\n",
       "1995      1\n",
       "1994      1\n",
       "1990      1\n",
       "1992      1\n",
       "1991      1\n",
       "2000      1\n",
       "1989      1\n",
       "1988      1\n",
       "1987      1\n",
       "1986      1\n",
       "1999      1\n",
       "2003      1\n",
       "2001      1\n",
       "2002      1\n",
       "2004      1\n",
       "2005      1\n",
       "2006      1\n",
       "2007      1\n",
       "2008      1\n",
       "2009      1\n",
       "2010      1\n",
       "2011      1\n",
       "2012      1\n",
       "2013      1\n",
       "2014      1\n",
       "2015      1\n",
       "1985      1\n",
       "Name: d, dtype: int64"
      ]
     },
     "execution_count": 142,
     "metadata": {},
     "output_type": "execute_result"
    }
   ],
   "source": [
    "df_CZH['d'].value_counts()"
   ]
  },
  {
   "cell_type": "code",
   "execution_count": 143,
   "id": "f900eaf8-e4cf-4aa9-b2bd-e0c2f8928817",
   "metadata": {},
   "outputs": [],
   "source": [
    "#Looping to take the sum of each year\n",
    "t_2022 = 0\n",
    "t_2021 = 0\n",
    "t_2020 = 0\n",
    "t_2019 = 0\n",
    "t_2018 = 0\n",
    "t_2017 = 0\n",
    "t_2016 = 0\n",
    "for i in range(0, len(df_CZH)):\n",
    "    if df_CZH['d'][i] == '2022':\n",
    "        t_2022 += df_CZH['v'][i]\n",
    "    elif df_CZH['d'][i] == '2021':\n",
    "        t_2021 += df_CZH['v'][i]\n",
    "    elif df_CZH['d'][i] == '2020':\n",
    "        t_2020 += df_CZH['v'][i]\n",
    "    elif df_CZH['d'][i] == '2019':\n",
    "        t_2019 += df_CZH['v'][i]\n",
    "    elif df_CZH['d'][i] == '2018':\n",
    "        t_2018 += df_CZH['v'][i]\n",
    "    elif df_CZH['d'][i] == '2017':\n",
    "        t_2017 += df_CZH['v'][i]\n",
    "    elif df_CZH['d'][i] == '2016':\n",
    "        t_2016 += df_CZH['v'][i]"
   ]
  },
  {
   "cell_type": "code",
   "execution_count": 144,
   "id": "9d140aed-417e-457a-89fe-84bd67451229",
   "metadata": {},
   "outputs": [],
   "source": [
    "czh_ts = pd.DataFrame()\n",
    "czh_ts = df_CZH"
   ]
  },
  {
   "cell_type": "code",
   "execution_count": 145,
   "id": "cf849074-a284-4202-bebd-c2f2645afbbf",
   "metadata": {},
   "outputs": [],
   "source": [
    "#Gets rid of dates that were multiples, to later be replaced by a sum\n",
    "for i in range(0, len(czh_ts)):\n",
    "    if czh_ts['d'][i] == '2022':\n",
    "        czh_ts.drop(i, inplace=True)\n",
    "    elif czh_ts['d'][i] == '2021':\n",
    "        czh_ts.drop(i, inplace=True)\n",
    "    elif czh_ts['d'][i] == '2020':\n",
    "        czh_ts.drop(i, inplace=True)\n",
    "    elif czh_ts['d'][i] == '2019':\n",
    "        czh_ts.drop(i, inplace=True)\n",
    "    elif czh_ts['d'][i] == '2018':\n",
    "        czh_ts.drop(i, inplace=True)\n",
    "    elif czh_ts['d'][i] == '2017':\n",
    "        czh_ts.drop(i, inplace=True)\n",
    "    elif czh_ts['d'][i] == '2016':\n",
    "        czh_ts.drop(i, inplace=True)"
   ]
  },
  {
   "cell_type": "code",
   "execution_count": 146,
   "id": "ac6a47d2-2c1d-4fe5-acd3-28bb4c898c48",
   "metadata": {},
   "outputs": [],
   "source": [
    "row_2016 = {'d': '2016', 'v': t_2016}\n",
    "row_2017 = {'d': '2017', 'v': t_2017}\n",
    "row_2018 = {'d': '2018', 'v': t_2018}\n",
    "row_2019 = {'d': '2019', 'v': t_2019}\n",
    "row_2020 = {'d': '2020', 'v': t_2020}\n",
    "row_2021 = {'d': '2021', 'v': t_2021}\n",
    "row_2022 = {'d': '2022', 'v': t_2022}"
   ]
  },
  {
   "cell_type": "code",
   "execution_count": 147,
   "id": "3615b63c-5be4-4d8c-9446-bd6d73938625",
   "metadata": {},
   "outputs": [
    {
     "name": "stderr",
     "output_type": "stream",
     "text": [
      "C:\\Users\\Finley & Stein\\AppData\\Local\\Temp\\ipykernel_6096\\3731378244.py:1: FutureWarning: The frame.append method is deprecated and will be removed from pandas in a future version. Use pandas.concat instead.\n",
      "  czh_ts = czh_ts.append(row_2016, ignore_index=True)\n",
      "C:\\Users\\Finley & Stein\\AppData\\Local\\Temp\\ipykernel_6096\\3731378244.py:2: FutureWarning: The frame.append method is deprecated and will be removed from pandas in a future version. Use pandas.concat instead.\n",
      "  czh_ts = czh_ts.append(row_2017, ignore_index=True)\n",
      "C:\\Users\\Finley & Stein\\AppData\\Local\\Temp\\ipykernel_6096\\3731378244.py:3: FutureWarning: The frame.append method is deprecated and will be removed from pandas in a future version. Use pandas.concat instead.\n",
      "  czh_ts = czh_ts.append(row_2018, ignore_index=True)\n",
      "C:\\Users\\Finley & Stein\\AppData\\Local\\Temp\\ipykernel_6096\\3731378244.py:4: FutureWarning: The frame.append method is deprecated and will be removed from pandas in a future version. Use pandas.concat instead.\n",
      "  czh_ts = czh_ts.append(row_2019, ignore_index=True)\n",
      "C:\\Users\\Finley & Stein\\AppData\\Local\\Temp\\ipykernel_6096\\3731378244.py:5: FutureWarning: The frame.append method is deprecated and will be removed from pandas in a future version. Use pandas.concat instead.\n",
      "  czh_ts = czh_ts.append(row_2020, ignore_index=True)\n",
      "C:\\Users\\Finley & Stein\\AppData\\Local\\Temp\\ipykernel_6096\\3731378244.py:6: FutureWarning: The frame.append method is deprecated and will be removed from pandas in a future version. Use pandas.concat instead.\n",
      "  czh_ts = czh_ts.append(row_2021, ignore_index=True)\n",
      "C:\\Users\\Finley & Stein\\AppData\\Local\\Temp\\ipykernel_6096\\3731378244.py:7: FutureWarning: The frame.append method is deprecated and will be removed from pandas in a future version. Use pandas.concat instead.\n",
      "  czh_ts = czh_ts.append(row_2022, ignore_index=True)\n"
     ]
    }
   ],
   "source": [
    "czh_ts = czh_ts.append(row_2016, ignore_index=True)\n",
    "czh_ts = czh_ts.append(row_2017, ignore_index=True)\n",
    "czh_ts = czh_ts.append(row_2018, ignore_index=True)\n",
    "czh_ts = czh_ts.append(row_2019, ignore_index=True)\n",
    "czh_ts = czh_ts.append(row_2020, ignore_index=True)\n",
    "czh_ts = czh_ts.append(row_2021, ignore_index=True)\n",
    "czh_ts = czh_ts.append(row_2022, ignore_index=True)"
   ]
  },
  {
   "cell_type": "code",
   "execution_count": 148,
   "id": "31b110e4-98ae-4223-999c-1fb8e28043c7",
   "metadata": {},
   "outputs": [],
   "source": [
    "#Convert date to datetime\n",
    "czh_ts['d'] = pd.to_datetime(czh_ts['d'])"
   ]
  },
  {
   "cell_type": "code",
   "execution_count": 149,
   "id": "7eeda3d8-560a-4f98-a656-cad2a410d1f8",
   "metadata": {},
   "outputs": [
    {
     "data": {
      "text/html": [
       "<div>\n",
       "<style scoped>\n",
       "    .dataframe tbody tr th:only-of-type {\n",
       "        vertical-align: middle;\n",
       "    }\n",
       "\n",
       "    .dataframe tbody tr th {\n",
       "        vertical-align: top;\n",
       "    }\n",
       "\n",
       "    .dataframe thead th {\n",
       "        text-align: right;\n",
       "    }\n",
       "</style>\n",
       "<table border=\"1\" class=\"dataframe\">\n",
       "  <thead>\n",
       "    <tr style=\"text-align: right;\">\n",
       "      <th></th>\n",
       "      <th>Unnamed: 0</th>\n",
       "      <th>v_h</th>\n",
       "    </tr>\n",
       "    <tr>\n",
       "      <th>d</th>\n",
       "      <th></th>\n",
       "      <th></th>\n",
       "    </tr>\n",
       "  </thead>\n",
       "  <tbody>\n",
       "    <tr>\n",
       "      <th>1985-01-01</th>\n",
       "      <td>0.0</td>\n",
       "      <td>666.0</td>\n",
       "    </tr>\n",
       "    <tr>\n",
       "      <th>1986-01-01</th>\n",
       "      <td>0.0</td>\n",
       "      <td>744.0</td>\n",
       "    </tr>\n",
       "    <tr>\n",
       "      <th>1987-01-01</th>\n",
       "      <td>0.0</td>\n",
       "      <td>687.0</td>\n",
       "    </tr>\n",
       "    <tr>\n",
       "      <th>1988-01-01</th>\n",
       "      <td>0.0</td>\n",
       "      <td>660.0</td>\n",
       "    </tr>\n",
       "    <tr>\n",
       "      <th>1989-01-01</th>\n",
       "      <td>0.0</td>\n",
       "      <td>742.0</td>\n",
       "    </tr>\n",
       "  </tbody>\n",
       "</table>\n",
       "</div>"
      ],
      "text/plain": [
       "            Unnamed: 0    v_h\n",
       "d                            \n",
       "1985-01-01         0.0  666.0\n",
       "1986-01-01         0.0  744.0\n",
       "1987-01-01         0.0  687.0\n",
       "1988-01-01         0.0  660.0\n",
       "1989-01-01         0.0  742.0"
      ]
     },
     "execution_count": 149,
     "metadata": {},
     "output_type": "execute_result"
    }
   ],
   "source": [
    "czh_ts.set_index('d', inplace = True)\n",
    "czh_ts.sort_index(inplace=True)\n",
    "czh_ts.drop(columns=['index'], inplace=True)\n",
    "czh_ts['v_h'] = czh_ts['v']\n",
    "czh_ts.drop(columns='v', inplace=True)\n",
    "czh_ts.head()"
   ]
  },
  {
   "cell_type": "code",
   "execution_count": 150,
   "id": "100c7b90",
   "metadata": {},
   "outputs": [
    {
     "ename": "KeyError",
     "evalue": "'v'",
     "output_type": "error",
     "traceback": [
      "\u001b[1;31m---------------------------------------------------------------------------\u001b[0m",
      "\u001b[1;31mKeyError\u001b[0m                                  Traceback (most recent call last)",
      "File \u001b[1;32mC:\\Anaconda\\lib\\site-packages\\pandas\\core\\indexes\\base.py:3629\u001b[0m, in \u001b[0;36mIndex.get_loc\u001b[1;34m(self, key, method, tolerance)\u001b[0m\n\u001b[0;32m   3628\u001b[0m \u001b[38;5;28;01mtry\u001b[39;00m:\n\u001b[1;32m-> 3629\u001b[0m     \u001b[38;5;28;01mreturn\u001b[39;00m \u001b[38;5;28;43mself\u001b[39;49m\u001b[38;5;241;43m.\u001b[39;49m\u001b[43m_engine\u001b[49m\u001b[38;5;241;43m.\u001b[39;49m\u001b[43mget_loc\u001b[49m\u001b[43m(\u001b[49m\u001b[43mcasted_key\u001b[49m\u001b[43m)\u001b[49m\n\u001b[0;32m   3630\u001b[0m \u001b[38;5;28;01mexcept\u001b[39;00m \u001b[38;5;167;01mKeyError\u001b[39;00m \u001b[38;5;28;01mas\u001b[39;00m err:\n",
      "File \u001b[1;32mC:\\Anaconda\\lib\\site-packages\\pandas\\_libs\\index.pyx:136\u001b[0m, in \u001b[0;36mpandas._libs.index.IndexEngine.get_loc\u001b[1;34m()\u001b[0m\n",
      "File \u001b[1;32mC:\\Anaconda\\lib\\site-packages\\pandas\\_libs\\index.pyx:163\u001b[0m, in \u001b[0;36mpandas._libs.index.IndexEngine.get_loc\u001b[1;34m()\u001b[0m\n",
      "File \u001b[1;32mpandas\\_libs\\hashtable_class_helper.pxi:5198\u001b[0m, in \u001b[0;36mpandas._libs.hashtable.PyObjectHashTable.get_item\u001b[1;34m()\u001b[0m\n",
      "File \u001b[1;32mpandas\\_libs\\hashtable_class_helper.pxi:5206\u001b[0m, in \u001b[0;36mpandas._libs.hashtable.PyObjectHashTable.get_item\u001b[1;34m()\u001b[0m\n",
      "\u001b[1;31mKeyError\u001b[0m: 'v'",
      "\nThe above exception was the direct cause of the following exception:\n",
      "\u001b[1;31mKeyError\u001b[0m                                  Traceback (most recent call last)",
      "Cell \u001b[1;32mIn[150], line 1\u001b[0m\n\u001b[1;32m----> 1\u001b[0m \u001b[43mplot_series\u001b[49m\u001b[43m(\u001b[49m\u001b[43mczh_ts\u001b[49m\u001b[43m,\u001b[49m\u001b[43m \u001b[49m\u001b[43mcols\u001b[49m\u001b[38;5;241;43m=\u001b[39;49m\u001b[43m[\u001b[49m\u001b[38;5;124;43m'\u001b[39;49m\u001b[38;5;124;43mv\u001b[39;49m\u001b[38;5;124;43m'\u001b[39;49m\u001b[43m]\u001b[49m\u001b[43m,\u001b[49m\u001b[43m \u001b[49m\u001b[43mtitle\u001b[49m\u001b[43m \u001b[49m\u001b[38;5;241;43m=\u001b[39;49m\u001b[43m \u001b[49m\u001b[38;5;124;43m'\u001b[39;49m\u001b[38;5;124;43mChange in people in CZH\u001b[39;49m\u001b[38;5;124;43m'\u001b[39;49m\u001b[43m)\u001b[49m\n",
      "Cell \u001b[1;32mIn[95], line 20\u001b[0m, in \u001b[0;36mplot_series\u001b[1;34m(df, cols, title, xlab, ylab)\u001b[0m\n\u001b[0;32m     14\u001b[0m \u001b[38;5;66;03m# Iterate through each column name.\u001b[39;00m\n\u001b[0;32m     15\u001b[0m \u001b[38;5;28;01mfor\u001b[39;00m col \u001b[38;5;129;01min\u001b[39;00m cols:\n\u001b[0;32m     16\u001b[0m     \n\u001b[0;32m     17\u001b[0m     \u001b[38;5;66;03m# Generate a line plot of the column name.\u001b[39;00m\n\u001b[0;32m     18\u001b[0m     \u001b[38;5;66;03m# You only have to specify Y, since our\u001b[39;00m\n\u001b[0;32m     19\u001b[0m     \u001b[38;5;66;03m# index will be a datetime index.\u001b[39;00m\n\u001b[1;32m---> 20\u001b[0m     plt\u001b[38;5;241m.\u001b[39mplot(\u001b[43mdf\u001b[49m\u001b[43m[\u001b[49m\u001b[43mcol\u001b[49m\u001b[43m]\u001b[49m)\n\u001b[0;32m     22\u001b[0m \u001b[38;5;66;03m# Generate title and labels.\u001b[39;00m\n\u001b[0;32m     23\u001b[0m plt\u001b[38;5;241m.\u001b[39mtitle(title, fontsize\u001b[38;5;241m=\u001b[39m\u001b[38;5;241m26\u001b[39m)\n",
      "File \u001b[1;32mC:\\Anaconda\\lib\\site-packages\\pandas\\core\\frame.py:3505\u001b[0m, in \u001b[0;36mDataFrame.__getitem__\u001b[1;34m(self, key)\u001b[0m\n\u001b[0;32m   3503\u001b[0m \u001b[38;5;28;01mif\u001b[39;00m \u001b[38;5;28mself\u001b[39m\u001b[38;5;241m.\u001b[39mcolumns\u001b[38;5;241m.\u001b[39mnlevels \u001b[38;5;241m>\u001b[39m \u001b[38;5;241m1\u001b[39m:\n\u001b[0;32m   3504\u001b[0m     \u001b[38;5;28;01mreturn\u001b[39;00m \u001b[38;5;28mself\u001b[39m\u001b[38;5;241m.\u001b[39m_getitem_multilevel(key)\n\u001b[1;32m-> 3505\u001b[0m indexer \u001b[38;5;241m=\u001b[39m \u001b[38;5;28;43mself\u001b[39;49m\u001b[38;5;241;43m.\u001b[39;49m\u001b[43mcolumns\u001b[49m\u001b[38;5;241;43m.\u001b[39;49m\u001b[43mget_loc\u001b[49m\u001b[43m(\u001b[49m\u001b[43mkey\u001b[49m\u001b[43m)\u001b[49m\n\u001b[0;32m   3506\u001b[0m \u001b[38;5;28;01mif\u001b[39;00m is_integer(indexer):\n\u001b[0;32m   3507\u001b[0m     indexer \u001b[38;5;241m=\u001b[39m [indexer]\n",
      "File \u001b[1;32mC:\\Anaconda\\lib\\site-packages\\pandas\\core\\indexes\\base.py:3631\u001b[0m, in \u001b[0;36mIndex.get_loc\u001b[1;34m(self, key, method, tolerance)\u001b[0m\n\u001b[0;32m   3629\u001b[0m     \u001b[38;5;28;01mreturn\u001b[39;00m \u001b[38;5;28mself\u001b[39m\u001b[38;5;241m.\u001b[39m_engine\u001b[38;5;241m.\u001b[39mget_loc(casted_key)\n\u001b[0;32m   3630\u001b[0m \u001b[38;5;28;01mexcept\u001b[39;00m \u001b[38;5;167;01mKeyError\u001b[39;00m \u001b[38;5;28;01mas\u001b[39;00m err:\n\u001b[1;32m-> 3631\u001b[0m     \u001b[38;5;28;01mraise\u001b[39;00m \u001b[38;5;167;01mKeyError\u001b[39;00m(key) \u001b[38;5;28;01mfrom\u001b[39;00m \u001b[38;5;21;01merr\u001b[39;00m\n\u001b[0;32m   3632\u001b[0m \u001b[38;5;28;01mexcept\u001b[39;00m \u001b[38;5;167;01mTypeError\u001b[39;00m:\n\u001b[0;32m   3633\u001b[0m     \u001b[38;5;66;03m# If we have a listlike key, _check_indexing_error will raise\u001b[39;00m\n\u001b[0;32m   3634\u001b[0m     \u001b[38;5;66;03m#  InvalidIndexError. Otherwise we fall through and re-raise\u001b[39;00m\n\u001b[0;32m   3635\u001b[0m     \u001b[38;5;66;03m#  the TypeError.\u001b[39;00m\n\u001b[0;32m   3636\u001b[0m     \u001b[38;5;28mself\u001b[39m\u001b[38;5;241m.\u001b[39m_check_indexing_error(key)\n",
      "\u001b[1;31mKeyError\u001b[0m: 'v'"
     ]
    },
    {
     "data": {
      "text/plain": [
       "<Figure size 1800x900 with 0 Axes>"
      ]
     },
     "metadata": {},
     "output_type": "display_data"
    }
   ],
   "source": [
    "plot_series(czh_ts, cols=['v'], title = 'Change in people in CZH') "
   ]
  },
  {
   "cell_type": "markdown",
   "id": "71605726-ad8d-4a61-929f-3a9b83657ac8",
   "metadata": {},
   "source": [
    "### CZL"
   ]
  },
  {
   "cell_type": "code",
   "execution_count": 151,
   "id": "bc647cf7-078a-4029-8ae1-085cebaefb0c",
   "metadata": {},
   "outputs": [
    {
     "data": {
      "text/html": [
       "<div>\n",
       "<style scoped>\n",
       "    .dataframe tbody tr th:only-of-type {\n",
       "        vertical-align: middle;\n",
       "    }\n",
       "\n",
       "    .dataframe tbody tr th {\n",
       "        vertical-align: top;\n",
       "    }\n",
       "\n",
       "    .dataframe thead th {\n",
       "        text-align: right;\n",
       "    }\n",
       "</style>\n",
       "<table border=\"1\" class=\"dataframe\">\n",
       "  <thead>\n",
       "    <tr style=\"text-align: right;\">\n",
       "      <th></th>\n",
       "      <th>Unnamed: 0</th>\n",
       "      <th>d</th>\n",
       "      <th>v</th>\n",
       "    </tr>\n",
       "  </thead>\n",
       "  <tbody>\n",
       "    <tr>\n",
       "      <th>0</th>\n",
       "      <td>0</td>\n",
       "      <td>2018-2022</td>\n",
       "      <td>1479.192448</td>\n",
       "    </tr>\n",
       "    <tr>\n",
       "      <th>1</th>\n",
       "      <td>1</td>\n",
       "      <td>2018-2022</td>\n",
       "      <td>243.253990</td>\n",
       "    </tr>\n",
       "    <tr>\n",
       "      <th>2</th>\n",
       "      <td>2</td>\n",
       "      <td>2018-2022</td>\n",
       "      <td>179.016338</td>\n",
       "    </tr>\n",
       "    <tr>\n",
       "      <th>3</th>\n",
       "      <td>3</td>\n",
       "      <td>2018-2022</td>\n",
       "      <td>127.984247</td>\n",
       "    </tr>\n",
       "    <tr>\n",
       "      <th>4</th>\n",
       "      <td>4</td>\n",
       "      <td>2018-2022</td>\n",
       "      <td>430.360853</td>\n",
       "    </tr>\n",
       "  </tbody>\n",
       "</table>\n",
       "</div>"
      ],
      "text/plain": [
       "   Unnamed: 0          d            v\n",
       "0           0  2018-2022  1479.192448\n",
       "1           1  2018-2022   243.253990\n",
       "2           2  2018-2022   179.016338\n",
       "3           3  2018-2022   127.984247\n",
       "4           4  2018-2022   430.360853"
      ]
     },
     "execution_count": 151,
     "metadata": {},
     "output_type": "execute_result"
    }
   ],
   "source": [
    "df_CZL = df_CZL.drop(columns=['p', 'se', 'g', 'l', 'a'])\n",
    "df_CZL.head()"
   ]
  },
  {
   "cell_type": "code",
   "execution_count": 152,
   "id": "a50ec57e-18ce-4f3d-b070-359f9233d038",
   "metadata": {},
   "outputs": [],
   "source": [
    "#Making a new dataframe, removing dates with ranges\n",
    "for i in range(0, len(df_CZL)):\n",
    "    if len(df_CZL['d'][i]) > 4:\n",
    "        df_CZL.drop(i, inplace=True)"
   ]
  },
  {
   "cell_type": "code",
   "execution_count": 153,
   "id": "4ca82a23-9621-4316-8463-6aab97d280a3",
   "metadata": {
    "tags": []
   },
   "outputs": [
    {
     "data": {
      "text/plain": [
       "2021    937\n",
       "2020    935\n",
       "2019    935\n",
       "2018    935\n",
       "2017    935\n",
       "2016    935\n",
       "2022    136\n",
       "1993      1\n",
       "1998      1\n",
       "1997      1\n",
       "1996      1\n",
       "1995      1\n",
       "1994      1\n",
       "1990      1\n",
       "1992      1\n",
       "1991      1\n",
       "2000      1\n",
       "1989      1\n",
       "1988      1\n",
       "1987      1\n",
       "1986      1\n",
       "1999      1\n",
       "2003      1\n",
       "2001      1\n",
       "2002      1\n",
       "2004      1\n",
       "2005      1\n",
       "2006      1\n",
       "2007      1\n",
       "2008      1\n",
       "2009      1\n",
       "2010      1\n",
       "2011      1\n",
       "2012      1\n",
       "2013      1\n",
       "2014      1\n",
       "2015      1\n",
       "1985      1\n",
       "Name: d, dtype: int64"
      ]
     },
     "execution_count": 153,
     "metadata": {},
     "output_type": "execute_result"
    }
   ],
   "source": [
    "df_CZL.reset_index(inplace=True)\n",
    "df_CZL['d'].value_counts()"
   ]
  },
  {
   "cell_type": "code",
   "execution_count": 154,
   "id": "3a322a98-c428-4311-a7f2-0888b39afbf2",
   "metadata": {},
   "outputs": [],
   "source": [
    "#Looping to take the sum of each year\n",
    "t_2022 = 0\n",
    "t_2021 = 0\n",
    "t_2020 = 0\n",
    "t_2019 = 0\n",
    "t_2018 = 0\n",
    "t_2017 = 0\n",
    "t_2016 = 0\n",
    "for i in range(0, len(df_CZL)):\n",
    "    if df_CZL['d'][i] == '2022':\n",
    "        t_2022 += df_CZL['v'][i]\n",
    "    elif df_CZL['d'][i] == '2021':\n",
    "        t_2021 += df_CZL['v'][i]\n",
    "    elif df_CZL['d'][i] == '2020':\n",
    "        t_2020 += df_CZL['v'][i]\n",
    "    elif df_CZL['d'][i] == '2019':\n",
    "        t_2019 += df_CZL['v'][i]\n",
    "    elif df_CZL['d'][i] == '2018':\n",
    "        t_2018 += df_CZL['v'][i]\n",
    "    elif df_CZL['d'][i] == '2017':\n",
    "        t_2017 += df_CZL['v'][i]\n",
    "    elif df_CZL['d'][i] == '2016':\n",
    "        t_2016 += df_CZL['v'][i]"
   ]
  },
  {
   "cell_type": "code",
   "execution_count": 155,
   "id": "2061c62f-4b17-40a0-bbe3-da306dc883ad",
   "metadata": {},
   "outputs": [],
   "source": [
    "czl_ts = pd.DataFrame()\n",
    "czl_ts = df_CZL"
   ]
  },
  {
   "cell_type": "code",
   "execution_count": 156,
   "id": "2e117d23-0766-49de-b853-2525fefdf2bf",
   "metadata": {},
   "outputs": [],
   "source": [
    "#Gets rid of dates that were multiples, to later be replaced by a sum\n",
    "for i in range(0, len(czl_ts)):\n",
    "    if czl_ts['d'][i] == '2022':\n",
    "        czl_ts.drop(i, inplace=True)\n",
    "    elif czl_ts['d'][i] == '2021':\n",
    "        czl_ts.drop(i, inplace=True)\n",
    "    elif czl_ts['d'][i] == '2020':\n",
    "        czl_ts.drop(i, inplace=True)\n",
    "    elif czl_ts['d'][i] == '2019':\n",
    "        czl_ts.drop(i, inplace=True)\n",
    "    elif czl_ts['d'][i] == '2018':\n",
    "        czl_ts.drop(i, inplace=True)\n",
    "    elif czl_ts['d'][i] == '2017':\n",
    "        czl_ts.drop(i, inplace=True)\n",
    "    elif czl_ts['d'][i] == '2016':\n",
    "        czl_ts.drop(i, inplace=True)"
   ]
  },
  {
   "cell_type": "code",
   "execution_count": 157,
   "id": "9042d4c6-7336-47c2-9b89-3c21177b597b",
   "metadata": {},
   "outputs": [],
   "source": [
    "row_2016 = {'d': '2016', 'v': t_2016}\n",
    "row_2017 = {'d': '2017', 'v': t_2017}\n",
    "row_2018 = {'d': '2018', 'v': t_2018}\n",
    "row_2019 = {'d': '2019', 'v': t_2019}\n",
    "row_2020 = {'d': '2020', 'v': t_2020}\n",
    "row_2021 = {'d': '2021', 'v': t_2021}\n",
    "row_2022 = {'d': '2022', 'v': t_2022}"
   ]
  },
  {
   "cell_type": "code",
   "execution_count": 158,
   "id": "114d6e1a-c7de-427a-9598-a1b9d535ac8c",
   "metadata": {},
   "outputs": [
    {
     "name": "stderr",
     "output_type": "stream",
     "text": [
      "C:\\Users\\Finley & Stein\\AppData\\Local\\Temp\\ipykernel_6096\\4157697202.py:1: FutureWarning: The frame.append method is deprecated and will be removed from pandas in a future version. Use pandas.concat instead.\n",
      "  czl_ts = czl_ts.append(row_2016, ignore_index=True)\n",
      "C:\\Users\\Finley & Stein\\AppData\\Local\\Temp\\ipykernel_6096\\4157697202.py:2: FutureWarning: The frame.append method is deprecated and will be removed from pandas in a future version. Use pandas.concat instead.\n",
      "  czl_ts = czl_ts.append(row_2017, ignore_index=True)\n",
      "C:\\Users\\Finley & Stein\\AppData\\Local\\Temp\\ipykernel_6096\\4157697202.py:3: FutureWarning: The frame.append method is deprecated and will be removed from pandas in a future version. Use pandas.concat instead.\n",
      "  czl_ts = czl_ts.append(row_2018, ignore_index=True)\n",
      "C:\\Users\\Finley & Stein\\AppData\\Local\\Temp\\ipykernel_6096\\4157697202.py:4: FutureWarning: The frame.append method is deprecated and will be removed from pandas in a future version. Use pandas.concat instead.\n",
      "  czl_ts = czl_ts.append(row_2019, ignore_index=True)\n",
      "C:\\Users\\Finley & Stein\\AppData\\Local\\Temp\\ipykernel_6096\\4157697202.py:5: FutureWarning: The frame.append method is deprecated and will be removed from pandas in a future version. Use pandas.concat instead.\n",
      "  czl_ts = czl_ts.append(row_2020, ignore_index=True)\n",
      "C:\\Users\\Finley & Stein\\AppData\\Local\\Temp\\ipykernel_6096\\4157697202.py:6: FutureWarning: The frame.append method is deprecated and will be removed from pandas in a future version. Use pandas.concat instead.\n",
      "  czl_ts = czl_ts.append(row_2021, ignore_index=True)\n",
      "C:\\Users\\Finley & Stein\\AppData\\Local\\Temp\\ipykernel_6096\\4157697202.py:7: FutureWarning: The frame.append method is deprecated and will be removed from pandas in a future version. Use pandas.concat instead.\n",
      "  czl_ts = czl_ts.append(row_2022, ignore_index=True)\n"
     ]
    }
   ],
   "source": [
    "czl_ts = czl_ts.append(row_2016, ignore_index=True)\n",
    "czl_ts = czl_ts.append(row_2017, ignore_index=True)\n",
    "czl_ts = czl_ts.append(row_2018, ignore_index=True)\n",
    "czl_ts = czl_ts.append(row_2019, ignore_index=True)\n",
    "czl_ts = czl_ts.append(row_2020, ignore_index=True)\n",
    "czl_ts = czl_ts.append(row_2021, ignore_index=True)\n",
    "czl_ts = czl_ts.append(row_2022, ignore_index=True)"
   ]
  },
  {
   "cell_type": "code",
   "execution_count": 159,
   "id": "6c0b71a5-e3ca-45a4-8ad7-d5f1747af6ca",
   "metadata": {},
   "outputs": [],
   "source": [
    "#Convert date to datetime\n",
    "czl_ts['d'] = pd.to_datetime(czl_ts['d'])"
   ]
  },
  {
   "cell_type": "code",
   "execution_count": 160,
   "id": "8d8a335b-6544-45bc-940f-63eb94052d45",
   "metadata": {},
   "outputs": [
    {
     "data": {
      "text/html": [
       "<div>\n",
       "<style scoped>\n",
       "    .dataframe tbody tr th:only-of-type {\n",
       "        vertical-align: middle;\n",
       "    }\n",
       "\n",
       "    .dataframe tbody tr th {\n",
       "        vertical-align: top;\n",
       "    }\n",
       "\n",
       "    .dataframe thead th {\n",
       "        text-align: right;\n",
       "    }\n",
       "</style>\n",
       "<table border=\"1\" class=\"dataframe\">\n",
       "  <thead>\n",
       "    <tr style=\"text-align: right;\">\n",
       "      <th></th>\n",
       "      <th>Unnamed: 0</th>\n",
       "      <th>v_l</th>\n",
       "    </tr>\n",
       "    <tr>\n",
       "      <th>d</th>\n",
       "      <th></th>\n",
       "      <th></th>\n",
       "    </tr>\n",
       "  </thead>\n",
       "  <tbody>\n",
       "    <tr>\n",
       "      <th>1985-01-01</th>\n",
       "      <td>0.0</td>\n",
       "      <td>122389.0</td>\n",
       "    </tr>\n",
       "    <tr>\n",
       "      <th>1986-01-01</th>\n",
       "      <td>0.0</td>\n",
       "      <td>122819.0</td>\n",
       "    </tr>\n",
       "    <tr>\n",
       "      <th>1987-01-01</th>\n",
       "      <td>0.0</td>\n",
       "      <td>119926.0</td>\n",
       "    </tr>\n",
       "    <tr>\n",
       "      <th>1988-01-01</th>\n",
       "      <td>0.0</td>\n",
       "      <td>129484.0</td>\n",
       "    </tr>\n",
       "    <tr>\n",
       "      <th>1989-01-01</th>\n",
       "      <td>0.0</td>\n",
       "      <td>131311.0</td>\n",
       "    </tr>\n",
       "  </tbody>\n",
       "</table>\n",
       "</div>"
      ],
      "text/plain": [
       "            Unnamed: 0       v_l\n",
       "d                               \n",
       "1985-01-01         0.0  122389.0\n",
       "1986-01-01         0.0  122819.0\n",
       "1987-01-01         0.0  119926.0\n",
       "1988-01-01         0.0  129484.0\n",
       "1989-01-01         0.0  131311.0"
      ]
     },
     "execution_count": 160,
     "metadata": {},
     "output_type": "execute_result"
    }
   ],
   "source": [
    "czl_ts.set_index('d', inplace = True)\n",
    "czl_ts.sort_index(inplace=True)\n",
    "czl_ts.drop(columns=['index'], inplace=True)\n",
    "czl_ts['v_l'] = czl_ts['v']\n",
    "czl_ts.drop(columns='v', inplace=True)\n",
    "czl_ts.head()"
   ]
  },
  {
   "cell_type": "code",
   "execution_count": 161,
   "id": "ec9d3908-9228-4981-b9ee-c1dbfb659099",
   "metadata": {},
   "outputs": [
    {
     "data": {
      "image/png": "[encoded data removed]",
      "text/plain": [
       "<Figure size 1800x900 with 1 Axes>"
      ]
     },
     "metadata": {},
     "output_type": "display_data"
    }
   ],
   "source": [
    "plot_series(czl_ts, cols=['v_l'], title = 'Change in people in CZL') "
   ]
  },
  {
   "cell_type": "code",
   "execution_count": null,
   "id": "95b22f9c-f503-4186-b37b-001296efa088",
   "metadata": {},
   "outputs": [],
   "source": []
  },
  {
   "cell_type": "code",
   "execution_count": 190,
   "id": "6c023e13-4303-4b55-adda-eafbfba3dadd",
   "metadata": {},
   "outputs": [],
   "source": [
    "# HCSBHP as an example\n",
    "\n",
    "df_HCSBHP = pd.read_csv('../data/HCSBHP.csv')\n",
    "df_HCSBHP = df_HCSBHP.loc[(df_HCSBHP['p'].isnull()) \\\n",
    "                          & (df_HCSBHP['g'] == '1714000'),['d','v']]\n",
    "df_HCSBHP = df_HCSBHP[df_HCSBHP['d'].str.len() == 4]"
   ]
  },
  {
   "cell_type": "code",
   "execution_count": 184,
   "id": "79108726-0800-4d4f-ac80-3bc802ae31d5",
   "metadata": {},
   "outputs": [],
   "source": []
  },
  {
   "cell_type": "code",
   "execution_count": 188,
   "id": "dc95c96c-761e-400f-9f3f-a0dfcf593d0e",
   "metadata": {},
   "outputs": [],
   "source": []
  },
  {
   "cell_type": "markdown",
   "id": "eb21fb5d-440d-47b6-bfeb-49d50105e5d1",
   "metadata": {},
   "source": [
    "### CZM (Coming Back to this, not enough data?)"
   ]
  },
  {
   "cell_type": "code",
   "execution_count": 162,
   "id": "3607dcc4-30fc-4820-a02a-02ecbe1a7f66",
   "metadata": {},
   "outputs": [
    {
     "data": {
      "text/html": [
       "<div>\n",
       "<style scoped>\n",
       "    .dataframe tbody tr th:only-of-type {\n",
       "        vertical-align: middle;\n",
       "    }\n",
       "\n",
       "    .dataframe tbody tr th {\n",
       "        vertical-align: top;\n",
       "    }\n",
       "\n",
       "    .dataframe thead th {\n",
       "        text-align: right;\n",
       "    }\n",
       "</style>\n",
       "<table border=\"1\" class=\"dataframe\">\n",
       "  <thead>\n",
       "    <tr style=\"text-align: right;\">\n",
       "      <th></th>\n",
       "      <th>Unnamed: 0</th>\n",
       "      <th>d</th>\n",
       "      <th>v</th>\n",
       "    </tr>\n",
       "  </thead>\n",
       "  <tbody>\n",
       "    <tr>\n",
       "      <th>0</th>\n",
       "      <td>0</td>\n",
       "      <td>2018-2022</td>\n",
       "      <td>1736.695116</td>\n",
       "    </tr>\n",
       "    <tr>\n",
       "      <th>1</th>\n",
       "      <td>1</td>\n",
       "      <td>2018-2022</td>\n",
       "      <td>282.027337</td>\n",
       "    </tr>\n",
       "    <tr>\n",
       "      <th>2</th>\n",
       "      <td>2</td>\n",
       "      <td>2018-2022</td>\n",
       "      <td>222.275814</td>\n",
       "    </tr>\n",
       "    <tr>\n",
       "      <th>3</th>\n",
       "      <td>3</td>\n",
       "      <td>2018-2022</td>\n",
       "      <td>158.659473</td>\n",
       "    </tr>\n",
       "    <tr>\n",
       "      <th>4</th>\n",
       "      <td>4</td>\n",
       "      <td>2018-2022</td>\n",
       "      <td>529.728256</td>\n",
       "    </tr>\n",
       "  </tbody>\n",
       "</table>\n",
       "</div>"
      ],
      "text/plain": [
       "   Unnamed: 0          d            v\n",
       "0           0  2018-2022  1736.695116\n",
       "1           1  2018-2022   282.027337\n",
       "2           2  2018-2022   222.275814\n",
       "3           3  2018-2022   158.659473\n",
       "4           4  2018-2022   529.728256"
      ]
     },
     "execution_count": 162,
     "metadata": {},
     "output_type": "execute_result"
    }
   ],
   "source": [
    "df_CZM = df_CZM.drop(columns=['p', 'se', 'g', 'l', 'a'])\n",
    "df_CZM.head()"
   ]
  },
  {
   "cell_type": "code",
   "execution_count": 163,
   "id": "d34a77f8-b5b2-4707-890f-08bb11bae93a",
   "metadata": {},
   "outputs": [],
   "source": [
    "#Making a new dataframe, removing dates with ranges\n",
    "for i in range(0, len(df_CZM)):\n",
    "    if len(df_CZM['d'][i]) > 4:\n",
    "        df_CZM.drop(i, inplace=True)"
   ]
  },
  {
   "cell_type": "code",
   "execution_count": 164,
   "id": "74c7a125-9068-40b6-a36b-281711322e67",
   "metadata": {},
   "outputs": [
    {
     "data": {
      "text/plain": [
       "2021    937\n",
       "2020    877\n",
       "2019    877\n",
       "2018    877\n",
       "2017    877\n",
       "2016    877\n",
       "2022    136\n",
       "Name: d, dtype: int64"
      ]
     },
     "execution_count": 164,
     "metadata": {},
     "output_type": "execute_result"
    }
   ],
   "source": [
    "df_CZM.reset_index(inplace=True)\n",
    "df_CZM['d'].value_counts()"
   ]
  },
  {
   "cell_type": "code",
   "execution_count": 165,
   "id": "a9969be0-8a72-4446-b57e-fe2b3e3d8c3e",
   "metadata": {},
   "outputs": [],
   "source": [
    "#Looping to take the sum of each year\n",
    "t_2022 = 0\n",
    "t_2021 = 0\n",
    "t_2020 = 0\n",
    "t_2019 = 0\n",
    "t_2018 = 0\n",
    "t_2017 = 0\n",
    "t_2016 = 0\n",
    "for i in range(0, len(df_CZM)):\n",
    "    if df_CZM['d'][i] == '2022':\n",
    "        t_2022 += df_CZM['v'][i]\n",
    "    elif df_CZM['d'][i] == '2021':\n",
    "        t_2021 += df_CZM['v'][i]\n",
    "    elif df_CZM['d'][i] == '2020':\n",
    "        t_2020 += df_CZM['v'][i]\n",
    "    elif df_CZM['d'][i] == '2019':\n",
    "        t_2019 += df_CZM['v'][i]\n",
    "    elif df_CZM['d'][i] == '2018':\n",
    "        t_2018 += df_CZM['v'][i]\n",
    "    elif df_CZM['d'][i] == '2017':\n",
    "        t_2017 += df_CZM['v'][i]\n",
    "    elif df_CZM['d'][i] == '2016':\n",
    "        t_2016 += df_CZM['v'][i]"
   ]
  },
  {
   "cell_type": "code",
   "execution_count": 166,
   "id": "9f4fd44b-9587-4628-8fd5-89d1cfda32ba",
   "metadata": {},
   "outputs": [],
   "source": [
    "row_2016 = {'d': '2016', 'v': t_2016}\n",
    "row_2017 = {'d': '2017', 'v': t_2017}\n",
    "row_2018 = {'d': '2018', 'v': t_2018}\n",
    "row_2019 = {'d': '2019', 'v': t_2019}\n",
    "row_2020 = {'d': '2020', 'v': t_2020}\n",
    "row_2021 = {'d': '2021', 'v': t_2021}\n",
    "row_2022 = {'d': '2022', 'v': t_2022}"
   ]
  },
  {
   "cell_type": "code",
   "execution_count": 167,
   "id": "56b59943-739b-4336-a278-5605d6da2dde",
   "metadata": {},
   "outputs": [],
   "source": [
    "czm_ts = pd.DataFrame()\n",
    "czm_ts = df_CZM"
   ]
  },
  {
   "cell_type": "code",
   "execution_count": 168,
   "id": "35f272f4-711a-4a24-a7fe-07e9a36ce425",
   "metadata": {},
   "outputs": [],
   "source": [
    "#Gets rid of dates that were multiples, to later be replaced by a sum\n",
    "for i in range(0, len(czm_ts)):\n",
    "    if czm_ts['d'][i] == '2022':\n",
    "        czm_ts.drop(i, inplace=True)\n",
    "    elif czm_ts['d'][i] == '2021':\n",
    "        czm_ts.drop(i, inplace=True)\n",
    "    elif czm_ts['d'][i] == '2020':\n",
    "        czm_ts.drop(i, inplace=True)\n",
    "    elif czm_ts['d'][i] == '2019':\n",
    "        czm_ts.drop(i, inplace=True)\n",
    "    elif czm_ts['d'][i] == '2018':\n",
    "        czm_ts.drop(i, inplace=True)\n",
    "    elif czm_ts['d'][i] == '2017':\n",
    "        czm_ts.drop(i, inplace=True)\n",
    "    elif czm_ts['d'][i] == '2016':\n",
    "        czm_ts.drop(i, inplace=True)"
   ]
  },
  {
   "cell_type": "code",
   "execution_count": 169,
   "id": "6aad40a5-ec81-49a6-ad4a-312410ef0c25",
   "metadata": {},
   "outputs": [
    {
     "name": "stderr",
     "output_type": "stream",
     "text": [
      "C:\\Users\\Finley & Stein\\AppData\\Local\\Temp\\ipykernel_6096\\814365260.py:1: FutureWarning: The frame.append method is deprecated and will be removed from pandas in a future version. Use pandas.concat instead.\n",
      "  czm_ts = czm_ts.append(row_2016, ignore_index=True)\n",
      "C:\\Users\\Finley & Stein\\AppData\\Local\\Temp\\ipykernel_6096\\814365260.py:2: FutureWarning: The frame.append method is deprecated and will be removed from pandas in a future version. Use pandas.concat instead.\n",
      "  czm_ts = czm_ts.append(row_2017, ignore_index=True)\n",
      "C:\\Users\\Finley & Stein\\AppData\\Local\\Temp\\ipykernel_6096\\814365260.py:3: FutureWarning: The frame.append method is deprecated and will be removed from pandas in a future version. Use pandas.concat instead.\n",
      "  czm_ts = czm_ts.append(row_2018, ignore_index=True)\n",
      "C:\\Users\\Finley & Stein\\AppData\\Local\\Temp\\ipykernel_6096\\814365260.py:4: FutureWarning: The frame.append method is deprecated and will be removed from pandas in a future version. Use pandas.concat instead.\n",
      "  czm_ts = czm_ts.append(row_2019, ignore_index=True)\n",
      "C:\\Users\\Finley & Stein\\AppData\\Local\\Temp\\ipykernel_6096\\814365260.py:5: FutureWarning: The frame.append method is deprecated and will be removed from pandas in a future version. Use pandas.concat instead.\n",
      "  czm_ts = czm_ts.append(row_2020, ignore_index=True)\n",
      "C:\\Users\\Finley & Stein\\AppData\\Local\\Temp\\ipykernel_6096\\814365260.py:6: FutureWarning: The frame.append method is deprecated and will be removed from pandas in a future version. Use pandas.concat instead.\n",
      "  czm_ts = czm_ts.append(row_2021, ignore_index=True)\n",
      "C:\\Users\\Finley & Stein\\AppData\\Local\\Temp\\ipykernel_6096\\814365260.py:7: FutureWarning: The frame.append method is deprecated and will be removed from pandas in a future version. Use pandas.concat instead.\n",
      "  czm_ts = czm_ts.append(row_2022, ignore_index=True)\n"
     ]
    }
   ],
   "source": [
    "czm_ts = czm_ts.append(row_2016, ignore_index=True)\n",
    "czm_ts = czm_ts.append(row_2017, ignore_index=True)\n",
    "czm_ts = czm_ts.append(row_2018, ignore_index=True)\n",
    "czm_ts = czm_ts.append(row_2019, ignore_index=True)\n",
    "czm_ts = czm_ts.append(row_2020, ignore_index=True)\n",
    "czm_ts = czm_ts.append(row_2021, ignore_index=True)\n",
    "czm_ts = czm_ts.append(row_2022, ignore_index=True)"
   ]
  },
  {
   "cell_type": "code",
   "execution_count": null,
   "id": "8aa26bb1-3c0b-4003-bf88-9586243e7d30",
   "metadata": {},
   "outputs": [],
   "source": [
    "#Convert date to datetime\n",
    "czm_ts['d'] = pd.to_datetime(czm_ts['d'])"
   ]
  },
  {
   "cell_type": "code",
   "execution_count": null,
   "id": "3b5f7ed8-e585-4a6c-b274-c5899fa23b80",
   "metadata": {},
   "outputs": [],
   "source": [
    "czm_ts.set_index('d', inplace = True)\n",
    "czm_ts.sort_index(inplace=True)\n",
    "czm_ts['v_m'] = czm_ts['v']\n",
    "czm_ts.drop(columns='v', inplace=True)"
   ]
  },
  {
   "cell_type": "code",
   "execution_count": null,
   "id": "21190966-7290-445c-b13b-a10118ba004a",
   "metadata": {},
   "outputs": [],
   "source": [
    "czm_ts.head()"
   ]
  },
  {
   "cell_type": "code",
   "execution_count": null,
   "id": "bb79a5de-b0f1-427d-bb3c-48766d4bdec5",
   "metadata": {},
   "outputs": [],
   "source": [
    "plot_series(czm_ts, cols=['v_m'], title = 'Change in people in CZM') "
   ]
  },
  {
   "cell_type": "code",
   "execution_count": null,
   "id": "082b3421-b377-4100-b17c-4a5ffdc1bd09",
   "metadata": {},
   "outputs": [],
   "source": []
  },
  {
   "cell_type": "markdown",
   "id": "93733845-15dd-4f3d-aa38-acf693dab347",
   "metadata": {},
   "source": [
    "### CZO"
   ]
  },
  {
   "cell_type": "code",
   "execution_count": null,
   "id": "aeb98033-3e47-401a-9ae1-380a6677c8c0",
   "metadata": {},
   "outputs": [],
   "source": [
    "df_CZO = df_CZO.drop(columns=['p', 'se', 'g', 'l', 'a'])\n",
    "df_CZO.head()"
   ]
  },
  {
   "cell_type": "code",
   "execution_count": null,
   "id": "438a9fc3-765d-42fd-bd67-b2ffe9165a36",
   "metadata": {},
   "outputs": [],
   "source": [
    "#Making a new dataframe, removing dates with ranges\n",
    "for i in range(0, len(df_CZO)):\n",
    "    if len(df_CZO['d'][i]) > 4:\n",
    "        df_CZO.drop(i, inplace=True)"
   ]
  },
  {
   "cell_type": "code",
   "execution_count": null,
   "id": "48964814-3d49-4380-a5c5-af6896295e34",
   "metadata": {},
   "outputs": [],
   "source": [
    "df_CZO.reset_index(inplace=True)\n",
    "df_CZO.drop(columns='index', inplace=True)"
   ]
  },
  {
   "cell_type": "code",
   "execution_count": null,
   "id": "1d994eba-091a-4d49-ae30-dcc1f89a2254",
   "metadata": {},
   "outputs": [],
   "source": [
    "#Looping to take the sum of each year\n",
    "t_2022 = 0\n",
    "t_2021 = 0\n",
    "t_2020 = 0\n",
    "t_2019 = 0\n",
    "t_2018 = 0\n",
    "t_2017 = 0\n",
    "t_2016 = 0\n",
    "for i in range(0, len(df_CZO)):\n",
    "    if df_CZO['d'][i] == '2022':\n",
    "        t_2022 += df_CZO['v'][i]\n",
    "    elif df_CZO['d'][i] == '2021':\n",
    "        t_2021 += df_CZO['v'][i]\n",
    "    elif df_CZO['d'][i] == '2020':\n",
    "        t_2020 += df_CZO['v'][i]\n",
    "    elif df_CZO['d'][i] == '2019':\n",
    "        t_2019 += df_CZO['v'][i]\n",
    "    elif df_CZO['d'][i] == '2018':\n",
    "        t_2018 += df_CZO['v'][i]\n",
    "    elif df_CZO['d'][i] == '2017':\n",
    "        t_2017 += df_CZO['v'][i]\n",
    "    elif df_CZO['d'][i] == '2016':\n",
    "        t_2016 += df_CZO['v'][i]"
   ]
  },
  {
   "cell_type": "code",
   "execution_count": null,
   "id": "aa6b941d-487d-4d16-8b05-16926aded24c",
   "metadata": {},
   "outputs": [],
   "source": [
    "row_2016 = {'d': '2016', 'v': t_2016}\n",
    "row_2017 = {'d': '2017', 'v': t_2017}\n",
    "row_2018 = {'d': '2018', 'v': t_2018}\n",
    "row_2019 = {'d': '2019', 'v': t_2019}\n",
    "row_2020 = {'d': '2020', 'v': t_2020}\n",
    "row_2021 = {'d': '2021', 'v': t_2021}\n",
    "row_2022 = {'d': '2022', 'v': t_2022}"
   ]
  },
  {
   "cell_type": "code",
   "execution_count": null,
   "id": "caf964ef-acf0-45b6-a5fa-b246861fcbe2",
   "metadata": {},
   "outputs": [],
   "source": [
    "czo_ts = pd.DataFrame()\n",
    "czo_ts = df_CZO"
   ]
  },
  {
   "cell_type": "code",
   "execution_count": null,
   "id": "b6e9f326-5d1f-4b30-9039-9a64bf89dae1",
   "metadata": {},
   "outputs": [],
   "source": [
    "#Gets rid of dates that were multiples, to later be replaced by a sum\n",
    "for i in range(0, len(czo_ts)):\n",
    "    if czo_ts['d'][i] == '2022':\n",
    "        czo_ts.drop(i, inplace=True)\n",
    "    elif czo_ts['d'][i] == '2021':\n",
    "        czo_ts.drop(i, inplace=True)\n",
    "    elif czo_ts['d'][i] == '2020':\n",
    "        czo_ts.drop(i, inplace=True)\n",
    "    elif czo_ts['d'][i] == '2019':\n",
    "        czo_ts.drop(i, inplace=True)\n",
    "    elif czo_ts['d'][i] == '2018':\n",
    "        czo_ts.drop(i, inplace=True)\n",
    "    elif czo_ts['d'][i] == '2017':\n",
    "        czo_ts.drop(i, inplace=True)\n",
    "    elif czo_ts['d'][i] == '2016':\n",
    "        czo_ts.drop(i, inplace=True)"
   ]
  },
  {
   "cell_type": "code",
   "execution_count": null,
   "id": "5cb8257f-dc7b-4974-ace1-59169b705041",
   "metadata": {},
   "outputs": [],
   "source": [
    "czo_ts = czo_ts.append(row_2016, ignore_index=True)\n",
    "czo_ts = czo_ts.append(row_2017, ignore_index=True)\n",
    "czo_ts = czo_ts.append(row_2018, ignore_index=True)\n",
    "czo_ts = czo_ts.append(row_2019, ignore_index=True)\n",
    "czo_ts = czo_ts.append(row_2020, ignore_index=True)\n",
    "czo_ts = czo_ts.append(row_2021, ignore_index=True)\n",
    "czo_ts = czo_ts.append(row_2022, ignore_index=True)"
   ]
  },
  {
   "cell_type": "code",
   "execution_count": null,
   "id": "d45862f4-018b-4660-8f35-35edd01452f0",
   "metadata": {},
   "outputs": [],
   "source": [
    "#Convert date to datetime\n",
    "czo_ts['d'] = pd.to_datetime(czo_ts['d'])"
   ]
  },
  {
   "cell_type": "code",
   "execution_count": null,
   "id": "d118e727-6a6f-49b1-a02a-37964aaac9cb",
   "metadata": {},
   "outputs": [],
   "source": [
    "czo_ts.set_index('d', inplace = True)\n",
    "czo_ts.sort_index(inplace=True)"
   ]
  },
  {
   "cell_type": "code",
   "execution_count": null,
   "id": "6bc7d5c9-0b6d-4df2-a516-a109a2935bf9",
   "metadata": {},
   "outputs": [],
   "source": [
    "czo_ts['v_o'] = czo_ts['v']\n",
    "czo_ts.drop(columns='v', inplace=True)"
   ]
  },
  {
   "cell_type": "code",
   "execution_count": null,
   "id": "7ab19b21-2f87-4e0c-860f-af4889e06e20",
   "metadata": {},
   "outputs": [],
   "source": [
    "czo_ts.head()"
   ]
  },
  {
   "cell_type": "code",
   "execution_count": null,
   "id": "67500ddf-ba64-46f6-828d-cad23c40d607",
   "metadata": {},
   "outputs": [],
   "source": [
    "plot_series(czo_ts, cols=['v_o'], title = 'Change in people in CZO') "
   ]
  },
  {
   "cell_type": "markdown",
   "id": "b0d517fa-7184-4154-abcd-94305a5f2de2",
   "metadata": {
    "tags": []
   },
   "source": [
    "### CZP"
   ]
  },
  {
   "cell_type": "code",
   "execution_count": null,
   "id": "cb504fe1-64b1-4e6e-920d-2495896cb95b",
   "metadata": {
    "tags": []
   },
   "outputs": [],
   "source": [
    "df_CZP = df_CZP.drop(columns=['p', 'se', 'g', 'l', 'a'])\n",
    "df_CZP.head()"
   ]
  },
  {
   "cell_type": "code",
   "execution_count": null,
   "id": "70aa29ff-4520-422a-ae29-4290e5007f80",
   "metadata": {},
   "outputs": [],
   "source": [
    "#Making a new dataframe, removing dates with ranges\n",
    "for i in range(0, len(df_CZP)):\n",
    "    if len(df_CZP['d'][i]) > 4:\n",
    "        df_CZP.drop(i, inplace=True)"
   ]
  },
  {
   "cell_type": "code",
   "execution_count": null,
   "id": "5ccb3c2c-ce15-4697-9f38-60718c934fb6",
   "metadata": {
    "tags": []
   },
   "outputs": [],
   "source": [
    "df_CZP.reset_index(inplace=True)\n",
    "df_CZP.drop(columns='index', inplace=True)"
   ]
  },
  {
   "cell_type": "code",
   "execution_count": null,
   "id": "0fb05285-29eb-4034-9124-d560862a17f6",
   "metadata": {},
   "outputs": [],
   "source": [
    "#Looping to take the sum of each year\n",
    "t_2022 = 0\n",
    "t_2021 = 0\n",
    "t_2020 = 0\n",
    "t_2019 = 0\n",
    "t_2018 = 0\n",
    "t_2017 = 0\n",
    "t_2016 = 0\n",
    "for i in range(0, len(df_CZP)):\n",
    "    if df_CZP['d'][i] == '2022':\n",
    "        t_2022 += df_CZP['v'][i]\n",
    "    elif df_CZP['d'][i] == '2021':\n",
    "        t_2021 += df_CZP['v'][i]\n",
    "    elif df_CZP['d'][i] == '2020':\n",
    "        t_2020 += df_CZP['v'][i]\n",
    "    elif df_CZP['d'][i] == '2019':\n",
    "        t_2019 += df_CZP['v'][i]\n",
    "    elif df_CZP['d'][i] == '2018':\n",
    "        t_2018 += df_CZP['v'][i]\n",
    "    elif df_CZP['d'][i] == '2017':\n",
    "        t_2017 += df_CZP['v'][i]\n",
    "    elif df_CZP['d'][i] == '2016':\n",
    "        t_2016 += df_CZP['v'][i]"
   ]
  },
  {
   "cell_type": "code",
   "execution_count": null,
   "id": "21655eb4-c7a1-4a13-94f9-6a3472e4abdb",
   "metadata": {},
   "outputs": [],
   "source": [
    "row_2016 = {'d': '2016', 'v': t_2016}\n",
    "row_2017 = {'d': '2017', 'v': t_2017}\n",
    "row_2018 = {'d': '2018', 'v': t_2018}\n",
    "row_2019 = {'d': '2019', 'v': t_2019}\n",
    "row_2020 = {'d': '2020', 'v': t_2020}\n",
    "row_2021 = {'d': '2021', 'v': t_2021}\n",
    "row_2022 = {'d': '2022', 'v': t_2022}"
   ]
  },
  {
   "cell_type": "code",
   "execution_count": null,
   "id": "80f5a652-60cc-4401-9fab-214257f0b4aa",
   "metadata": {},
   "outputs": [],
   "source": [
    "czp_ts = pd.DataFrame()\n",
    "czp_ts = df_CZP"
   ]
  },
  {
   "cell_type": "code",
   "execution_count": null,
   "id": "c80af49d-2c68-43f4-b8e9-9db47321196f",
   "metadata": {},
   "outputs": [],
   "source": [
    "#Gets rid of dates that were multiples, to later be replaced by a sum\n",
    "for i in range(0, len(czp_ts)):\n",
    "    if czp_ts['d'][i] == '2022':\n",
    "        czp_ts.drop(i, inplace=True)\n",
    "    elif czp_ts['d'][i] == '2021':\n",
    "        czp_ts.drop(i, inplace=True)\n",
    "    elif czp_ts['d'][i] == '2020':\n",
    "        czp_ts.drop(i, inplace=True)\n",
    "    elif czp_ts['d'][i] == '2019':\n",
    "        czp_ts.drop(i, inplace=True)\n",
    "    elif czp_ts['d'][i] == '2018':\n",
    "        czp_ts.drop(i, inplace=True)\n",
    "    elif czp_ts['d'][i] == '2017':\n",
    "        czp_ts.drop(i, inplace=True)\n",
    "    elif czp_ts['d'][i] == '2016':\n",
    "        czp_ts.drop(i, inplace=True)"
   ]
  },
  {
   "cell_type": "code",
   "execution_count": null,
   "id": "ab30a116-a11a-443f-a855-955a293871c1",
   "metadata": {
    "tags": []
   },
   "outputs": [],
   "source": [
    "czp_ts = czp_ts.append(row_2016, ignore_index=True)\n",
    "czp_ts = czp_ts.append(row_2017, ignore_index=True)\n",
    "czp_ts = czp_ts.append(row_2018, ignore_index=True)\n",
    "czp_ts = czp_ts.append(row_2019, ignore_index=True)\n",
    "czp_ts = czp_ts.append(row_2020, ignore_index=True)\n",
    "czp_ts = czp_ts.append(row_2021, ignore_index=True)\n",
    "czp_ts = czp_ts.append(row_2022, ignore_index=True)"
   ]
  },
  {
   "cell_type": "code",
   "execution_count": null,
   "id": "9d383424-0c95-4f80-b210-fed18aa9df7f",
   "metadata": {},
   "outputs": [],
   "source": [
    "#Convert date to datetime\n",
    "czp_ts['d'] = pd.to_datetime(czp_ts['d'])"
   ]
  },
  {
   "cell_type": "code",
   "execution_count": null,
   "id": "edb406fc-c244-49a2-b3e8-34b37834de40",
   "metadata": {},
   "outputs": [],
   "source": [
    "czp_ts.set_index('d', inplace = True)\n",
    "czp_ts.sort_index(inplace=True)"
   ]
  },
  {
   "cell_type": "code",
   "execution_count": null,
   "id": "87c47cb4-0a25-42d6-84bc-9811318cefa1",
   "metadata": {},
   "outputs": [],
   "source": [
    "czp_ts['v_p'] = czp_ts['v']\n",
    "czp_ts.drop(columns='v', inplace=True)"
   ]
  },
  {
   "cell_type": "code",
   "execution_count": null,
   "id": "1800911c-3c41-4a52-b370-743bb9c00b11",
   "metadata": {
    "tags": []
   },
   "outputs": [],
   "source": [
    "czp_ts.head()"
   ]
  },
  {
   "cell_type": "code",
   "execution_count": null,
   "id": "5b560db2-6dfd-4e61-ac6a-48dda41ecf06",
   "metadata": {
    "tags": []
   },
   "outputs": [],
   "source": [
    "plot_series(czp_ts, cols=['v_p'], title = 'Change in people in CZP') "
   ]
  },
  {
   "cell_type": "markdown",
   "id": "c0f2360d-a197-4e4f-a13f-db4e7f43a430",
   "metadata": {
    "tags": []
   },
   "source": [
    "### CZR"
   ]
  },
  {
   "cell_type": "code",
   "execution_count": null,
   "id": "61c7822a-ed1a-4c70-993a-b1eca80f9088",
   "metadata": {},
   "outputs": [],
   "source": [
    "df_CZR = df_CZR.drop(columns=['p', 'se', 'g', 'l', 'a'])"
   ]
  },
  {
   "cell_type": "code",
   "execution_count": null,
   "id": "72dc1950-abab-43d2-ba12-0700427aa7ea",
   "metadata": {},
   "outputs": [],
   "source": [
    "#Making a new dataframe, removing dates with ranges\n",
    "for i in range(0, len(df_CZR)):\n",
    "    if len(df_CZR['d'][i]) > 4:\n",
    "        df_CZR.drop(i, inplace=True)"
   ]
  },
  {
   "cell_type": "code",
   "execution_count": null,
   "id": "11737467-9595-4641-811d-05edd3c5d8d8",
   "metadata": {
    "tags": []
   },
   "outputs": [],
   "source": [
    "df_CZR.reset_index(inplace=True)\n",
    "df_CZR.drop(columns='index', inplace=True)"
   ]
  },
  {
   "cell_type": "code",
   "execution_count": null,
   "id": "f6588b99-fb39-4447-b18f-169dae95739e",
   "metadata": {
    "tags": []
   },
   "outputs": [],
   "source": [
    "df_CZR.head()"
   ]
  },
  {
   "cell_type": "code",
   "execution_count": null,
   "id": "f6c87c0d-62ad-40ca-bbc5-be4e7e1929f1",
   "metadata": {
    "tags": []
   },
   "outputs": [],
   "source": [
    "#Looping to take the sum of each year\n",
    "t_2022 = 0\n",
    "t_2021 = 0\n",
    "t_2020 = 0\n",
    "t_2019 = 0\n",
    "t_2018 = 0\n",
    "t_2017 = 0\n",
    "t_2016 = 0\n",
    "for i in range(0, len(df_CZR)):\n",
    "    if df_CZR['d'][i] == '2022':\n",
    "        t_2022 += df_CZR['v'][i]\n",
    "    elif df_CZR['d'][i] == '2021':\n",
    "        t_2021 += df_CZR['v'][i]\n",
    "    elif df_CZR['d'][i] == '2020':\n",
    "        t_2020 += df_CZR['v'][i]\n",
    "    elif df_CZR['d'][i] == '2019':\n",
    "        t_2019 += df_CZR['v'][i]\n",
    "    elif df_CZR['d'][i] == '2018':\n",
    "        t_2018 += df_CZR['v'][i]\n",
    "    elif df_CZR['d'][i] == '2017':\n",
    "        t_2017 += df_CZR['v'][i]\n",
    "    elif df_CZR['d'][i] == '2016':\n",
    "        t_2016 += df_CZR['v'][i]"
   ]
  },
  {
   "cell_type": "code",
   "execution_count": null,
   "id": "d19185c9-0b85-4cf5-9e4d-29171b4aa64b",
   "metadata": {},
   "outputs": [],
   "source": [
    "row_2016 = {'d': '2016', 'v': t_2016}\n",
    "row_2017 = {'d': '2017', 'v': t_2017}\n",
    "row_2018 = {'d': '2018', 'v': t_2018}\n",
    "row_2019 = {'d': '2019', 'v': t_2019}\n",
    "row_2020 = {'d': '2020', 'v': t_2020}\n",
    "row_2021 = {'d': '2021', 'v': t_2021}\n",
    "row_2022 = {'d': '2022', 'v': t_2022}"
   ]
  },
  {
   "cell_type": "code",
   "execution_count": null,
   "id": "afe4253d-0e62-45f2-9960-b856f868321d",
   "metadata": {},
   "outputs": [],
   "source": [
    "czr_ts = pd.DataFrame()\n",
    "czr_ts = df_CZR"
   ]
  },
  {
   "cell_type": "code",
   "execution_count": null,
   "id": "0b1cf9c2-3303-4923-8abb-415f36600908",
   "metadata": {},
   "outputs": [],
   "source": [
    "#Gets rid of dates that were multiples, to later be replaced by a sum\n",
    "for i in range(0, len(czr_ts)):\n",
    "    if czr_ts['d'][i] == '2022':\n",
    "        czr_ts.drop(i, inplace=True)\n",
    "    elif czr_ts['d'][i] == '2021':\n",
    "        czr_ts.drop(i, inplace=True)\n",
    "    elif czr_ts['d'][i] == '2020':\n",
    "        czr_ts.drop(i, inplace=True)\n",
    "    elif czr_ts['d'][i] == '2019':\n",
    "        czr_ts.drop(i, inplace=True)\n",
    "    elif czr_ts['d'][i] == '2018':\n",
    "        czr_ts.drop(i, inplace=True)\n",
    "    elif czr_ts['d'][i] == '2017':\n",
    "        czr_ts.drop(i, inplace=True)\n",
    "    elif czr_ts['d'][i] == '2016':\n",
    "        czr_ts.drop(i, inplace=True)"
   ]
  },
  {
   "cell_type": "code",
   "execution_count": null,
   "id": "5ce99e4c-2e71-42d7-b732-89eddc47ab7c",
   "metadata": {
    "tags": []
   },
   "outputs": [],
   "source": [
    "czr_ts = czr_ts.append(row_2016, ignore_index=True)\n",
    "czr_ts = czr_ts.append(row_2017, ignore_index=True)\n",
    "czr_ts = czr_ts.append(row_2018, ignore_index=True)\n",
    "czr_ts = czr_ts.append(row_2019, ignore_index=True)\n",
    "czr_ts = czr_ts.append(row_2020, ignore_index=True)\n",
    "czr_ts = czr_ts.append(row_2021, ignore_index=True)\n",
    "czr_ts = czr_ts.append(row_2022, ignore_index=True)"
   ]
  },
  {
   "cell_type": "code",
   "execution_count": null,
   "id": "07dde469-b3b4-4651-ab1e-293eba7ede77",
   "metadata": {
    "tags": []
   },
   "outputs": [],
   "source": [
    "#Convert date to datetime\n",
    "czr_ts['d'] = pd.to_datetime(czr_ts['d'])\n",
    "czr_ts.head()"
   ]
  },
  {
   "cell_type": "code",
   "execution_count": null,
   "id": "f1dea0d1-d7d6-46b1-8acc-7eda2719c9ed",
   "metadata": {},
   "outputs": [],
   "source": [
    "czr_ts.set_index('d', inplace = True)\n",
    "czr_ts.sort_index(inplace=True)\n",
    "czr_ts['v_r'] = czr_ts['v']\n",
    "czr_ts.drop(columns='v', inplace=True)"
   ]
  },
  {
   "cell_type": "code",
   "execution_count": null,
   "id": "3639c812-4124-4591-86c4-87392620475b",
   "metadata": {
    "tags": []
   },
   "outputs": [],
   "source": [
    "czr_ts.head()"
   ]
  },
  {
   "cell_type": "code",
   "execution_count": null,
   "id": "18459992-68c1-4365-8966-032134b96b6e",
   "metadata": {
    "tags": []
   },
   "outputs": [],
   "source": [
    "plot_series(czr_ts, cols=['v_r'], title = 'Change in people in CZR') "
   ]
  },
  {
   "cell_type": "markdown",
   "id": "7703ca28-6d2a-4358-986a-2714b2d127de",
   "metadata": {},
   "source": [
    "### CZS"
   ]
  },
  {
   "cell_type": "code",
   "execution_count": null,
   "id": "6343af14-f30a-4935-90e9-4aa6ea28fdb4",
   "metadata": {
    "tags": []
   },
   "outputs": [],
   "source": [
    "df_CZS = df_CZS.drop(columns=['p', 'se', 'g', 'l', 'a'])\n",
    "df_CZS.head()"
   ]
  },
  {
   "cell_type": "code",
   "execution_count": null,
   "id": "3b9d87c1-070e-40ec-89a9-ab4a7124bee0",
   "metadata": {},
   "outputs": [],
   "source": [
    "#Making a new dataframe, removing dates with ranges\n",
    "for i in range(0, len(df_CZS)):\n",
    "    if len(df_CZS['d'][i]) > 4:\n",
    "        df_CZS.drop(i, inplace=True)"
   ]
  },
  {
   "cell_type": "code",
   "execution_count": null,
   "id": "c15d4382-be6d-49a6-bf34-e0fd5c5c481e",
   "metadata": {},
   "outputs": [],
   "source": [
    "df_CZS['d'].value_counts()"
   ]
  },
  {
   "cell_type": "code",
   "execution_count": null,
   "id": "54e552bd-9d76-4b83-91e5-901d268be07e",
   "metadata": {},
   "outputs": [],
   "source": [
    "df_CZS.reset_index(inplace=True)\n",
    "df_CZS.drop(columns='index', inplace=True)"
   ]
  },
  {
   "cell_type": "code",
   "execution_count": null,
   "id": "9b4b37c6-c7a0-4940-b9ef-acbe0c09d7ac",
   "metadata": {},
   "outputs": [],
   "source": [
    "df_CZS.head()"
   ]
  },
  {
   "cell_type": "code",
   "execution_count": null,
   "id": "c3288b46-c66d-4e72-b3ae-aa24a13e9627",
   "metadata": {},
   "outputs": [],
   "source": [
    "#Looping to take the sum of each year\n",
    "t_2022 = 0\n",
    "t_2021 = 0\n",
    "t_2020 = 0\n",
    "t_2019 = 0\n",
    "t_2018 = 0\n",
    "t_2017 = 0\n",
    "t_2016 = 0\n",
    "for i in range(0, len(df_CZS)):\n",
    "    if df_CZS['d'][i] == '2022':\n",
    "        t_2022 += df_CZS['v'][i]\n",
    "    elif df_CZS['d'][i] == '2021':\n",
    "        t_2021 += df_CZS['v'][i]\n",
    "    elif df_CZS['d'][i] == '2020':\n",
    "        t_2020 += df_CZS['v'][i]\n",
    "    elif df_CZS['d'][i] == '2019':\n",
    "        t_2019 += df_CZS['v'][i]\n",
    "    elif df_CZS['d'][i] == '2018':\n",
    "        t_2018 += df_CZS['v'][i]\n",
    "    elif df_CZS['d'][i] == '2017':\n",
    "        t_2017 += df_CZS['v'][i]\n",
    "    elif df_CZS['d'][i] == '2016':\n",
    "        t_2016 += df_CZS['v'][i]"
   ]
  },
  {
   "cell_type": "code",
   "execution_count": null,
   "id": "a7defcde-2366-4c16-8c3f-ae6d4a90e737",
   "metadata": {},
   "outputs": [],
   "source": [
    "row_2016 = {'d': '2016', 'v': t_2016}\n",
    "row_2017 = {'d': '2017', 'v': t_2017}\n",
    "row_2018 = {'d': '2018', 'v': t_2018}\n",
    "row_2019 = {'d': '2019', 'v': t_2019}\n",
    "row_2020 = {'d': '2020', 'v': t_2020}\n",
    "row_2021 = {'d': '2021', 'v': t_2021}\n",
    "row_2022 = {'d': '2022', 'v': t_2022}"
   ]
  },
  {
   "cell_type": "code",
   "execution_count": null,
   "id": "4fa37cda-f66d-4e5a-8f89-dc6a193c23db",
   "metadata": {},
   "outputs": [],
   "source": [
    "czs_ts = pd.DataFrame()\n",
    "czs_ts = df_CZS"
   ]
  },
  {
   "cell_type": "code",
   "execution_count": null,
   "id": "4409c1ea-2780-471a-9f47-58d9ad7a8be1",
   "metadata": {},
   "outputs": [],
   "source": [
    "czs_ts.set_index('d', inplace = True)\n",
    "czs_ts.sort_index(inplace=True)\n",
    "czs_ts['v_s'] = czs_ts['v']\n",
    "czs_ts.drop(columns='v', inplace=True)"
   ]
  },
  {
   "cell_type": "code",
   "execution_count": null,
   "id": "66f642eb-952b-4d93-90de-26f55d7760d2",
   "metadata": {},
   "outputs": [],
   "source": [
    "czs_ts.head()"
   ]
  },
  {
   "cell_type": "code",
   "execution_count": null,
   "id": "f16f7a01-bf36-4bd0-93c9-e10b0f39baca",
   "metadata": {},
   "outputs": [],
   "source": [
    "plot_series(czs_ts, cols=['v_s'], title = 'Change in people in CZS') "
   ]
  },
  {
   "cell_type": "markdown",
   "id": "2cd53d0f-a6ce-4bb1-9df4-55d8c17d1eda",
   "metadata": {},
   "source": [
    "### CZT"
   ]
  },
  {
   "cell_type": "code",
   "execution_count": null,
   "id": "9993fa2f-8f1c-40f7-871e-d2cab43b7768",
   "metadata": {},
   "outputs": [],
   "source": [
    "df_CZT = df_CZT.drop(columns=['p', 'se', 'g', 'l', 'a'])\n",
    "df_CZT.head()"
   ]
  },
  {
   "cell_type": "code",
   "execution_count": null,
   "id": "447ddd0f-4af6-4461-8881-e5ee7aa4eb87",
   "metadata": {},
   "outputs": [],
   "source": [
    "#Making a new dataframe, removing dates with ranges\n",
    "for i in range(0, len(df_CZT)):\n",
    "    if len(df_CZT['d'][i]) > 4:\n",
    "        df_CZT.drop(i, inplace=True)"
   ]
  },
  {
   "cell_type": "code",
   "execution_count": null,
   "id": "1fa799e2-b453-414f-a431-748da0961a07",
   "metadata": {},
   "outputs": [],
   "source": [
    "df_CZT.reset_index(inplace=True)\n",
    "df_CZT.drop(columns='index', inplace=True)"
   ]
  },
  {
   "cell_type": "code",
   "execution_count": null,
   "id": "d9d40534-c772-44a6-a169-d64851ad2e9b",
   "metadata": {},
   "outputs": [],
   "source": [
    "df_CZT.head()"
   ]
  },
  {
   "cell_type": "code",
   "execution_count": null,
   "id": "5e0f8095-91ad-4b52-91a9-3e88a5eb9202",
   "metadata": {},
   "outputs": [],
   "source": [
    "#Looping to take the sum of each year\n",
    "t_2022 = 0\n",
    "t_2021 = 0\n",
    "t_2020 = 0\n",
    "t_2019 = 0\n",
    "t_2018 = 0\n",
    "t_2017 = 0\n",
    "t_2016 = 0\n",
    "for i in range(0, len(df_CZT)):\n",
    "    if df_CZT['d'][i] == '2022':\n",
    "        t_2022 += df_CZT['v'][i]\n",
    "    elif df_CZT['d'][i] == '2021':\n",
    "        t_2021 += df_CZT['v'][i]\n",
    "    elif df_CZT['d'][i] == '2020':\n",
    "        t_2020 += df_CZT['v'][i]\n",
    "    elif df_CZT['d'][i] == '2019':\n",
    "        t_2019 += df_CZT['v'][i]\n",
    "    elif df_CZT['d'][i] == '2018':\n",
    "        t_2018 += df_CZT['v'][i]\n",
    "    elif df_CZT['d'][i] == '2017':\n",
    "        t_2017 += df_CZT['v'][i]\n",
    "    elif df_CZT['d'][i] == '2016':\n",
    "        t_2016 += df_CZT['v'][i]"
   ]
  },
  {
   "cell_type": "code",
   "execution_count": null,
   "id": "90675434-6273-480e-bd8c-93c2ad9288f3",
   "metadata": {},
   "outputs": [],
   "source": [
    "row_2016 = {'d': '2016', 'v': t_2016}\n",
    "row_2017 = {'d': '2017', 'v': t_2017}\n",
    "row_2018 = {'d': '2018', 'v': t_2018}\n",
    "row_2019 = {'d': '2019', 'v': t_2019}\n",
    "row_2020 = {'d': '2020', 'v': t_2020}\n",
    "row_2021 = {'d': '2021', 'v': t_2021}\n",
    "row_2022 = {'d': '2022', 'v': t_2022}"
   ]
  },
  {
   "cell_type": "code",
   "execution_count": null,
   "id": "1927abec-e8a7-497d-80b4-75628b60d065",
   "metadata": {},
   "outputs": [],
   "source": [
    "czt_ts = pd.DataFrame()\n",
    "czt_ts = df_CZT"
   ]
  },
  {
   "cell_type": "code",
   "execution_count": null,
   "id": "0719e2db-534d-4b19-931a-98e125a0d24f",
   "metadata": {},
   "outputs": [],
   "source": [
    "czt_ts.set_index('d', inplace = True)\n",
    "czt_ts.sort_index(inplace= True)\n",
    "czt_ts['v_t'] = czt_ts['v']\n",
    "czt_ts.drop(columns='v', inplace=True)"
   ]
  },
  {
   "cell_type": "code",
   "execution_count": null,
   "id": "2c07feb4-a95b-4842-8597-c2445b79baf4",
   "metadata": {
    "tags": []
   },
   "outputs": [],
   "source": [
    "czt_ts.head()"
   ]
  },
  {
   "cell_type": "code",
   "execution_count": null,
   "id": "16e973bc-6d2b-423d-9763-05285f7e666f",
   "metadata": {
    "tags": []
   },
   "outputs": [],
   "source": [
    "plot_series(czt_ts, cols=['v_t'], title = 'Change in people in CZT')"
   ]
  },
  {
   "cell_type": "markdown",
   "id": "36c9150e-db75-45ef-8a2e-19648021f769",
   "metadata": {},
   "source": [
    "## VAR"
   ]
  },
  {
   "cell_type": "code",
   "execution_count": null,
   "id": "29f19ed5-14ab-440a-b7a3-edc20371bbc3",
   "metadata": {},
   "outputs": [],
   "source": [
    "test_VAR = pd.concat([cza_ts, czb_ts, czh_ts, czl_ts, czo_ts, czp_ts, czr_ts], axis=1)"
   ]
  },
  {
   "cell_type": "code",
   "execution_count": null,
   "id": "a7362f7c-cef1-4d99-bd95-2147abb7dc74",
   "metadata": {
    "tags": []
   },
   "outputs": [],
   "source": [
    "test_VAR.to_csv('../data/ts_combined.csv')"
   ]
  },
  {
   "cell_type": "code",
   "execution_count": null,
   "id": "e444fc74-7ec4-4c2d-a5f8-bc4dae5fe64a",
   "metadata": {},
   "outputs": [],
   "source": []
  },
  {
   "cell_type": "code",
   "execution_count": null,
   "id": "aff8c8d5-92b6-4c14-b6ae-38d1546990d7",
   "metadata": {},
   "outputs": [],
   "source": []
  },
  {
   "cell_type": "code",
   "execution_count": null,
   "id": "318f6fec-b477-40d7-a1dc-5e390382ec84",
   "metadata": {},
   "outputs": [],
   "source": []
  }
 ],
 "metadata": {
  "kernelspec": {
   "display_name": "Python 3 (ipykernel)",
   "language": "python",
   "name": "python3"
  },
  "language_info": {
   "codemirror_mode": {
    "name": "ipython",
    "version": 3
   },
   "file_extension": ".py",
   "mimetype": "text/x-python",
   "name": "python",
   "nbconvert_exporter": "python",
   "pygments_lexer": "ipython3",
   "version": "3.9.13"
  }
 },
 "nbformat": 4,
 "nbformat_minor": 5
}
