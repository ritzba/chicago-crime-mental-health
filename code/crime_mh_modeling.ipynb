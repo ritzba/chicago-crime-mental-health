{
 "cells": [
  {
   "cell_type": "code",
   "execution_count": 1,
   "id": "607ee22c-24fa-4495-8371-6a5406a0f3db",
   "metadata": {},
   "outputs": [],
   "source": [
    "import pandas as pd\n",
    "import numpy as np\n",
    "import matplotlib.pyplot as plt\n",
    "import seaborn as sns\n",
    "sns.set()"
   ]
  },
  {
   "cell_type": "code",
   "execution_count": 2,
   "id": "6907d212-86f9-47bc-88aa-ebb50d449de7",
   "metadata": {},
   "outputs": [],
   "source": [
    "from sklearn.model_selection import train_test_split, GridSearchCV\n",
    "from sklearn.linear_model import LinearRegression, Lasso, ElasticNet, Ridge"
   ]
  },
  {
   "cell_type": "code",
   "execution_count": 3,
   "id": "e1edd44f-71a7-436a-b90d-395927fff611",
   "metadata": {},
   "outputs": [],
   "source": [
    "from sklearn.metrics import mean_squared_error"
   ]
  },
  {
   "cell_type": "code",
   "execution_count": 4,
   "id": "32bd2531-db90-4534-834b-ac3c7071111a",
   "metadata": {
    "tags": []
   },
   "outputs": [],
   "source": [
    "from sklearn.preprocessing import PolynomialFeatures"
   ]
  },
  {
   "cell_type": "code",
   "execution_count": 5,
   "id": "4286c9a8-dc6d-4dce-9347-58a59c7a11a3",
   "metadata": {},
   "outputs": [],
   "source": [
    "from sklearn.neighbors import KNeighborsRegressor\n",
    "from sklearn.tree import DecisionTreeRegressor\n",
    "from sklearn.ensemble import RandomForestRegressor, AdaBoostRegressor\n",
    "from sklearn.preprocessing import OneHotEncoder, StandardScaler"
   ]
  },
  {
   "cell_type": "code",
   "execution_count": 6,
   "id": "20c094ad-d4e1-4fb6-8e3f-c671e90d2926",
   "metadata": {
    "tags": []
   },
   "outputs": [
    {
     "name": "stderr",
     "output_type": "stream",
     "text": [
      "C:\\Users\\rob\\anaconda3\\envs\\spatial\\lib\\site-packages\\geopandas\\_compat.py:123: UserWarning: The Shapely GEOS version (3.11.1-CAPI-1.17.1) is incompatible with the GEOS version PyGEOS was compiled with (3.10.4-CAPI-1.16.2). Conversions between both will be slow.\n",
      "  warnings.warn(\n",
      "C:\\Users\\rob\\AppData\\Local\\Temp\\ipykernel_18060\\378036255.py:5: UserWarning: Shapely 2.0 is installed, but because PyGEOS is also installed, GeoPandas will still use PyGEOS by default for now. To force to use and test Shapely 2.0, you have to set the environment variable USE_PYGEOS=0. You can do this before starting the Python process, or in your code before importing geopandas:\n",
      "\n",
      "import os\n",
      "os.environ['USE_PYGEOS'] = '0'\n",
      "import geopandas\n",
      "\n",
      "In a future release, GeoPandas will switch to using Shapely by default. If you are using PyGEOS directly (calling PyGEOS functions on geometries from GeoPandas), this will then stop working and you are encouraged to migrate from PyGEOS to Shapely 2.0 (https://shapely.readthedocs.io/en/latest/migration_pygeos.html).\n",
      "  import geopandas as gpd\n",
      "C:\\Users\\rob\\anaconda3\\envs\\spatial\\lib\\site-packages\\libpysal\\cg\\alpha_shapes.py:39: NumbaDeprecationWarning: \u001b[1mThe 'nopython' keyword argument was not supplied to the 'numba.jit' decorator. The implicit default value for this argument is currently False, but it will be changed to True in Numba 0.59.0. See https://numba.readthedocs.io/en/stable/reference/deprecation.html#deprecation-of-object-mode-fall-back-behaviour-when-using-jit for details.\u001b[0m\n",
      "  def nb_dist(x, y):\n",
      "C:\\Users\\rob\\anaconda3\\envs\\spatial\\lib\\site-packages\\libpysal\\cg\\alpha_shapes.py:165: NumbaDeprecationWarning: \u001b[1mThe 'nopython' keyword argument was not supplied to the 'numba.jit' decorator. The implicit default value for this argument is currently False, but it will be changed to True in Numba 0.59.0. See https://numba.readthedocs.io/en/stable/reference/deprecation.html#deprecation-of-object-mode-fall-back-behaviour-when-using-jit for details.\u001b[0m\n",
      "  def get_faces(triangle):\n",
      "C:\\Users\\rob\\anaconda3\\envs\\spatial\\lib\\site-packages\\libpysal\\cg\\alpha_shapes.py:199: NumbaDeprecationWarning: \u001b[1mThe 'nopython' keyword argument was not supplied to the 'numba.jit' decorator. The implicit default value for this argument is currently False, but it will be changed to True in Numba 0.59.0. See https://numba.readthedocs.io/en/stable/reference/deprecation.html#deprecation-of-object-mode-fall-back-behaviour-when-using-jit for details.\u001b[0m\n",
      "  def build_faces(faces, triangles_is, num_triangles, num_faces_single):\n",
      "C:\\Users\\rob\\anaconda3\\envs\\spatial\\lib\\site-packages\\libpysal\\cg\\alpha_shapes.py:261: NumbaDeprecationWarning: \u001b[1mThe 'nopython' keyword argument was not supplied to the 'numba.jit' decorator. The implicit default value for this argument is currently False, but it will be changed to True in Numba 0.59.0. See https://numba.readthedocs.io/en/stable/reference/deprecation.html#deprecation-of-object-mode-fall-back-behaviour-when-using-jit for details.\u001b[0m\n",
      "  def nb_mask_faces(mask, faces):\n"
     ]
    }
   ],
   "source": [
    "import matplotlib.pyplot as plt\n",
    "import numpy as np\n",
    "import pandas as pd\n",
    "import statsmodels.api as sm\n",
    "import geopandas as gpd\n",
    "import shapely\n",
    "from sodapy import Socrata\n",
    "import pysal.lib"
   ]
  },
  {
   "cell_type": "code",
   "execution_count": null,
   "id": "abb15c00-e129-40fd-8a99-689aa89a42a3",
   "metadata": {},
   "outputs": [],
   "source": []
  },
  {
   "cell_type": "code",
   "execution_count": 7,
   "id": "9bdec2de-5ff6-4fe1-b45a-ca9f811e856b",
   "metadata": {
    "tags": []
   },
   "outputs": [],
   "source": [
    "neighbor = gpd.GeoDataFrame.from_file('../geo/neighborhoods.geojson')\n",
    "comm = pd.read_csv('../geo/zip_comm.csv')\n",
    "census = pd.read_csv('../geo/census_zip.csv')"
   ]
  },
  {
   "cell_type": "code",
   "execution_count": 8,
   "id": "4fc4067f-05e5-45fd-a9fc-c2bea121678f",
   "metadata": {
    "tags": []
   },
   "outputs": [],
   "source": [
    "comm['ZCTA5'] = comm['ZCTA5'].astype('int').astype('str')\n",
    "comm['CHGOCA'] = comm['CHGOCA'].astype('int').astype('str')"
   ]
  },
  {
   "cell_type": "code",
   "execution_count": 9,
   "id": "050c8f9e-2ce0-4ca2-bb60-4083e195dab7",
   "metadata": {
    "tags": []
   },
   "outputs": [],
   "source": [
    "census['zip'] = census['zip'].astype('int').astype('str')\n",
    "census['tract'] = census['tract'].astype('str')"
   ]
  },
  {
   "cell_type": "code",
   "execution_count": null,
   "id": "bb4c829a-94f4-4b52-a2e1-c5b236c92b91",
   "metadata": {},
   "outputs": [],
   "source": []
  },
  {
   "cell_type": "code",
   "execution_count": 10,
   "id": "b80e856b-ee83-4e11-a12d-f44c31bec014",
   "metadata": {},
   "outputs": [],
   "source": [
    "data = ['EMSOD','HCSBDP','HCSBHP','HCSNVP',\n",
    "             'HCSSPDP','HDBHR','HDDRR','HDSZR',\n",
    "        'MEODR','YRDEP','VRALR','VRDIDR', 'VRDOR', 'VRSUR']"
   ]
  },
  {
   "cell_type": "code",
   "execution_count": 11,
   "id": "a54a88f2-a774-4006-9d4c-f550b3b3a55f",
   "metadata": {},
   "outputs": [],
   "source": [
    "files = [f'../data/{file}.csv' for file in data]"
   ]
  },
  {
   "cell_type": "code",
   "execution_count": 12,
   "id": "99816e1f-d8d4-40da-a9a9-c2766a85bca8",
   "metadata": {},
   "outputs": [],
   "source": [
    "mh = pd.concat(map(pd.read_csv, files),axis = 0)\n",
    "mh = mh[mh['p'].isnull()]\n",
    "mh = mh[mh['l'] != 'place']\n",
    "mh['g'] = mh['g'].astype('str')\n",
    "\n",
    "mh = mh.merge(comm, how = 'left', left_on = 'g', right_on = 'ZCTA5')"
   ]
  },
  {
   "cell_type": "code",
   "execution_count": 13,
   "id": "1671af10-cf7e-4db9-b2ab-eb90de27f675",
   "metadata": {
    "tags": []
   },
   "outputs": [],
   "source": [
    "mh.loc[mh['g'].str.len() == 5,'g'] = mh['CHGOCA']\n",
    "mh['g'] = mh['g'].str.replace('1714000-','')"
   ]
  },
  {
   "cell_type": "code",
   "execution_count": 14,
   "id": "6a9c236c-846b-4e30-8927-a760c6994089",
   "metadata": {
    "tags": []
   },
   "outputs": [],
   "source": [
    "neighbor = neighbor.merge(mh, how = 'left', left_on = 'area_numbe', right_on = 'g')"
   ]
  },
  {
   "cell_type": "code",
   "execution_count": 83,
   "id": "1244d6d7-bf7e-4dca-a18a-f180fbbf1542",
   "metadata": {
    "tags": []
   },
   "outputs": [
    {
     "name": "stderr",
     "output_type": "stream",
     "text": [
      "C:\\Users\\rob\\AppData\\Local\\Temp\\ipykernel_18060\\498829464.py:1: UserWarning: Geometry is in a geographic CRS. Results from 'centroid' are likely incorrect. Use 'GeoSeries.to_crs()' to re-project geometries to a projected CRS before this operation.\n",
      "\n",
      "  neighbor['long'] = neighbor['geometry'].centroid.x\n",
      "C:\\Users\\rob\\AppData\\Local\\Temp\\ipykernel_18060\\498829464.py:2: UserWarning: Geometry is in a geographic CRS. Results from 'centroid' are likely incorrect. Use 'GeoSeries.to_crs()' to re-project geometries to a projected CRS before this operation.\n",
      "\n",
      "  neighbor['lat'] = neighbor['geometry'].centroid.y\n"
     ]
    }
   ],
   "source": [
    "neighbor['long'] = neighbor['geometry'].centroid.x\n",
    "neighbor['lat'] = neighbor['geometry'].centroid.y"
   ]
  },
  {
   "cell_type": "markdown",
   "id": "ff29e862-b190-4c65-80e2-5c209ca24640",
   "metadata": {},
   "source": [
    "----"
   ]
  },
  {
   "cell_type": "markdown",
   "id": "47c59578-2005-4177-aa13-1ed9cb324acf",
   "metadata": {},
   "source": [
    "##  CZA"
   ]
  },
  {
   "cell_type": "code",
   "execution_count": 150,
   "id": "f69c2a80-b6fb-4370-83ba-c7e8491ab01d",
   "metadata": {
    "tags": []
   },
   "outputs": [],
   "source": [
    "CZA = pd.read_csv(f'../data/CZA.csv')\n",
    "CZB = pd.read_csv(f'../data/CZB.csv')\n",
    "CZD = pd.read_csv(f'../data/CZD.csv')\n",
    "CZH = pd.read_csv(f'../data/CZH.csv')\n",
    "CZL = pd.read_csv(f'../data/CZL.csv')\n",
    "CZM = pd.read_csv(f'../data/CZM.csv')\n",
    "CZO = pd.read_csv(f'../data/CZO.csv')\n",
    "CZP = pd.read_csv(f'../data/CZP.csv')\n",
    "CZR = pd.read_csv(f'../data/CZR.csv')\n",
    "CZS = pd.read_csv(f'../data/CZS.csv')\n",
    "CZT = pd.read_csv(f'../data/CZT.csv')\n",
    "CZU = pd.read_csv(f'../data/CZU.csv')\n",
    "CZV = pd.read_csv(f'../data/CZV.csv')"
   ]
  },
  {
   "cell_type": "code",
   "execution_count": 146,
   "id": "0a87ad1a-d0c5-4aa2-a973-3972bc46c77b",
   "metadata": {
    "tags": []
   },
   "outputs": [],
   "source": [
    "df = CZA"
   ]
  },
  {
   "cell_type": "code",
   "execution_count": 171,
   "id": "0696282b-a00b-4674-968d-f0aad60c4f64",
   "metadata": {
    "tags": []
   },
   "outputs": [],
   "source": [
    "def transform(df):\n",
    "    df.drop(df[df['p'].notnull()].index, inplace = True)\n",
    "    df.drop(df[df['l'] == 'place'].index, inplace = True)\n",
    "\n",
    "    df = df.merge(census, how = 'left', left_on = 'g', right_on = 'tract')\n",
    "    df['zip'] = df['zip'].astype('str')\n",
    "    df.loc[df['l'] == 'tract-2010','g'] = df['zip']\n",
    "\n",
    "    df = df.merge(comm, how = 'left', left_on = 'g', right_on = 'ZCTA5')\n",
    "    df['zip'] = df['zip'].astype('str')\n",
    "    df.loc[df['l'] == 'tract-2010','g'] = df['zip']\n",
    "\n",
    "    df.loc[df['g'].str.len() == 5,'g'] = df['CHGOCA']\n",
    "    df['g'] = df['g'].str.replace('1714000-','')\n",
    "\n",
    "    df = neighbor.merge(df, how = 'left', left_on = ['g','d'], right_on = ['g','d'])\n",
    "    df.dropna(subset = 'v_y',inplace = True)\n",
    "    df.rename(columns = {'a_x':'mh_stat','v_x':'mh_val','v_y':'crim_val'}, inplace = True)\n",
    "    return df"
   ]
  },
  {
   "cell_type": "code",
   "execution_count": 186,
   "id": "2bcfcc19-b591-4a82-9088-50df8316e9e5",
   "metadata": {
    "tags": []
   },
   "outputs": [
    {
     "name": "stdout",
     "output_type": "stream",
     "text": [
      "('lr', 10.534465983556602, 10.449511081283774)\n",
      "('lasso', 11.805790967379133, 11.764964385227657)\n",
      "('rg', 10.532918472290946, 10.451252699398585)\n",
      "('knn', 1.530250627707911e-15, 1.5060851752206681e-15)\n",
      "('dt', 8.818193050462454e-14, 8.493403924125657e-14)\n",
      "('rf', 6.062233380680906e-14, 6.038097041348159e-14)\n",
      "('abr', 5.82992504817946, 5.831386582890593)\n",
      "('lr', 6.052938431525064, 6.114156956941509)\n",
      "('lasso', 6.415198786749262, 6.4588279866936364)\n",
      "('rg', 6.04812560828611, 6.110624670128594)\n",
      "('knn', 7.566608288108627e-16, 7.525981095821164e-16)\n",
      "('dt', 4.741963615875575e-14, 4.6121668292788463e-14)\n",
      "('rf', 0.0003606083304017734, 0.0005099771915587499)\n",
      "('abr', 3.3401490937432534, 3.2961731914711603)\n",
      "('lr', 20.87022046687384, 20.904542488844516)\n",
      "('lasso', 21.83696941528489, 21.956253725841975)\n",
      "('rg', 20.716785905083267, 20.767291004792067)\n",
      "('knn', 2.1254581338350098e-15, 2.1878692845711333e-15)\n",
      "('dt', 6.696770191180607e-14, 6.599484758328037e-14)\n",
      "('rf', 7.726805505315927e-06, 1.21055777135188e-05)\n",
      "('abr', 8.08453664692895, 8.12903941391755)\n",
      "('lr', 0.6204346340813716, 0.614350827008393)\n",
      "('lasso', 1.1117284456723435, 1.113476112111781)\n",
      "('rg', 0.6202359525106254, 0.6142470483221163)\n",
      "('knn', 7.473017568234394e-17, 7.611774082556248e-17)\n",
      "('dt', 4.074602280843938e-15, 3.881345677433224e-15)\n",
      "('rf', 4.411695970955764e-06, 6.911799240718582e-06)\n",
      "('abr', 0.3373899641348009, 0.340309429495502)\n",
      "('lr', 68.95594927045094, 66.47425694719915)\n",
      "('lasso', 69.56005016500028, 66.93827571903878)\n",
      "('rg', 68.9530186308176, 66.48216722482408)\n",
      "('knn', 7.330150592334326e-15, 7.244675698415054e-15)\n",
      "('dt', 2.524557804383402e-13, 2.578214904788898e-13)\n",
      "('rf', 2.04194155670019e-13, 2.0618132341416667e-13)\n",
      "('abr', 17.567558793008036, 17.57111202836578)\n",
      "('lr', 80.51262446870994, 73.1604547690827)\n",
      "('lasso', 80.98111140527658, 73.40769324305408)\n",
      "('rg', 80.21879346366252, 72.86393090292472)\n",
      "('knn', 1.2002868210191515e-14, 1.068729918512653e-14)\n",
      "('dt', 5.030678541389348e-13, 5.025527106625957e-13)\n",
      "('rf', 2.859068933983084e-13, 2.917233784720059e-13)\n",
      "('abr', 24.100224719126754, 24.000078232587736)\n",
      "('lr', 0.28471918912320376, 0.2837653351656009)\n",
      "('lasso', 0.5273362610373092, 0.5286880245887248)\n",
      "('rg', 0.28271259714190106, 0.28190059885774116)\n",
      "('knn', 5.0993178617607926e-17, 5.138774963246111e-17)\n",
      "('dt', 1.8085248436718477e-15, 1.792205374559492e-15)\n",
      "('rf', 3.886791459918501e-06, 4.940025731097758e-06)\n",
      "('abr', 0.18986428204301903, 0.19135077128447303)\n",
      "('lr', 76.01764113866173, 80.65681229646796)\n",
      "('lasso', 76.71279066649352, 81.5465008776086)\n",
      "('rg', 75.96322571028345, 80.67764759399076)\n",
      "('knn', 1.4967120209711852e-14, 1.5749187043593773e-14)\n",
      "('dt', 6.099336346236232e-13, 6.198657373640275e-13)\n",
      "('rf', 3.8603652073777327e-13, 3.96367596438763e-13)\n",
      "('abr', 25.05566919235316, 24.786710023166776)\n",
      "('lr', 7.011977027535587, 6.980792090620978)\n",
      "('lasso', 7.666948273417876, 7.640430112536869)\n",
      "('rg', 6.970031239337676, 6.948433412489118)\n",
      "('knn', 9.577461015153191e-16, 9.536283661306802e-16)\n",
      "('dt', 5.223943975680957e-14, 5.079409035058074e-14)\n",
      "('rf', 0.00022768210814470442, 0.0003943569792810197)\n",
      "('abr', 2.944347075130126, 2.919439587025308)\n",
      "('lr', 0.9329105420970312, 0.9450449417702359)\n",
      "('lasso', 1.305680505841098, 1.3151501729020338)\n",
      "('rg', 0.932436719894355, 0.9450692085640386)\n",
      "('knn', 1.4433207693540388e-16, 1.3607058130283152e-16)\n",
      "('dt', 9.45639182519414e-15, 9.077973575645723e-15)\n",
      "('rf', 6.154567357254032e-15, 6.106736925214366e-15)\n",
      "('abr', 0.40952342363002014, 0.41250762079983955)\n",
      "('lr', 5.445728256310443, 5.476588362167378)\n",
      "('lasso', 6.0689153558447915, 6.110353767892038)\n",
      "('rg', 5.382665737752447, 5.4225992625351855)\n",
      "('knn', 9.141386115634763e-16, 9.080111368349346e-16)\n",
      "('dt', 5.101095080852434e-14, 4.9514544533304194e-14)\n",
      "('rf', 0.0001698651666501068, 0.00027979623478747604)\n",
      "('abr', 2.595078019402729, 2.604386320259713)\n",
      "('lr', 18.478523889786278, 18.275918250028887)\n",
      "('lasso', 19.67650610573806, 19.32279561682518)\n",
      "('rg', 18.446029414173747, 18.256398101841405)\n",
      "('knn', 4.021920060111412e-15, 4.042646121183279e-15)\n",
      "('dt', 1.7947819924431394e-13, 1.8117111391343786e-13)\n",
      "('rf', 1.0338141960942158e-13, 1.0345194956047424e-13)\n",
      "('abr', 12.01791624147993, 11.674183157783938)\n"
     ]
    }
   ],
   "source": [
    "values = []\n",
    "for stat in [CZA, CZB, CZD, CZH, CZL, CZM, CZO, CZP, CZR, CZS, CZT, CZV]:\n",
    "    X = transform(stat)[['mh_stat','mh_val','lat','long','d','crim_val']]\n",
    "    avgs = X.groupby(['mh_stat','mh_val','lat','long'])['crim_val'].agg('mean')\n",
    "    X['crim_val'] = X.groupby(['mh_stat','mh_val','lat','long'])['crim_val'].transform(lambda x: avgs[x.name])\n",
    "    \n",
    "    y = X['crim_val']\n",
    "    X = X.drop(columns = ['crim_val','d'])\n",
    "    \n",
    "    X = pd.get_dummies(X, columns = ['mh_stat'])\n",
    "    \n",
    "    X_train, X_test, y_train, y_test = train_test_split(X, y, random_state=42)\n",
    "\n",
    "    ss = StandardScaler()\n",
    "    X_train = ss.fit_transform(X_train)\n",
    "    X_test = ss.transform(X_test)\n",
    "    \n",
    "    poly = PolynomialFeatures()\n",
    "    X_train = poly.fit_transform(X_train)\n",
    "    X_test = poly.transform(X_test)\n",
    "    \n",
    "    base = [np.mean(y_train)] * len(y_test)\n",
    "    baseline = mean_squared_error(y_test, base, squared=False)\n",
    "    \n",
    "    lr = LinearRegression()\n",
    "    lr.fit(X_train, y_train)\n",
    "    lr_train = mean_squared_error(y_train, lr.predict(X_train), squared=False)\n",
    "    lr_test = mean_squared_error(y_test, lr.predict(X_test), squared=False)\n",
    "    print(('lr',lr_train,lr_test))\n",
    "    \n",
    "    lasso = Lasso()\n",
    "    lasso.fit(X_train, y_train)\n",
    "    lasso_train = mean_squared_error(y_train,lasso.predict(X_train), squared = False)\n",
    "    lasso_test = mean_squared_error(y_test, lasso.predict(X_test), squared=False)\n",
    "    print(('lasso',lasso_train, lasso_test))\n",
    "    \n",
    "    rg = Ridge()\n",
    "    rg.fit(X_train, y_train)\n",
    "    rg_train = mean_squared_error(y_train,rg.predict(X_train), squared = False) \n",
    "    rg_test = mean_squared_error(y_test, rg.predict(X_test), squared=False)\n",
    "    print(('rg',rg_train,rg_test))\n",
    "    \n",
    "    knn = KNeighborsRegressor()\n",
    "    knn.fit(X_train, y_train)\n",
    "    knn_train = mean_squared_error(y_train,knn.predict(X_train), squared = False)\n",
    "    knn_test = mean_squared_error(y_test, knn.predict(X_test), squared=False)\n",
    "    print(('knn',knn_train,knn_test))\n",
    "\n",
    "    dt = DecisionTreeRegressor()\n",
    "    dt.fit(X_train, y_train)\n",
    "    dt_train = mean_squared_error(y_train,dt.predict(X_train), squared = False) \n",
    "    dt_test = mean_squared_error(y_test, dt.predict(X_test), squared=False)\n",
    "    print(('dt',dt_train,dt_test))\n",
    "\n",
    "    rf = RandomForestRegressor()\n",
    "    rf.fit(X_train, y_train)\n",
    "    rf_train = mean_squared_error(y_train,rf.predict(X_train), squared = False)\n",
    "    rf_test = mean_squared_error(y_test, rf.predict(X_test), squared=False)\n",
    "    print(('rf',rf_train,rf_test))\n",
    "\n",
    "    abr = AdaBoostRegressor()\n",
    "    abr.fit(X_train, y_train)\n",
    "    abr_train = mean_squared_error(y_train,abr.predict(X_train), squared = False)\n",
    "    abr_test = mean_squared_error(y_test, abr.predict(X_test), squared=False)\n",
    "    print(('abr',abr_train,abr_test))\n",
    "    values.append([baseline, lr_train, lr_test, lasso_train, lasso_test, rg_train, rg_test, knn_train, knn_test, dt_train, dt_test, rf_train, rf_test, abr_train, abr_test])"
   ]
  },
  {
   "cell_type": "code",
   "execution_count": 195,
   "id": "e903d9a5-1c00-4080-9abf-fe23adb485f5",
   "metadata": {
    "tags": []
   },
   "outputs": [],
   "source": [
    "errors = pd.DataFrame(values, columns = ['baseline', 'lr_train', 'lr_test', 'lasso_train', 'lasso_test', \n",
    "                                'rg_train', 'rg_test', 'knn_train', 'knn_test', \n",
    "                                'dt_train', 'dt_test', 'rf_train', 'rf_test', \n",
    "                                'abr_train', 'abr_test'])"
   ]
  },
  {
   "cell_type": "code",
   "execution_count": 200,
   "id": "850c29cb-8dd2-42b3-b9bd-abb9aab8f4bb",
   "metadata": {
    "tags": []
   },
   "outputs": [],
   "source": [
    "columns = pd.DataFrame(['CZA','CZB', 'CZD', 'CZH', 'CZL','CZM', 'CZO', 'CZP', 'CZR', 'CZS', 'CZT', 'CZV'])"
   ]
  },
  {
   "cell_type": "code",
   "execution_count": 202,
   "id": "6113147c-4038-4e23-bd6a-201c0d8f1b70",
   "metadata": {
    "tags": []
   },
   "outputs": [],
   "source": [
    "errors = pd.concat([errors,columns], axis = 1)"
   ]
  },
  {
   "cell_type": "code",
   "execution_count": 213,
   "id": "fb8c40e3-fc57-4773-a2d1-44b8e21aecf1",
   "metadata": {
    "tags": []
   },
   "outputs": [],
   "source": [
    "errors.set_index(0, inplace = True)"
   ]
  },
  {
   "cell_type": "code",
   "execution_count": 215,
   "id": "24666d36-4d20-40ad-9bdb-1c7c5b747543",
   "metadata": {
    "tags": []
   },
   "outputs": [],
   "source": [
    "errors.to_csv('../data/errors.csv')"
   ]
  },
  {
   "cell_type": "code",
   "execution_count": 218,
   "id": "63e91c24-f06d-43b5-ba85-38e902d11f46",
   "metadata": {
    "tags": []
   },
   "outputs": [
    {
     "data": {
      "text/html": [
       "<div>\n",
       "<style scoped>\n",
       "    .dataframe tbody tr th:only-of-type {\n",
       "        vertical-align: middle;\n",
       "    }\n",
       "\n",
       "    .dataframe tbody tr th {\n",
       "        vertical-align: top;\n",
       "    }\n",
       "\n",
       "    .dataframe thead th {\n",
       "        text-align: right;\n",
       "    }\n",
       "</style>\n",
       "<table border=\"1\" class=\"dataframe\">\n",
       "  <thead>\n",
       "    <tr style=\"text-align: right;\">\n",
       "      <th></th>\n",
       "      <th>baseline</th>\n",
       "      <th>lr_train</th>\n",
       "      <th>lr_test</th>\n",
       "      <th>lasso_train</th>\n",
       "      <th>lasso_test</th>\n",
       "      <th>rg_train</th>\n",
       "      <th>rg_test</th>\n",
       "      <th>knn_train</th>\n",
       "      <th>knn_test</th>\n",
       "      <th>dt_train</th>\n",
       "      <th>dt_test</th>\n",
       "      <th>rf_train</th>\n",
       "      <th>rf_test</th>\n",
       "      <th>abr_train</th>\n",
       "      <th>abr_test</th>\n",
       "    </tr>\n",
       "  </thead>\n",
       "  <tbody>\n",
       "    <tr>\n",
       "      <th>count</th>\n",
       "      <td>12.000000</td>\n",
       "      <td>12.000000</td>\n",
       "      <td>12.000000</td>\n",
       "      <td>12.000000</td>\n",
       "      <td>12.000000</td>\n",
       "      <td>12.000000</td>\n",
       "      <td>12.000000</td>\n",
       "      <td>1.200000e+01</td>\n",
       "      <td>1.200000e+01</td>\n",
       "      <td>1.200000e+01</td>\n",
       "      <td>1.200000e+01</td>\n",
       "      <td>1.200000e+01</td>\n",
       "      <td>1.200000e+01</td>\n",
       "      <td>12.000000</td>\n",
       "      <td>12.000000</td>\n",
       "    </tr>\n",
       "    <tr>\n",
       "      <th>mean</th>\n",
       "      <td>28.990317</td>\n",
       "      <td>24.643178</td>\n",
       "      <td>24.194683</td>\n",
       "      <td>25.305752</td>\n",
       "      <td>24.841951</td>\n",
       "      <td>24.588915</td>\n",
       "      <td>24.151797</td>\n",
       "      <td>3.739697e-15</td>\n",
       "      <td>3.691298e-15</td>\n",
       "      <td>1.555079e-13</td>\n",
       "      <td>1.561268e-13</td>\n",
       "      <td>6.451507e-05</td>\n",
       "      <td>1.006740e-04</td>\n",
       "      <td>8.539349</td>\n",
       "      <td>8.479723</td>\n",
       "    </tr>\n",
       "    <tr>\n",
       "      <th>std</th>\n",
       "      <td>32.644718</td>\n",
       "      <td>31.236994</td>\n",
       "      <td>30.525501</td>\n",
       "      <td>31.247112</td>\n",
       "      <td>30.523201</td>\n",
       "      <td>31.189247</td>\n",
       "      <td>30.493490</td>\n",
       "      <td>5.039662e-15</td>\n",
       "      <td>5.017766e-15</td>\n",
       "      <td>2.024397e-13</td>\n",
       "      <td>2.050298e-13</td>\n",
       "      <td>1.209356e-04</td>\n",
       "      <td>1.840148e-04</td>\n",
       "      <td>9.109619</td>\n",
       "      <td>9.040950</td>\n",
       "    </tr>\n",
       "    <tr>\n",
       "      <th>min</th>\n",
       "      <td>0.528688</td>\n",
       "      <td>0.284719</td>\n",
       "      <td>0.283765</td>\n",
       "      <td>0.527336</td>\n",
       "      <td>0.528688</td>\n",
       "      <td>0.282713</td>\n",
       "      <td>0.281901</td>\n",
       "      <td>5.099318e-17</td>\n",
       "      <td>5.138775e-17</td>\n",
       "      <td>1.808525e-15</td>\n",
       "      <td>1.792205e-15</td>\n",
       "      <td>6.154567e-15</td>\n",
       "      <td>6.106737e-15</td>\n",
       "      <td>0.189864</td>\n",
       "      <td>0.191351</td>\n",
       "    </tr>\n",
       "    <tr>\n",
       "      <th>25%</th>\n",
       "      <td>6.196792</td>\n",
       "      <td>4.317524</td>\n",
       "      <td>4.343703</td>\n",
       "      <td>4.878107</td>\n",
       "      <td>4.911553</td>\n",
       "      <td>4.270108</td>\n",
       "      <td>4.303217</td>\n",
       "      <td>6.035786e-16</td>\n",
       "      <td>5.984662e-16</td>\n",
       "      <td>3.792883e-14</td>\n",
       "      <td>3.686074e-14</td>\n",
       "      <td>1.789910e-13</td>\n",
       "      <td>1.804990e-13</td>\n",
       "      <td>2.048689</td>\n",
       "      <td>2.056417</td>\n",
       "    </tr>\n",
       "    <tr>\n",
       "      <th>50%</th>\n",
       "      <td>14.331292</td>\n",
       "      <td>8.773222</td>\n",
       "      <td>8.715152</td>\n",
       "      <td>9.736370</td>\n",
       "      <td>9.702697</td>\n",
       "      <td>8.751475</td>\n",
       "      <td>8.699843</td>\n",
       "      <td>1.243998e-15</td>\n",
       "      <td>1.229857e-15</td>\n",
       "      <td>5.960357e-14</td>\n",
       "      <td>5.839447e-14</td>\n",
       "      <td>1.943396e-06</td>\n",
       "      <td>2.470013e-06</td>\n",
       "      <td>4.585037</td>\n",
       "      <td>4.563780</td>\n",
       "    </tr>\n",
       "    <tr>\n",
       "      <th>75%</th>\n",
       "      <td>40.757704</td>\n",
       "      <td>32.891653</td>\n",
       "      <td>32.296971</td>\n",
       "      <td>33.767740</td>\n",
       "      <td>33.201759</td>\n",
       "      <td>32.775844</td>\n",
       "      <td>32.196010</td>\n",
       "      <td>4.848978e-15</td>\n",
       "      <td>4.843154e-15</td>\n",
       "      <td>1.977226e-13</td>\n",
       "      <td>2.003337e-13</td>\n",
       "      <td>4.826140e-05</td>\n",
       "      <td>7.902824e-05</td>\n",
       "      <td>13.405327</td>\n",
       "      <td>13.148415</td>\n",
       "    </tr>\n",
       "    <tr>\n",
       "      <th>max</th>\n",
       "      <td>88.575164</td>\n",
       "      <td>80.512624</td>\n",
       "      <td>80.656812</td>\n",
       "      <td>80.981111</td>\n",
       "      <td>81.546501</td>\n",
       "      <td>80.218793</td>\n",
       "      <td>80.677648</td>\n",
       "      <td>1.496712e-14</td>\n",
       "      <td>1.574919e-14</td>\n",
       "      <td>6.099336e-13</td>\n",
       "      <td>6.198657e-13</td>\n",
       "      <td>3.606083e-04</td>\n",
       "      <td>5.099772e-04</td>\n",
       "      <td>25.055669</td>\n",
       "      <td>24.786710</td>\n",
       "    </tr>\n",
       "  </tbody>\n",
       "</table>\n",
       "</div>"
      ],
      "text/plain": [
       "        baseline   lr_train    lr_test  lasso_train  lasso_test   rg_train  \\\n",
       "count  12.000000  12.000000  12.000000    12.000000   12.000000  12.000000   \n",
       "mean   28.990317  24.643178  24.194683    25.305752   24.841951  24.588915   \n",
       "std    32.644718  31.236994  30.525501    31.247112   30.523201  31.189247   \n",
       "min     0.528688   0.284719   0.283765     0.527336    0.528688   0.282713   \n",
       "25%     6.196792   4.317524   4.343703     4.878107    4.911553   4.270108   \n",
       "50%    14.331292   8.773222   8.715152     9.736370    9.702697   8.751475   \n",
       "75%    40.757704  32.891653  32.296971    33.767740   33.201759  32.775844   \n",
       "max    88.575164  80.512624  80.656812    80.981111   81.546501  80.218793   \n",
       "\n",
       "         rg_test     knn_train      knn_test      dt_train       dt_test  \\\n",
       "count  12.000000  1.200000e+01  1.200000e+01  1.200000e+01  1.200000e+01   \n",
       "mean   24.151797  3.739697e-15  3.691298e-15  1.555079e-13  1.561268e-13   \n",
       "std    30.493490  5.039662e-15  5.017766e-15  2.024397e-13  2.050298e-13   \n",
       "min     0.281901  5.099318e-17  5.138775e-17  1.808525e-15  1.792205e-15   \n",
       "25%     4.303217  6.035786e-16  5.984662e-16  3.792883e-14  3.686074e-14   \n",
       "50%     8.699843  1.243998e-15  1.229857e-15  5.960357e-14  5.839447e-14   \n",
       "75%    32.196010  4.848978e-15  4.843154e-15  1.977226e-13  2.003337e-13   \n",
       "max    80.677648  1.496712e-14  1.574919e-14  6.099336e-13  6.198657e-13   \n",
       "\n",
       "           rf_train       rf_test  abr_train   abr_test  \n",
       "count  1.200000e+01  1.200000e+01  12.000000  12.000000  \n",
       "mean   6.451507e-05  1.006740e-04   8.539349   8.479723  \n",
       "std    1.209356e-04  1.840148e-04   9.109619   9.040950  \n",
       "min    6.154567e-15  6.106737e-15   0.189864   0.191351  \n",
       "25%    1.789910e-13  1.804990e-13   2.048689   2.056417  \n",
       "50%    1.943396e-06  2.470013e-06   4.585037   4.563780  \n",
       "75%    4.826140e-05  7.902824e-05  13.405327  13.148415  \n",
       "max    3.606083e-04  5.099772e-04  25.055669  24.786710  "
      ]
     },
     "execution_count": 218,
     "metadata": {},
     "output_type": "execute_result"
    }
   ],
   "source": [
    "errors.describe()"
   ]
  },
  {
   "cell_type": "code",
   "execution_count": null,
   "id": "6d5e7f56-74c0-4c05-b837-c93ff5e5e7da",
   "metadata": {},
   "outputs": [],
   "source": []
  },
  {
   "cell_type": "code",
   "execution_count": null,
   "id": "afeafefb-b400-4f21-ab08-fe413b562de6",
   "metadata": {
    "tags": []
   },
   "outputs": [
    {
     "name": "stdout",
     "output_type": "stream",
     "text": [
      "{'n_neighbors': 3, 'p': 1}\n"
     ]
    }
   ],
   "source": [
    "for stat in [CZA, CZB, CZD, CZH, CZL, CZM, CZO, CZP, CZR, CZS, CZT, CZV]:\n",
    "    X = transform(stat)[['mh_stat','mh_val','lat','long','d','crim_val']]\n",
    "    avgs = X.groupby(['mh_stat','mh_val','lat','long'])['crim_val'].agg('mean')\n",
    "    X['crim_val'] = X.groupby(['mh_stat','mh_val','lat','long'])['crim_val'].transform(lambda x: avgs[x.name])\n",
    "    \n",
    "    y = X['crim_val']\n",
    "    X = X.drop(columns = ['crim_val','d'])\n",
    "    \n",
    "    X = pd.get_dummies(X, columns = ['mh_stat'])\n",
    "    \n",
    "    X_train, X_test, y_train, y_test = train_test_split(X, y, random_state=42)\n",
    "\n",
    "    ss = StandardScaler()\n",
    "    X_train = ss.fit_transform(X_train)\n",
    "    X_test = ss.transform(X_test)\n",
    "    \n",
    "    poly = PolynomialFeatures()\n",
    "    X_train = poly.fit_transform(X_train)\n",
    "    X_test = poly.transform(X_test)\n",
    "    \n",
    "    gs = GridSearchCV(KNeighborsRegressor(),\n",
    "                      param_grid = {'n_neighbors':[3,5,7,10,15],\n",
    "                                   'p':[1,2]},\n",
    "                      cv = 5,\n",
    "                      n_jobs = -1)\n",
    "    \n",
    "    gs.fit(X_train, y_train)\n",
    "    print(gs.best_params_)"
   ]
  },
  {
   "cell_type": "code",
   "execution_count": null,
   "id": "10b54611-2d93-43c8-bfc6-ffb19ba1ed69",
   "metadata": {},
   "outputs": [],
   "source": [
    ", CZB, CZD, CZH, CZL, CZM, CZO, CZP, CZR, CZS, CZT, CZV"
   ]
  },
  {
   "cell_type": "code",
   "execution_count": 221,
   "id": "346a094b-7be1-4a83-acb1-cfdde80b0cad",
   "metadata": {
    "tags": []
   },
   "outputs": [],
   "source": [
    "for stat in [CZA]:\n",
    "    X = transform(stat)[['mh_stat','mh_val','lat','long','d','crim_val']]\n",
    "    avgs = X.groupby(['mh_stat','mh_val','lat','long'])['crim_val'].agg('mean')\n",
    "    X['crim_val'] = X.groupby(['mh_stat','mh_val','lat','long'])['crim_val'].transform(lambda x: avgs[x.name])\n",
    "    \n",
    "    y = X['crim_val']\n",
    "    X = X.drop(columns = ['crim_val','d'])\n",
    "    \n",
    "    X = pd.get_dummies(X, columns = ['mh_stat'])\n",
    "    \n",
    "    X_train, X_test, y_train, y_test = train_test_split(X, y, random_state=42)\n",
    "\n",
    "    ss = StandardScaler()\n",
    "    X_train = ss.fit_transform(X_train)\n",
    "    X_test = ss.transform(X_test)\n",
    "    \n",
    "    poly = PolynomialFeatures()\n",
    "    X_train = poly.fit_transform(X_train)\n",
    "    X_test = poly.transform(X_test)\n",
    "    \n",
    "    knn = KNeighborsRegressor(n_neighbors=3)\n",
    "    knn.fit(X_train,y_train)\n",
    "    y_pred = knn.predict(X_test)"
   ]
  },
  {
   "cell_type": "code",
   "execution_count": 223,
   "id": "9fe06cac-98c0-4d9b-b373-4182a0a7a51e",
   "metadata": {},
   "outputs": [
    {
     "data": {
      "text/plain": [
       "[array([[ 1.        , -0.72260815, -1.51503973, ...,  0.33169827,\n",
       "          0.3333699 ,  0.33504995],\n",
       "        [ 1.        , -0.091508  , -0.48239101, ...,  0.33169827,\n",
       "          0.3333699 ,  0.33504995],\n",
       "        [ 1.        , -0.4717863 ,  1.03157575, ...,  0.33169827,\n",
       "          0.3333699 ,  0.33504995],\n",
       "        ...,\n",
       "        [ 1.        ,  2.837444  ,  0.4378657 , ...,  3.01478808,\n",
       "         -1.0050396 ,  0.33504995],\n",
       "        [ 1.        , -0.3544664 ,  1.23083567, ...,  0.33169827,\n",
       "          0.3333699 ,  0.33504995],\n",
       "        [ 1.        , -0.86824665, -0.27181914, ...,  0.33169827,\n",
       "         -0.99498567,  2.98462961]]),\n",
       " array([50.63247933, 18.938757  ,  7.79390601, ..., 63.73305938,\n",
       "        13.3781609 , 23.45584757])]"
      ]
     },
     "execution_count": 223,
     "metadata": {},
     "output_type": "execute_result"
    }
   ],
   "source": [
    "[X_test,y_pred]"
   ]
  },
  {
   "cell_type": "code",
   "execution_count": null,
   "id": "cea3c84e-cbed-4656-ad6f-0b72624c7c34",
   "metadata": {},
   "outputs": [],
   "source": []
  },
  {
   "cell_type": "code",
   "execution_count": null,
   "id": "db872a38-4f60-40fc-a906-f22b0ff1f52e",
   "metadata": {},
   "outputs": [],
   "source": []
  }
 ],
 "metadata": {
  "kernelspec": {
   "display_name": "Python 3 (ipykernel)",
   "language": "python",
   "name": "python3"
  },
  "language_info": {
   "codemirror_mode": {
    "name": "ipython",
    "version": 3
   },
   "file_extension": ".py",
   "mimetype": "text/x-python",
   "name": "python",
   "nbconvert_exporter": "python",
   "pygments_lexer": "ipython3",
   "version": "3.10.11"
  }
 },
 "nbformat": 4,
 "nbformat_minor": 5
}
