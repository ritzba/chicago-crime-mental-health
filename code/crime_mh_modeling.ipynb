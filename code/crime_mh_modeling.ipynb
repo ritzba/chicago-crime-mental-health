{
 "cells": [
  {
   "cell_type": "code",
   "execution_count": 15,
   "id": "607ee22c-24fa-4495-8371-6a5406a0f3db",
   "metadata": {},
   "outputs": [],
   "source": [
    "import pandas as pd\n",
    "import numpy as np\n",
    "import matplotlib.pyplot as plt\n",
    "import seaborn as sns\n",
    "sns.set()"
   ]
  },
  {
   "cell_type": "code",
   "execution_count": 16,
   "id": "6907d212-86f9-47bc-88aa-ebb50d449de7",
   "metadata": {},
   "outputs": [],
   "source": [
    "from sklearn.model_selection import train_test_split, GridSearchCV\n",
    "from sklearn.linear_model import LinearRegression, Lasso, ElasticNet, Ridge"
   ]
  },
  {
   "cell_type": "code",
   "execution_count": 17,
   "id": "e1edd44f-71a7-436a-b90d-395927fff611",
   "metadata": {},
   "outputs": [],
   "source": [
    "from sklearn.metrics import mean_squared_error"
   ]
  },
  {
   "cell_type": "code",
   "execution_count": 18,
   "id": "32bd2531-db90-4534-834b-ac3c7071111a",
   "metadata": {
    "tags": []
   },
   "outputs": [],
   "source": [
    "from sklearn.preprocessing import PolynomialFeatures"
   ]
  },
  {
   "cell_type": "code",
   "execution_count": 19,
   "id": "4286c9a8-dc6d-4dce-9347-58a59c7a11a3",
   "metadata": {},
   "outputs": [],
   "source": [
    "from sklearn.neighbors import KNeighborsRegressor\n",
    "from sklearn.tree import DecisionTreeRegressor\n",
    "from sklearn.ensemble import RandomForestRegressor, AdaBoostRegressor\n",
    "from sklearn.preprocessing import OneHotEncoder, StandardScaler"
   ]
  },
  {
   "cell_type": "code",
   "execution_count": 20,
   "id": "20c094ad-d4e1-4fb6-8e3f-c671e90d2926",
   "metadata": {
    "tags": []
   },
   "outputs": [],
   "source": [
    "import matplotlib.pyplot as plt\n",
    "import numpy as np\n",
    "import pandas as pd\n",
    "import statsmodels.api as sm\n",
    "import geopandas as gpd\n",
    "import shapely"
   ]
  },
  {
   "cell_type": "code",
   "execution_count": null,
   "id": "abb15c00-e129-40fd-8a99-689aa89a42a3",
   "metadata": {},
   "outputs": [],
   "source": []
  },
  {
   "cell_type": "code",
   "execution_count": 21,
   "id": "9bdec2de-5ff6-4fe1-b45a-ca9f811e856b",
   "metadata": {
    "tags": []
   },
   "outputs": [],
   "source": [
    "neighbor = gpd.GeoDataFrame.from_file('../geo/neighborhoods.geojson')\n",
    "comm = pd.read_csv('../geo/zip_comm.csv')\n",
    "census = pd.read_csv('../geo/census_zip.csv')"
   ]
  },
  {
   "cell_type": "code",
   "execution_count": 22,
   "id": "4fc4067f-05e5-45fd-a9fc-c2bea121678f",
   "metadata": {
    "tags": []
   },
   "outputs": [],
   "source": [
    "comm['ZCTA5'] = comm['ZCTA5'].astype('int').astype('str')\n",
    "comm['CHGOCA'] = comm['CHGOCA'].astype('int').astype('str')"
   ]
  },
  {
   "cell_type": "code",
   "execution_count": 23,
   "id": "050c8f9e-2ce0-4ca2-bb60-4083e195dab7",
   "metadata": {
    "tags": []
   },
   "outputs": [],
   "source": [
    "census['zip'] = census['zip'].astype('int').astype('str')\n",
    "census['tract'] = census['tract'].astype('str')"
   ]
  },
  {
   "cell_type": "code",
   "execution_count": null,
   "id": "bb4c829a-94f4-4b52-a2e1-c5b236c92b91",
   "metadata": {},
   "outputs": [],
   "source": []
  },
  {
   "cell_type": "code",
   "execution_count": 24,
   "id": "b80e856b-ee83-4e11-a12d-f44c31bec014",
   "metadata": {},
   "outputs": [],
   "source": [
    "data = ['EMSOD','HCSBDP','HCSBHP','HCSNVP',\n",
    "             'HCSSPDP','HDBHR','HDDRR','HDSZR',\n",
    "        'MEODR','YRDEP','VRALR','VRDIDR', 'VRDOR', 'VRSUR']"
   ]
  },
  {
   "cell_type": "code",
   "execution_count": 25,
   "id": "a54a88f2-a774-4006-9d4c-f550b3b3a55f",
   "metadata": {},
   "outputs": [],
   "source": [
    "files = [f'../data/{file}.csv' for file in data]"
   ]
  },
  {
   "cell_type": "code",
   "execution_count": 26,
   "id": "99816e1f-d8d4-40da-a9a9-c2766a85bca8",
   "metadata": {},
   "outputs": [],
   "source": [
    "mh = pd.concat(map(pd.read_csv, files),axis = 0)\n",
    "mh = mh[mh['p'].isnull()]\n",
    "mh = mh[mh['l'] != 'place']\n",
    "mh['g'] = mh['g'].astype('str')\n",
    "\n",
    "mh = mh.merge(comm, how = 'left', left_on = 'g', right_on = 'ZCTA5')"
   ]
  },
  {
   "cell_type": "code",
   "execution_count": 27,
   "id": "1671af10-cf7e-4db9-b2ab-eb90de27f675",
   "metadata": {
    "tags": []
   },
   "outputs": [],
   "source": [
    "mh.loc[mh['g'].str.len() == 5,'g'] = mh['CHGOCA']\n",
    "mh['g'] = mh['g'].str.replace('1714000-','')"
   ]
  },
  {
   "cell_type": "code",
   "execution_count": 28,
   "id": "6a9c236c-846b-4e30-8927-a760c6994089",
   "metadata": {
    "tags": []
   },
   "outputs": [],
   "source": [
    "neighbor = neighbor.merge(mh, how = 'left', left_on = 'area_numbe', right_on = 'g')"
   ]
  },
  {
   "cell_type": "code",
   "execution_count": 29,
   "id": "1244d6d7-bf7e-4dca-a18a-f180fbbf1542",
   "metadata": {
    "tags": []
   },
   "outputs": [
    {
     "name": "stderr",
     "output_type": "stream",
     "text": [
      "C:\\Users\\Finley & Stein\\AppData\\Local\\Temp\\ipykernel_4492\\498829464.py:1: UserWarning: Geometry is in a geographic CRS. Results from 'centroid' are likely incorrect. Use 'GeoSeries.to_crs()' to re-project geometries to a projected CRS before this operation.\n",
      "\n",
      "  neighbor['long'] = neighbor['geometry'].centroid.x\n",
      "C:\\Users\\Finley & Stein\\AppData\\Local\\Temp\\ipykernel_4492\\498829464.py:2: UserWarning: Geometry is in a geographic CRS. Results from 'centroid' are likely incorrect. Use 'GeoSeries.to_crs()' to re-project geometries to a projected CRS before this operation.\n",
      "\n",
      "  neighbor['lat'] = neighbor['geometry'].centroid.y\n"
     ]
    }
   ],
   "source": [
    "neighbor['long'] = neighbor['geometry'].centroid.x\n",
    "neighbor['lat'] = neighbor['geometry'].centroid.y"
   ]
  },
  {
   "cell_type": "markdown",
   "id": "ff29e862-b190-4c65-80e2-5c209ca24640",
   "metadata": {},
   "source": [
    "----"
   ]
  },
  {
   "cell_type": "markdown",
   "id": "47c59578-2005-4177-aa13-1ed9cb324acf",
   "metadata": {},
   "source": [
    "##  CZA"
   ]
  },
  {
   "cell_type": "code",
   "execution_count": 30,
   "id": "f69c2a80-b6fb-4370-83ba-c7e8491ab01d",
   "metadata": {
    "tags": []
   },
   "outputs": [],
   "source": [
    "CZA = pd.read_csv(f'../data/CZA.csv')\n",
    "CZB = pd.read_csv(f'../data/CZB.csv')\n",
    "CZD = pd.read_csv(f'../data/CZD.csv')\n",
    "CZH = pd.read_csv(f'../data/CZH.csv')\n",
    "CZL = pd.read_csv(f'../data/CZL.csv')\n",
    "CZM = pd.read_csv(f'../data/CZM.csv')\n",
    "CZO = pd.read_csv(f'../data/CZO.csv')\n",
    "CZP = pd.read_csv(f'../data/CZP.csv')\n",
    "CZR = pd.read_csv(f'../data/CZR.csv')\n",
    "CZS = pd.read_csv(f'../data/CZS.csv')\n",
    "CZT = pd.read_csv(f'../data/CZT.csv')\n",
    "CZU = pd.read_csv(f'../data/CZU.csv')\n",
    "CZV = pd.read_csv(f'../data/CZV.csv')"
   ]
  },
  {
   "cell_type": "code",
   "execution_count": 31,
   "id": "0a87ad1a-d0c5-4aa2-a973-3972bc46c77b",
   "metadata": {
    "tags": []
   },
   "outputs": [],
   "source": [
    "df = CZA"
   ]
  },
  {
   "cell_type": "code",
   "execution_count": 32,
   "id": "0696282b-a00b-4674-968d-f0aad60c4f64",
   "metadata": {
    "tags": []
   },
   "outputs": [],
   "source": [
    "def transform(df):\n",
    "    df.drop(df[df['p'].notnull()].index, inplace = True)\n",
    "    df.drop(df[df['l'] == 'place'].index, inplace = True)\n",
    "\n",
    "    df = df.merge(census, how = 'left', left_on = 'g', right_on = 'tract')\n",
    "    df['zip'] = df['zip'].astype('str')\n",
    "    df.loc[df['l'] == 'tract-2010','g'] = df['zip']\n",
    "\n",
    "    df = df.merge(comm, how = 'left', left_on = 'g', right_on = 'ZCTA5')\n",
    "    df['zip'] = df['zip'].astype('str')\n",
    "    df.loc[df['l'] == 'tract-2010','g'] = df['zip']\n",
    "\n",
    "    df.loc[df['g'].str.len() == 5,'g'] = df['CHGOCA']\n",
    "    df['g'] = df['g'].str.replace('1714000-','')\n",
    "\n",
    "    df = neighbor.merge(df, how = 'left', left_on = ['g','d'], right_on = ['g','d'])\n",
    "    df.dropna(subset = 'v_y',inplace = True)\n",
    "    df.rename(columns = {'a_x':'mh_stat','v_x':'mh_val','v_y':'crim_val'}, inplace = True)\n",
    "    return df"
   ]
  },
  {
   "cell_type": "code",
   "execution_count": null,
   "id": "2bcfcc19-b591-4a82-9088-50df8316e9e5",
   "metadata": {
    "tags": []
   },
   "outputs": [
    {
     "name": "stdout",
     "output_type": "stream",
     "text": [
      "('lr', 10.595690246612586, 10.503987616091067)\n",
      "('lasso', 11.805790967379133, 11.764964385227655)\n",
      "('rg', 10.532918472290946, 10.451252699398585)\n"
     ]
    }
   ],
   "source": [
    "values = []\n",
    "for stat in [CZA, CZB, CZD, CZH, CZL, CZM, CZO, CZP, CZR, CZS, CZT, CZV]:\n",
    "    X = transform(stat)[['mh_stat','mh_val','lat','long','d','crim_val']]\n",
    "    avgs = X.groupby(['mh_stat','mh_val','lat','long'])['crim_val'].agg('mean')\n",
    "    X['crim_val'] = X.groupby(['mh_stat','mh_val','lat','long'])['crim_val'].transform(lambda x: avgs[x.name])\n",
    "    \n",
    "    y = X['crim_val']\n",
    "    X = X.drop(columns = ['crim_val','d'])\n",
    "    \n",
    "    X = pd.get_dummies(X, columns = ['mh_stat'])\n",
    "    \n",
    "    X_train, X_test, y_train, y_test = train_test_split(X, y, random_state=42)\n",
    "\n",
    "    ss = StandardScaler()\n",
    "    X_train = ss.fit_transform(X_train)\n",
    "    X_test = ss.transform(X_test)\n",
    "    \n",
    "    poly = PolynomialFeatures()\n",
    "    X_train = poly.fit_transform(X_train)\n",
    "    X_test = poly.transform(X_test)\n",
    "    \n",
    "    base = [np.mean(y_train)] * len(y_test)\n",
    "    baseline = mean_squared_error(y_test, base, squared=False)\n",
    "    \n",
    "    lr = LinearRegression()\n",
    "    lr.fit(X_train, y_train)\n",
    "    lr_train = mean_squared_error(y_train, lr.predict(X_train), squared=False)\n",
    "    lr_test = mean_squared_error(y_test, lr.predict(X_test), squared=False)\n",
    "    print(('lr',lr_train,lr_test))\n",
    "    \n",
    "    lasso = Lasso()\n",
    "    lasso.fit(X_train, y_train)\n",
    "    lasso_train = mean_squared_error(y_train,lasso.predict(X_train), squared = False)\n",
    "    lasso_test = mean_squared_error(y_test, lasso.predict(X_test), squared=False)\n",
    "    print(('lasso',lasso_train, lasso_test))\n",
    "    \n",
    "    rg = Ridge()\n",
    "    rg.fit(X_train, y_train)\n",
    "    rg_train = mean_squared_error(y_train,rg.predict(X_train), squared = False) \n",
    "    rg_test = mean_squared_error(y_test, rg.predict(X_test), squared=False)\n",
    "    print(('rg',rg_train,rg_test))\n",
    "    \n",
    "    knn = KNeighborsRegressor()\n",
    "    knn.fit(X_train, y_train)\n",
    "    knn_train = mean_squared_error(y_train,knn.predict(X_train), squared = False)\n",
    "    knn_test = mean_squared_error(y_test, knn.predict(X_test), squared=False)\n",
    "    print(('knn',knn_train,knn_test))\n",
    "\n",
    "    dt = DecisionTreeRegressor()\n",
    "    dt.fit(X_train, y_train)\n",
    "    dt_train = mean_squared_error(y_train,dt.predict(X_train), squared = False) \n",
    "    dt_test = mean_squared_error(y_test, dt.predict(X_test), squared=False)\n",
    "    print(('dt',dt_train,dt_test))\n",
    "\n",
    "    rf = RandomForestRegressor()\n",
    "    rf.fit(X_train, y_train)\n",
    "    rf_train = mean_squared_error(y_train,rf.predict(X_train), squared = False)\n",
    "    rf_test = mean_squared_error(y_test, rf.predict(X_test), squared=False)\n",
    "    print(('rf',rf_train,rf_test))\n",
    "\n",
    "    abr = AdaBoostRegressor()\n",
    "    abr.fit(X_train, y_train)\n",
    "    abr_train = mean_squared_error(y_train,abr.predict(X_train), squared = False)\n",
    "    abr_test = mean_squared_error(y_test, abr.predict(X_test), squared=False)\n",
    "    print(('abr',abr_train,abr_test))\n",
    "    values.append([baseline, lr_train, lr_test, lasso_train, lasso_test, rg_train, rg_test, knn_train, knn_test, dt_train, dt_test, rf_train, rf_test, abr_train, abr_test])"
   ]
  },
  {
   "cell_type": "code",
   "execution_count": null,
   "id": "e903d9a5-1c00-4080-9abf-fe23adb485f5",
   "metadata": {
    "tags": []
   },
   "outputs": [],
   "source": [
    "errors = pd.DataFrame(values, columns = ['baseline', 'lr_train', 'lr_test', 'lasso_train', 'lasso_test', \n",
    "                                'rg_train', 'rg_test', 'knn_train', 'knn_test', \n",
    "                                'dt_train', 'dt_test', 'rf_train', 'rf_test', \n",
    "                                'abr_train', 'abr_test'])"
   ]
  },
  {
   "cell_type": "code",
   "execution_count": null,
   "id": "850c29cb-8dd2-42b3-b9bd-abb9aab8f4bb",
   "metadata": {
    "tags": []
   },
   "outputs": [],
   "source": [
    "columns = pd.DataFrame(['CZA','CZB', 'CZD', 'CZH', 'CZL','CZM', 'CZO', 'CZP', 'CZR', 'CZS', 'CZT', 'CZV'])"
   ]
  },
  {
   "cell_type": "code",
   "execution_count": null,
   "id": "6113147c-4038-4e23-bd6a-201c0d8f1b70",
   "metadata": {
    "tags": []
   },
   "outputs": [],
   "source": [
    "errors = pd.concat([errors,columns], axis = 1)"
   ]
  },
  {
   "cell_type": "code",
   "execution_count": null,
   "id": "fb8c40e3-fc57-4773-a2d1-44b8e21aecf1",
   "metadata": {
    "tags": []
   },
   "outputs": [],
   "source": [
    "errors.set_index(0, inplace = True)"
   ]
  },
  {
   "cell_type": "code",
   "execution_count": null,
   "id": "24666d36-4d20-40ad-9bdb-1c7c5b747543",
   "metadata": {
    "tags": []
   },
   "outputs": [],
   "source": [
    "errors.to_csv('../data/errors.csv')"
   ]
  },
  {
   "cell_type": "code",
   "execution_count": null,
   "id": "63e91c24-f06d-43b5-ba85-38e902d11f46",
   "metadata": {
    "tags": []
   },
   "outputs": [],
   "source": [
    "errors.describe()"
   ]
  },
  {
   "cell_type": "code",
   "execution_count": null,
   "id": "6d5e7f56-74c0-4c05-b837-c93ff5e5e7da",
   "metadata": {},
   "outputs": [],
   "source": []
  },
  {
   "cell_type": "code",
   "execution_count": null,
   "id": "afeafefb-b400-4f21-ab08-fe413b562de6",
   "metadata": {
    "tags": []
   },
   "outputs": [
    {
     "name": "stdout",
     "output_type": "stream",
     "text": [
      "{'n_neighbors': 3, 'p': 1}\n"
     ]
    }
   ],
   "source": [
    "for stat in [CZA, CZB, CZD, CZH, CZL, CZM, CZO, CZP, CZR, CZS, CZT, CZV]:\n",
    "    X = transform(stat)[['mh_stat','mh_val','lat','long','d','crim_val']]\n",
    "    avgs = X.groupby(['mh_stat','mh_val','lat','long'])['crim_val'].agg('mean')\n",
    "    X['crim_val'] = X.groupby(['mh_stat','mh_val','lat','long'])['crim_val'].transform(lambda x: avgs[x.name])\n",
    "    \n",
    "    y = X['crim_val']\n",
    "    X = X.drop(columns = ['crim_val','d'])\n",
    "    \n",
    "    X = pd.get_dummies(X, columns = ['mh_stat'])\n",
    "    \n",
    "    X_train, X_test, y_train, y_test = train_test_split(X, y, random_state=42)\n",
    "\n",
    "    ss = StandardScaler()\n",
    "    X_train = ss.fit_transform(X_train)\n",
    "    X_test = ss.transform(X_test)\n",
    "    \n",
    "    poly = PolynomialFeatures()\n",
    "    X_train = poly.fit_transform(X_train)\n",
    "    X_test = poly.transform(X_test)\n",
    "    \n",
    "    gs = GridSearchCV(KNeighborsRegressor(),\n",
    "                      param_grid = {'n_neighbors':[3,5,7,10,15],\n",
    "                                   'p':[1,2]},\n",
    "                      cv = 5,\n",
    "                      n_jobs = -1)\n",
    "    \n",
    "    gs.fit(X_train, y_train)\n",
    "    print(gs.best_params_)"
   ]
  },
  {
   "cell_type": "code",
   "execution_count": null,
   "id": "10b54611-2d93-43c8-bfc6-ffb19ba1ed69",
   "metadata": {},
   "outputs": [],
   "source": [
    ", CZB, CZD, CZH, CZL, CZM, CZO, CZP, CZR, CZS, CZT, CZV"
   ]
  },
  {
   "cell_type": "code",
   "execution_count": 221,
   "id": "346a094b-7be1-4a83-acb1-cfdde80b0cad",
   "metadata": {
    "tags": []
   },
   "outputs": [],
   "source": [
    "for stat in [CZA]:\n",
    "    X = transform(stat)[['mh_stat','mh_val','lat','long','d','crim_val']]\n",
    "    avgs = X.groupby(['mh_stat','mh_val','lat','long'])['crim_val'].agg('mean')\n",
    "    X['crim_val'] = X.groupby(['mh_stat','mh_val','lat','long'])['crim_val'].transform(lambda x: avgs[x.name])\n",
    "    \n",
    "    y = X['crim_val']\n",
    "    X = X.drop(columns = ['crim_val','d'])\n",
    "    \n",
    "    X = pd.get_dummies(X, columns = ['mh_stat'])\n",
    "    \n",
    "    X_train, X_test, y_train, y_test = train_test_split(X, y, random_state=42)\n",
    "\n",
    "    ss = StandardScaler()\n",
    "    X_train = ss.fit_transform(X_train)\n",
    "    X_test = ss.transform(X_test)\n",
    "    \n",
    "    poly = PolynomialFeatures()\n",
    "    X_train = poly.fit_transform(X_train)\n",
    "    X_test = poly.transform(X_test)\n",
    "    \n",
    "    knn = KNeighborsRegressor(n_neighbors=3)\n",
    "    knn.fit(X_train,y_train)\n",
    "    y_pred = knn.predict(X_test)"
   ]
  },
  {
   "cell_type": "code",
   "execution_count": 223,
   "id": "9fe06cac-98c0-4d9b-b373-4182a0a7a51e",
   "metadata": {},
   "outputs": [
    {
     "data": {
      "text/plain": [
       "[array([[ 1.        , -0.72260815, -1.51503973, ...,  0.33169827,\n",
       "          0.3333699 ,  0.33504995],\n",
       "        [ 1.        , -0.091508  , -0.48239101, ...,  0.33169827,\n",
       "          0.3333699 ,  0.33504995],\n",
       "        [ 1.        , -0.4717863 ,  1.03157575, ...,  0.33169827,\n",
       "          0.3333699 ,  0.33504995],\n",
       "        ...,\n",
       "        [ 1.        ,  2.837444  ,  0.4378657 , ...,  3.01478808,\n",
       "         -1.0050396 ,  0.33504995],\n",
       "        [ 1.        , -0.3544664 ,  1.23083567, ...,  0.33169827,\n",
       "          0.3333699 ,  0.33504995],\n",
       "        [ 1.        , -0.86824665, -0.27181914, ...,  0.33169827,\n",
       "         -0.99498567,  2.98462961]]),\n",
       " array([50.63247933, 18.938757  ,  7.79390601, ..., 63.73305938,\n",
       "        13.3781609 , 23.45584757])]"
      ]
     },
     "execution_count": 223,
     "metadata": {},
     "output_type": "execute_result"
    }
   ],
   "source": [
    "[X_test,y_pred]"
   ]
  },
  {
   "cell_type": "code",
   "execution_count": null,
   "id": "cea3c84e-cbed-4656-ad6f-0b72624c7c34",
   "metadata": {},
   "outputs": [],
   "source": []
  },
  {
   "cell_type": "code",
   "execution_count": null,
   "id": "db872a38-4f60-40fc-a906-f22b0ff1f52e",
   "metadata": {},
   "outputs": [],
   "source": []
  }
 ],
 "metadata": {
  "kernelspec": {
   "display_name": "Python 3 (ipykernel)",
   "language": "python",
   "name": "python3"
  },
  "language_info": {
   "codemirror_mode": {
    "name": "ipython",
    "version": 3
   },
   "file_extension": ".py",
   "mimetype": "text/x-python",
   "name": "python",
   "nbconvert_exporter": "python",
   "pygments_lexer": "ipython3",
   "version": "3.9.13"
  }
 },
 "nbformat": 4,
 "nbformat_minor": 5
}
