{
 "cells": [
  {
   "cell_type": "code",
   "execution_count": 1,
   "id": "fa278993",
   "metadata": {},
   "outputs": [],
   "source": [
    "from __future__ import print_function\n",
    "import sys\n",
    "import os\n",
    "import datetime\n",
    "import numpy as np\n",
    "import pandas as pd\n",
    "import matplotlib.pyplot as plt\n",
    "# We need this for palette management\n",
    "from matplotlib.colors import ListedColormap\n",
    "import seaborn as sns\n",
    "from sodapy import Socrata\n",
    "\n",
    "from IPython.display import display, HTML\n",
    "from IPython.core.interactiveshell import InteractiveShell\n",
    "InteractiveShell.ast_node_interactivity = \"all\"\n",
    "\n",
    "# Matplotlib config\n",
    "%matplotlib inline\n",
    "\n",
    "# Seaborn config\n",
    "sns.set(style = \"darkgrid\")\n",
    "\n",
    "# Set a random seed so that possible random operations performed by us can be replicated by others.\n",
    "np.random.seed(19730618)"
   ]
  },
  {
   "cell_type": "code",
   "execution_count": 2,
   "id": "fe2213ae",
   "metadata": {},
   "outputs": [],
   "source": [
    "# Global functions\n",
    "\n",
    "# Helper function that will redirect printing to stderr.\n",
    "# Used when printing for exception handling etc.\n",
    "def print_stderr(*args, **kwargs):\n",
    "    print(*args, file = sys.stderr, **kwargs)\n",
    "\n",
    "# Returns the ceiling of a number, rounded according to the 'to' parameter\n",
    "# i.e. to thousands, to hundred-thousands etc.\n",
    "def ceiling(num, to = 100000):\n",
    "    y, z = divmod(num, to)\n",
    "    \n",
    "    return int(to * (y + 1))\n",
    "\n",
    "def normalize(df_column):\n",
    "    return (df_column - df_column.min()) / (df_column.max() - df_column.min())"
   ]
  },
  {
   "cell_type": "code",
   "execution_count": null,
   "id": "8ecacb04",
   "metadata": {},
   "outputs": [],
   "source": []
  },
  {
   "cell_type": "code",
   "execution_count": null,
   "id": "37c2053b",
   "metadata": {},
   "outputs": [],
   "source": []
  },
  {
   "cell_type": "code",
   "execution_count": null,
   "id": "1340f782",
   "metadata": {},
   "outputs": [],
   "source": []
  },
  {
   "cell_type": "code",
   "execution_count": null,
   "id": "3211b893",
   "metadata": {},
   "outputs": [],
   "source": []
  },
  {
   "cell_type": "code",
   "execution_count": null,
   "id": "1f22f04f",
   "metadata": {},
   "outputs": [],
   "source": []
  },
  {
   "cell_type": "code",
   "execution_count": null,
   "id": "4153e3c3",
   "metadata": {},
   "outputs": [],
   "source": []
  }
 ],
 "metadata": {
  "kernelspec": {
   "display_name": "Python 3 (ipykernel)",
   "language": "python",
   "name": "python3"
  },
  "language_info": {
   "codemirror_mode": {
    "name": "ipython",
    "version": 3
   },
   "file_extension": ".py",
   "mimetype": "text/x-python",
   "name": "python",
   "nbconvert_exporter": "python",
   "pygments_lexer": "ipython3",
   "version": "3.10.9"
  }
 },
 "nbformat": 4,
 "nbformat_minor": 5
}
